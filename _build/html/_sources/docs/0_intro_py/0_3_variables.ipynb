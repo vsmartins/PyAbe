{
 "cells": [
  {
   "cell_type": "markdown",
   "source": [
    "# Variables\n",
    "\n",
    "## Overview\n",
    "In your first code, you did a simple printing, but coding is way more excited than this. You can use variables to store data\n",
    "values. Variables are like boxes that stores information that can be referenced and manipulated throughout a program.\n",
    "\n",
    "When you want to create a variable, you choose a name for the variable and assigning a value to it using the assignment operator (=). Variables can store various types of data, such as numbers, strings, lists, or even more complex objects.\n",
    "\n",
    "## Variable names\n",
    "\n",
    "Let's understand the basic rules for variable names:\n",
    "* Variables cannot start with a digit\n",
    "* Variables can contain letters (a-z, A-Z), digits (0-9), and underscores (_)\n",
    "* Variables are case-sensitive, so myVariable and myvariable would be considered different variables\n",
    "\n",
    "It's good practice to use descriptive and meaningful names for variables to enhance code readability. Once you create a variable, you can access the value of a variable by simply referring to its name in your code."
   ],
   "metadata": {
    "collapsed": false
   }
  },
  {
   "cell_type": "code",
   "execution_count": null,
   "outputs": [],
   "source": [
    "# Creating variables and assigning values\n",
    "lake_name = \"Lake Michigan\"\n",
    "depth_ft = 279\n",
    "min_width_mi = 91.0\n",
    "\n",
    "# Accessing and using variable values\n",
    "print(\"What is the lake name?\", lake_name)\n",
    "print(\"What is the lake depth:\", depth_ft)\n",
    "print(\"What is the minimum lake width:\", min_width_mi)"
   ],
   "metadata": {
    "collapsed": false
   }
  },
  {
   "cell_type": "code",
   "execution_count": null,
   "outputs": [],
   "source": [
    "# Modifying variable values\n",
    "lake_name = 'Lake Pontchartrain'\n",
    "depth_ft = 65\n",
    "\n",
    "# Updated values\n",
    "print(\"Updated Name:\", lake_name)\n",
    "print(\"Updated depth:\", depth_ft)"
   ],
   "metadata": {
    "collapsed": false
   }
  },
  {
   "cell_type": "markdown",
   "source": [
    "## Multiple values\n",
    "\n",
    "In Python, you can assign multiple values (by separating the values with commas) to multiple variables simultaneously."
   ],
   "metadata": {
    "collapsed": false
   }
  },
  {
   "cell_type": "code",
   "execution_count": null,
   "outputs": [],
   "source": [
    "# Multiple assignment\n",
    "satellite, launch_year, weight  = \"Landsat8\", 2013, 2071.5\n",
    "\n",
    "print(\"Satellite:\", satellite)\n",
    "print(\"Launch year:\", launch_year)\n",
    "print(\"Weight:\", weight)"
   ],
   "metadata": {
    "collapsed": false
   }
  },
  {
   "cell_type": "markdown",
   "source": [
    "## Unpacking values\n",
    "\n",
    "You can assign multiple values from an iterable (like a list or tuple) to multiple variables using unpacking."
   ],
   "metadata": {
    "collapsed": false
   }
  },
  {
   "cell_type": "code",
   "execution_count": null,
   "outputs": [],
   "source": [
    "# Unpacking\n",
    "values = (\"Landsat8\", 2013, 2071.5)\n",
    "satellite, launch_year, weight = values\n",
    "\n",
    "print(\"Satellite:\", satellite)\n",
    "print(\"Launch year:\", launch_year)\n",
    "print(\"Weight:\", weight)"
   ],
   "metadata": {
    "collapsed": false
   }
  },
  {
   "cell_type": "markdown",
   "source": [
    ":::{note}\n",
    " The number of variables on the left side of the assignment operator should match the number of values in the iterable.\n",
    " These techniques allow you to assign multiple values to multiple variables in a concise and efficient manner, making your code more readable and reducing the number of lines needed for assignment.\n",
    ":::"
   ],
   "metadata": {
    "collapsed": false
   }
  }
 ],
 "metadata": {
  "kernelspec": {
   "display_name": "Python 3 (ipykernel)",
   "language": "python",
   "name": "python3"
  },
  "language_info": {
   "codemirror_mode": {
    "name": "ipython",
    "version": 3
   },
   "file_extension": ".py",
   "mimetype": "text/x-python",
   "name": "python",
   "nbconvert_exporter": "python",
   "pygments_lexer": "ipython3",
   "version": "3.7.16"
  },
  "toc": {
   "base_numbering": 1,
   "nav_menu": {},
   "number_sections": false,
   "sideBar": true,
   "skip_h1_title": false,
   "title_cell": "Table of Contents",
   "title_sidebar": "Contents",
   "toc_cell": false,
   "toc_position": {},
   "toc_section_display": true,
   "toc_window_display": false
  }
 },
 "nbformat": 4,
 "nbformat_minor": 4
}
