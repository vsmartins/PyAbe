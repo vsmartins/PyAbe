{
 "cells": [
  {
   "cell_type": "markdown",
   "source": [
    "# First syntax\n",
    "\n",
    "Let's create a Python file and write code to print your first code:\n",
    "\n",
    "1. Open a text editor (IDE) of your choice, and create a new file (e.g., \"first_code.py\") with a .py extension, which indicates that it is a Python file.\n",
    "\n",
    "2. In the newly created Python file, write the following code:"
   ],
   "metadata": {
    "collapsed": false
   }
  },
  {
   "cell_type": "markdown",
   "source": [
    "> print(\"My first code!\")"
   ],
   "metadata": {
    "collapsed": false
   }
  },
  {
   "cell_type": "markdown",
   "source": [
    "3. Save the file.\n",
    "\n",
    "4. Open the anaconda terminal (or command prompt) and the Python script by typing\n",
    "\n",
    "> python first_code.py in the terminal\n",
    "\n",
    "and press Enter."
   ],
   "metadata": {
    "collapsed": false
   }
  },
  {
   "cell_type": "code",
   "execution_count": null,
   "outputs": [],
   "source": [
    "\"My first code!\""
   ],
   "metadata": {
    "collapsed": false
   }
  },
  {
   "cell_type": "markdown",
   "source": [
    "```{warning}\n",
    "If the Python executable is in your system's PATH environment variable,\n",
    "the script will be executed, and you will see the output \"My first code!\" printed on the terminal.\n",
    "\n",
    "If you didn't have any result, you will need to specify the Python path (e.g., \"C:\\Program Files\\Anaconda\\python.exe\" in Windows OS)\n",
    "```\n",
    "\n",
    "Congratulations! You have run a (simple) Python code. Feel free to modify the code and experiment with Python programming."
   ],
   "metadata": {
    "collapsed": false
   }
  }
 ],
 "metadata": {
  "kernelspec": {
   "display_name": "Python 3 (ipykernel)",
   "language": "python",
   "name": "python3"
  },
  "language_info": {
   "codemirror_mode": {
    "name": "ipython",
    "version": 3
   },
   "file_extension": ".py",
   "mimetype": "text/x-python",
   "name": "python",
   "nbconvert_exporter": "python",
   "pygments_lexer": "ipython3",
   "version": "3.7.16"
  },
  "toc": {
   "base_numbering": 1,
   "nav_menu": {},
   "number_sections": false,
   "sideBar": true,
   "skip_h1_title": false,
   "title_cell": "Table of Contents",
   "title_sidebar": "Contents",
   "toc_cell": false,
   "toc_position": {},
   "toc_section_display": true,
   "toc_window_display": false
  }
 },
 "nbformat": 4,
 "nbformat_minor": 4
}
