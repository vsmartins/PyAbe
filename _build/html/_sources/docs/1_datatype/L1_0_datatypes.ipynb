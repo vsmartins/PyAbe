{
 "cells": [
  {
   "cell_type": "markdown",
   "source": [
    "# <span style=\"color:black;\">Intro to Data Types</span>\n",
    "## <span style=\"color:black;\">Overview</span>\n",
    "\n",
    "A data type defines the type of variable that you can save to use in your program. Understanding the different data types is **crucial** and each data type has its own set of operations and behaviors.\n",
    "\n",
    "Python data types:\n",
    "\n",
    "* **Numeric Types**: Integers (`int`), floating-point numbers (float), and complex numbers (complex)\n",
    "* **Text Type**: Strings (`str`) represent sequences of characters enclosed in single quotes ('') or double quotes (\"\")\n",
    "* **Boolean Type**: Boolean (`bool`), which represents either True or False values\n",
    "* **Sequence Types**: Lists (`list`), tuples (tuple), and range objects (range)\n",
    "* **Set Types**: Set (`set`) and frozenset (frozenset), which represent unordered collections of unique elements.\n",
    "* **Mapping Type**: Dictionary (`dict`), which stores key-value pairs.\n",
    "* **None Type**: `None`, which represents the absence of a value or a null value.\n",
    "\n",
    "## <span style=\"color:black;\">Find the type</span>\n",
    "\n",
    "When we assign a value to a new variable, we are also indicating the data type. You can use \"type()\" function to identify the data type of specific variable."
   ],
   "metadata": {
    "collapsed": false
   }
  },
  {
   "cell_type": "code",
   "execution_count": null,
   "outputs": [],
   "source": [
    "# Define variables\n",
    "reservoir_name = \"Ross Reservoir\"\n",
    "print(type(reservoir_name))"
   ],
   "metadata": {
    "collapsed": false
   }
  },
  {
   "cell_type": "code",
   "execution_count": null,
   "outputs": [],
   "source": [
    "depth_ft = 279\n",
    "print(type(depth_ft))"
   ],
   "metadata": {
    "collapsed": false
   }
  },
  {
   "cell_type": "code",
   "execution_count": null,
   "outputs": [],
   "source": [
    "min_width_mi = 91.0\n",
    "print(type(min_width_mi))"
   ],
   "metadata": {
    "collapsed": false
   }
  },
  {
   "cell_type": "code",
   "execution_count": null,
   "outputs": [],
   "source": [
    "is_lake = True\n",
    "print(type(is_lake))"
   ],
   "metadata": {
    "collapsed": false
   }
  },
  {
   "cell_type": "markdown",
   "source": [
    ":::{important}\n",
    "Python is a dynamically typed language, which means that variables can change their data type during runtime based on the assigned value\n",
    ":::"
   ],
   "metadata": {
    "collapsed": false
   }
  }
 ],
 "metadata": {
  "kernelspec": {
   "display_name": "Python 3 (ipykernel)",
   "language": "python",
   "name": "python3"
  },
  "language_info": {
   "codemirror_mode": {
    "name": "ipython",
    "version": 3
   },
   "file_extension": ".py",
   "mimetype": "text/x-python",
   "name": "python",
   "nbconvert_exporter": "python",
   "pygments_lexer": "ipython3",
   "version": "3.7.16"
  },
  "toc": {
   "base_numbering": 1,
   "nav_menu": {},
   "number_sections": false,
   "sideBar": true,
   "skip_h1_title": false,
   "title_cell": "Table of Contents",
   "title_sidebar": "Contents",
   "toc_cell": false,
   "toc_position": {},
   "toc_section_display": true,
   "toc_window_display": false
  }
 },
 "nbformat": 4,
 "nbformat_minor": 4
}
