{
 "cells": [
  {
   "cell_type": "markdown",
   "source": [
    "# Strings\n",
    "\n",
    "## Overview\n",
    "\n",
    "In Python, a string is a sequence of characters enclosed in either single quotes (') or double quotes (\"). Strings are a fundamental data type used to represent and manipulate text in Python programs.\n",
    "\n",
    "Strings can contain letters, digits, symbols, whitespace, and special characters. They can be used to store and represent textual information, such as names, sentences, URLs, file paths, and more. Here are a few examples of strings:\n",
    "\n",
    "## Examples 1"
   ],
   "metadata": {
    "collapsed": false
   }
  },
  {
   "cell_type": "code",
   "execution_count": null,
   "outputs": [],
   "source": [
    "name = \"Alice\"\n",
    "message = 'Hello, world!'\n",
    "address = \"123 Main Street\""
   ],
   "metadata": {
    "collapsed": false
   }
  },
  {
   "cell_type": "markdown",
   "source": [],
   "metadata": {
    "collapsed": false
   }
  },
  {
   "cell_type": "markdown",
   "source": [
    "## Example 2\n",
    "Strings in Python are immutable, meaning they cannot be changed once they are created. However, you can perform various operations on strings, such as concatenation, slicing, formatting, and more. Here's an example:"
   ],
   "metadata": {
    "collapsed": false
   }
  },
  {
   "cell_type": "code",
   "execution_count": null,
   "outputs": [],
   "source": [
    "# Concatenation\n",
    "greeting = \"Hello\"\n",
    "name = \"Alice\"\n",
    "message = greeting + \", \" + name\n",
    "print(message)  # Hello, Alice\n",
    "\n",
    "# Slicing\n",
    "text = \"Hello, world!\"\n",
    "substring = text[7:12]\n",
    "print(substring)  # world\n",
    "\n",
    "# Formatting\n",
    "age = 25\n",
    "info = \"My name is {} and I'm {} years old.\".format(name, age)\n",
    "print(info)  # My name is Alice and I'm 25 years old."
   ],
   "metadata": {
    "collapsed": false
   }
  },
  {
   "cell_type": "markdown",
   "source": [],
   "metadata": {
    "collapsed": false
   }
  },
  {
   "cell_type": "markdown",
   "source": [
    "\n",
    "##  String Methods\n",
    "\n",
    "Here are some of the most common string methods. A method is like a function, but it runs \"on\" an object. If the variable s is a string, then the code s.lower() runs the lower() method on that string object and returns the result (this idea of a method running on an object is one of the basic ideas that make up Object Oriented Programming, OOP). Here are some of the most common string methods:\n",
    "\n",
    "\n",
    "| **String methods** | **Descriptions** |\n",
    "|----------| ---------- |\n",
    "| `s.lower()`, `s.upper()` | returns the lowercase or uppercase version of the string  |\n",
    "| `s.strip()` | returns a string with whitespace removed from the start and end   |\n",
    "| `s.isalpha()`/`s.isdigit()`/`s.isspace()` | tests if all the string chars are in the various character classes |\n",
    "| `s.startswith('other')`, s.endswith('other')` | tests if the string starts or ends with the given other string   |\n",
    "| `s.find('other')` | searches for the given other string (not a regular expression) within s, and returns the first index where it begins or -1 if not found   |\n",
    "| `s.replace('old', 'new')` | returns a string where all occurrences of 'old' have been replaced by 'new'   |\n",
    "| `s.split('delim')` | returns a list of substrings separated by the given delimiter. The delimiter is not a regular expression, it's just text. 'aaa,bbb,ccc'.split(',') -> ['aaa', 'bbb', 'ccc'].|\n",
    "| `s.join(list)` | opposite of split(), joins the elements in the given list together using the string as the delimiter. e.g. '---'.join(['aaa', 'bbb', 'ccc']) -> aaa---bbb---ccc |\n"
   ],
   "metadata": {
    "collapsed": false
   }
  },
  {
   "cell_type": "code",
   "execution_count": null,
   "outputs": [],
   "source": [
    "# upper() - Converts a string to uppercase:\n",
    "my_string = \"hello, world!\"\n",
    "print(my_string.upper())  # \"HELLO, WORLD!\""
   ],
   "metadata": {
    "collapsed": false
   }
  },
  {
   "cell_type": "code",
   "execution_count": null,
   "outputs": [],
   "source": [
    "# lower() - Converts a string to lowercase:\n",
    "my_string = \"HELLO, WORLD!\"\n",
    "print(my_string.lower())  # \"hello, world!\""
   ],
   "metadata": {
    "collapsed": false
   }
  },
  {
   "cell_type": "code",
   "execution_count": null,
   "outputs": [],
   "source": [
    "# capitalize() - Capitalizes the first character of a string and converts the rest to lowercase:\n",
    "my_string = \"hello, world!\"\n",
    "print(my_string.capitalize())  # \"Hello, world!\""
   ],
   "metadata": {
    "collapsed": false
   }
  },
  {
   "cell_type": "code",
   "execution_count": null,
   "outputs": [],
   "source": [
    "# count(substring) - Returns the number of occurrences of a substring in a string:\n",
    "my_string = \"hello, hello, world!\"\n",
    "print(my_string.count(\"hello\"))  # 2"
   ],
   "metadata": {
    "collapsed": false
   }
  },
  {
   "cell_type": "code",
   "execution_count": null,
   "outputs": [],
   "source": [
    "# startswith(prefix) - Checks if a string starts with a specific prefix:\n",
    "my_string = \"Hello, world!\"\n",
    "print(my_string.startswith(\"Hello\"))  # True"
   ],
   "metadata": {
    "collapsed": false
   }
  },
  {
   "cell_type": "code",
   "execution_count": null,
   "outputs": [],
   "source": [
    "# endswith(suffix) - Checks if a string ends with a specific suffix:\n",
    "my_string = \"Hello, world!\"\n",
    "print(my_string.endswith(\"world!\"))  # True"
   ],
   "metadata": {
    "collapsed": false
   }
  },
  {
   "cell_type": "code",
   "execution_count": null,
   "outputs": [],
   "source": [
    "# split(separator) - Splits a string into a list of substrings based on a separator:\n",
    "my_string = \"Hello, world!\"\n",
    "print(my_string.split(\", \"))  # [\"Hello\", \"world!\"]"
   ],
   "metadata": {
    "collapsed": false
   }
  },
  {
   "cell_type": "code",
   "execution_count": null,
   "outputs": [],
   "source": [
    "# replace(old, new) - Replaces occurrences of a substring with a new value:\n",
    "my_string = \"Hello, world!\"\n",
    "print(my_string.replace(\"world\", \"Python\"))  # \"Hello, Python!\""
   ],
   "metadata": {
    "collapsed": false
   }
  },
  {
   "cell_type": "code",
   "execution_count": null,
   "outputs": [],
   "source": [
    "# strip() - Removes leading and trailing whitespace from a string:\n",
    "my_string = \"   hello, world!   \"\n",
    "print(my_string.strip())  # \"hello, world!\""
   ],
   "metadata": {
    "collapsed": false
   }
  },
  {
   "cell_type": "markdown",
   "source": [
    "## Escaping characters\n",
    "\n",
    "Escaping characters in Python refers to the practice of using escape sequences to include special characters or symbols within a string that would otherwise be interpreted differently. By using the escape character \\, you can include characters such as quotes, newlines, tabs, and backslashes within a string.\n",
    "\n",
    "Here are some commonly used escape sequences in Python:\n",
    "\n",
    "`\\\"`: Double quote\n",
    "`\\'`: Single quote\n",
    "`\\\\`: Backslash\n",
    "`\\n`: Newline\n",
    "`\\t`: Tab\n",
    "`\\b`: Backspace\n",
    "`\\r`: Carriage return\n",
    "\n",
    "In Python strings, the backslash \\ is a special character, also called the escape character. Prefixing any character with a backslash makes it an ordinary character. (Hint: Prefixing a backslash with a backshalsh makes it ordinary too!)\n"
   ],
   "metadata": {
    "collapsed": false
   }
  },
  {
   "cell_type": "code",
   "execution_count": null,
   "outputs": [],
   "source": [
    "my_string = 'It's a beautiful day!'"
   ],
   "metadata": {
    "collapsed": false
   }
  },
  {
   "cell_type": "code",
   "execution_count": null,
   "outputs": [],
   "source": [
    "my_string = 'It\\'s a beautiful day!'\n",
    "print(my_string)"
   ],
   "metadata": {
    "collapsed": false
   }
  },
  {
   "cell_type": "code",
   "execution_count": null,
   "outputs": [],
   "source": [
    "# Alternatively, you can also use double-quotes if your string contains a single-quote.\n",
    "my_string = \"It's a beautiful day!\""
   ],
   "metadata": {
    "collapsed": false
   }
  },
  {
   "cell_type": "markdown",
   "source": [
    "If a string contains both single and double quotes in Python, you can use triple quotes to ensure that the string is treated correctly. By enclosing the string within triple quotes (either triple single quotes ''' or triple double quotes \"\"\"), you can include both types of quotes without the need for escape sequences.\n"
   ],
   "metadata": {
    "collapsed": false
   }
  },
  {
   "cell_type": "code",
   "execution_count": null,
   "outputs": [],
   "source": [
    "latitude = '''37° 46' 26.2992\" N'''\n",
    "longitude = '''122° 25' 52.6692\" W'''\n",
    "print(latitude, longitude)"
   ],
   "metadata": {
    "collapsed": false
   }
  },
  {
   "cell_type": "markdown",
   "source": [
    ":::{warning}\n",
    "# Backslashes pose another problem when dealing with Windows paths\n",
    "path = 'C:\\Users\\ujaval'\n",
    "print(path)\n",
    "\n",
    "# Prefixing a string with r makes is a Raw string. Which doesn’t interpret backslash as a special character\n",
    "\n",
    "path = r'C:\\Users\\ujaval'\n",
    "print(path)\n",
    ":::"
   ],
   "metadata": {
    "collapsed": false
   }
  },
  {
   "cell_type": "markdown",
   "source": [
    "In Python, you can use formatted string literals, also known as f-strings, to easily include variables within strings. The \"f\" prefix before the string allows you to directly embed expressions inside curly braces {} within the string. The expressions inside the curly braces will be evaluated and replaced with their corresponding values. By using f-strings, you can easily construct dynamic strings that incorporate variables and expressions, making your code more concise and readable."
   ],
   "metadata": {
    "collapsed": false
   }
  },
  {
   "cell_type": "code",
   "execution_count": null,
   "outputs": [],
   "source": [
    "name = \"Alice\"\n",
    "age = 25\n",
    "profession = \"engineer\"\n",
    "\n",
    "# Using f-string to include variables inside a string\n",
    "message = f\"My name is {name}, I'm {age} years old, and I work as an {profession}.\"\n",
    "print(message)"
   ],
   "metadata": {
    "collapsed": false
   }
  }
 ],
 "metadata": {
  "kernelspec": {
   "display_name": "Python 3 (ipykernel)",
   "language": "python",
   "name": "python3"
  },
  "language_info": {
   "codemirror_mode": {
    "name": "ipython",
    "version": 3
   },
   "file_extension": ".py",
   "mimetype": "text/x-python",
   "name": "python",
   "nbconvert_exporter": "python",
   "pygments_lexer": "ipython3",
   "version": "3.7.16"
  },
  "toc": {
   "base_numbering": 1,
   "nav_menu": {},
   "number_sections": false,
   "sideBar": true,
   "skip_h1_title": false,
   "title_cell": "Table of Contents",
   "title_sidebar": "Contents",
   "toc_cell": false,
   "toc_position": {},
   "toc_section_display": true,
   "toc_window_display": false
  }
 },
 "nbformat": 4,
 "nbformat_minor": 4
}
