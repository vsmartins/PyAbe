{
 "cells": [
  {
   "cell_type": "markdown",
   "source": [
    "# <span style=\"color:black;\">Intro to Operators</span>\n",
    "\n",
    "Operators are special symbols that perform arithmetic, comparison, assignment, logical, and other operations with Python variables.\n",
    "\n",
    "Below are Python operators:\n",
    "\n",
    "* **Arithmetic**\n",
    "* **Assignment**\n",
    "* **Comparison**\n",
    "* **Logical**\n",
    "\n",
    "There are also *Bitwise Operators* and *special operators*, and you can search about the documentation for these operations. We will discuss the details and examples of each operation."
   ],
   "metadata": {
    "collapsed": false
   }
  }
 ],
 "metadata": {
  "kernelspec": {
   "display_name": "Python 3 (ipykernel)",
   "language": "python",
   "name": "python3"
  },
  "language_info": {
   "codemirror_mode": {
    "name": "ipython",
    "version": 3
   },
   "file_extension": ".py",
   "mimetype": "text/x-python",
   "name": "python",
   "nbconvert_exporter": "python",
   "pygments_lexer": "ipython3",
   "version": "3.7.16"
  },
  "toc": {
   "base_numbering": 1,
   "nav_menu": {},
   "number_sections": false,
   "sideBar": true,
   "skip_h1_title": false,
   "title_cell": "Table of Contents",
   "title_sidebar": "Contents",
   "toc_cell": false,
   "toc_position": {},
   "toc_section_display": true,
   "toc_window_display": false
  }
 },
 "nbformat": 4,
 "nbformat_minor": 4
}
