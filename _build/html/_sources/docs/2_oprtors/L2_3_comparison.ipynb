{
 "cells": [
  {
   "cell_type": "markdown",
   "source": [
    "# <span style=\"color:black;\">Comparison assignment</span>\n",
    "\n",
    "Comparison operators are used to compare two values or expressions and return a Boolean value (True or False) based on the comparison result.\n",
    "\n",
    "| Operation | Operator | Examples|\n",
    "|----------| ---------- | ---------- |\n",
    "| Is Equal To | `==`  | `10 == 8` is `False` |\n",
    "| Not Equal To | `!=`   | `10 != 8` is `Fals` |\n",
    "| Greater Than | `>`   | `10 > 8` is `True` |\n",
    "| Less Than | `<`   | `10 < 8` is `False`  |\n",
    "| Greater Than or Equal To | `>=`   | `10 >= 8` is `True` |\n",
    "| Less Than or Equal To | `<=`   | `10 <= 8` is `False` |"
   ],
   "metadata": {
    "collapsed": false
   }
  },
  {
   "cell_type": "markdown",
   "source": [
    "**Examples**"
   ],
   "metadata": {
    "collapsed": false
   }
  },
  {
   "cell_type": "code",
   "execution_count": null,
   "outputs": [],
   "source": [
    "# Comparison of two numbers\n",
    "# equal to\n",
    "test_comparison = 10 == 8\n",
    "print(test_comparison)"
   ],
   "metadata": {
    "collapsed": false
   }
  },
  {
   "cell_type": "code",
   "execution_count": null,
   "outputs": [],
   "source": [
    "# not equal to\n",
    "test_comparison = 10 != 8\n",
    "print(test_comparison)"
   ],
   "metadata": {
    "collapsed": false
   }
  },
  {
   "cell_type": "code",
   "execution_count": null,
   "outputs": [],
   "source": [
    "# greater than - it verifies if 10 is greater than 8\n",
    "test_comparison = 10 > 8\n",
    "print(test_comparison)"
   ],
   "metadata": {
    "collapsed": false
   }
  },
  {
   "cell_type": "code",
   "execution_count": null,
   "outputs": [],
   "source": [
    "# less than\n",
    "test_comparison = 10 < 8\n",
    "print(test_comparison)"
   ],
   "metadata": {
    "collapsed": false
   }
  },
  {
   "cell_type": "code",
   "execution_count": null,
   "outputs": [],
   "source": [
    "# greater than or equal to\n",
    "test_comparison = 10 >= 8\n",
    "print(test_comparison)"
   ],
   "metadata": {
    "collapsed": false
   }
  },
  {
   "cell_type": "code",
   "execution_count": null,
   "outputs": [],
   "source": [
    "# less than or equal to\n",
    "test_comparison = 10 <= 8\n",
    "print(test_comparison)"
   ],
   "metadata": {
    "collapsed": false
   }
  }
 ],
 "metadata": {
  "kernelspec": {
   "display_name": "Python 3 (ipykernel)",
   "language": "python",
   "name": "python3"
  },
  "language_info": {
   "codemirror_mode": {
    "name": "ipython",
    "version": 3
   },
   "file_extension": ".py",
   "mimetype": "text/x-python",
   "name": "python",
   "nbconvert_exporter": "python",
   "pygments_lexer": "ipython3",
   "version": "3.7.16"
  },
  "toc": {
   "base_numbering": 1,
   "nav_menu": {},
   "number_sections": false,
   "sideBar": true,
   "skip_h1_title": false,
   "title_cell": "Table of Contents",
   "title_sidebar": "Contents",
   "toc_cell": false,
   "toc_position": {},
   "toc_section_display": true,
   "toc_window_display": false
  }
 },
 "nbformat": 4,
 "nbformat_minor": 4
}
