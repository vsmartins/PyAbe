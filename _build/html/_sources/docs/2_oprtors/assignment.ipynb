{
 "cells": [
  {
   "cell_type": "markdown",
   "source": [
    "\n",
    "# Assignment Operator\n",
    "\n",
    "## Overview\n",
    "\n",
    "Assignment operators in Python are used to assign values to variables. They allow you to update the value of a variable based on an expression or operation. The assignment operator (=) is the most common one, but there are also compound assignment operators that combine an arithmetic operation with assignment. Here's an explanation of assignment operators:\n",
    "\n",
    "## Examples\n",
    "\n",
    "| Operation | Operator | Examples|\n",
    "|----------| ---------- | ---------- |\n",
    "| Assignment Operator\t | `=`  | `var_a = 10`   |\n",
    "| Multiplication Assignment\t | `*=`  | `var_a *= 3`  # var_a = var_a * 3  |\n",
    "| Division Assignment\t | `/=`   | `var_a /= 2  # var_a = var_a / 2`   |\n",
    "| Addition Assignment | `+=`   | `var_a += 5`  # var_a = var_a + 5 |\n",
    "| Subtraction Assignment | `-=`   | `var_a -= 2`  # var_a = var_a - 2   |\n",
    "| Remainder Assignment | `%=`   | `var_a %= 3  # var_a = var_a % 3`   |\n",
    "| Exponent Assignment | `**=`   | `var_a **= 2`  # var_a = var_a ** 2|\n"
   ],
   "metadata": {
    "collapsed": false
   }
  },
  {
   "cell_type": "code",
   "execution_count": null,
   "outputs": [],
   "source": [
    "# assign 10 to var_a\n",
    "var_a = 10\n",
    "\n",
    "# assign the multiplication of var_a by 3\n",
    "var_a *= 3\n",
    "print(var_a)\n",
    "\n",
    "# assign the division of var_a by 3\n",
    "var_a /= 2\n",
    "print(var_a)"
   ],
   "metadata": {
    "collapsed": false
   }
  }
 ],
 "metadata": {
  "kernelspec": {
   "display_name": "Python 3 (ipykernel)",
   "language": "python",
   "name": "python3"
  },
  "language_info": {
   "codemirror_mode": {
    "name": "ipython",
    "version": 3
   },
   "file_extension": ".py",
   "mimetype": "text/x-python",
   "name": "python",
   "nbconvert_exporter": "python",
   "pygments_lexer": "ipython3",
   "version": "3.7.16"
  },
  "toc": {
   "base_numbering": 1,
   "nav_menu": {},
   "number_sections": false,
   "sideBar": true,
   "skip_h1_title": false,
   "title_cell": "Table of Contents",
   "title_sidebar": "Contents",
   "toc_cell": false,
   "toc_position": {},
   "toc_section_display": true,
   "toc_window_display": false
  }
 },
 "nbformat": 4,
 "nbformat_minor": 4
}
