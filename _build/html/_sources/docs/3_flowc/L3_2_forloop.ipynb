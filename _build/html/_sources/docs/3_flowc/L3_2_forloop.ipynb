{
 "cells": [
  {
   "cell_type": "markdown",
   "source": [
    "# <span style=\"color:black;\">For loop</span>\n",
    "\n",
    "## <span style=\"color:black;\">Overview</span>\n",
    "\n",
    "The `for` loop performs the iteration over a sequence (e.g., string, list, tuple, or range) and executes a block of code for each element in the sequence.\n",
    "\n",
    "**General syntax**\n",
    "```python\n",
    "for element in sequence:\n",
    "    # block of code to be executed for each element\n",
    "```\n",
    "\n",
    "## <span style=\"color:black;\">Examples</span>"
   ],
   "metadata": {
    "collapsed": false
   }
  },
  {
   "cell_type": "code",
   "execution_count": null,
   "metadata": {
    "tags": [
     "popout",
     "remove-input",
     "remove-stdout"
    ]
   },
   "outputs": [],
   "source": [
    "# Example 1\n",
    "abe_topics = ['agriculture', 'technology', 'water', 'biomedical']\n",
    "for topic in abe_topics:\n",
    "    print(topic)  # simple use of for loop to print one topic each time"
   ]
  },
  {
   "cell_type": "code",
   "execution_count": null,
   "outputs": [],
   "source": [
    "# Example 2\n",
    "for num in range(1, 5):\n",
    "    print(num)"
   ],
   "metadata": {
    "collapsed": false
   }
  },
  {
   "cell_type": "code",
   "execution_count": null,
   "outputs": [],
   "source": [
    "# Example 3\n",
    "for x in 'Python':\n",
    "    print(x)"
   ],
   "metadata": {
    "collapsed": false
   }
  },
  {
   "cell_type": "markdown",
   "source": [
    "With these simple examples, you can extrapolate for more complex interactions, such as looping over a list of image paths and open one image each time"
   ],
   "metadata": {
    "collapsed": false
   }
  },
  {
   "cell_type": "markdown",
   "source": [
    "## <span style=\"color:black;\">List Comprehensions</span>\n",
    "\n",
    "List comprehension is a concise way to create new lists based on existing lists or other iterable objects.\n",
    "\n",
    "**General syntax**\n",
    ":::{note}\n",
    "new_list = [`expression` for `item` in `iterable` if `condition`]\n",
    "\n",
    "- `expression`: The expression that defines the elements of the new list\n",
    "- `item`: Each item in the iterable object\n",
    "- `iterable`: iterable object (list, tuple, string, or range, etc)\n",
    "- `condition` (optional): An optional condition that filters the items from the iterable. Only items that satisfy the condition are included in the new list.\n",
    ":::"
   ],
   "metadata": {
    "collapsed": false
   }
  },
  {
   "cell_type": "code",
   "execution_count": null,
   "outputs": [],
   "source": [
    "# Example of list comprehension\n",
    "\n",
    "# From\n",
    "squares = []\n",
    "for x in range(1, 11):\n",
    "    squares.append(x**2)\n",
    "\n",
    "# TO\n",
    "squares = [x**2 for x in range(1, 11)]"
   ],
   "metadata": {
    "collapsed": false
   }
  },
  {
   "cell_type": "markdown",
   "source": [
    "## <span style=\"color:black;\">Loop Without Accessing Items</span>\n",
    "\n",
    "It is not mandatory to use items of a sequence within a for loop."
   ],
   "metadata": {
    "collapsed": false
   }
  },
  {
   "cell_type": "code",
   "execution_count": null,
   "outputs": [],
   "source": [
    "sequence = ['land', 'air', 'water']\n",
    "\n",
    "for element in sequence:\n",
    "    print('Nothing change')"
   ],
   "metadata": {
    "collapsed": false
   }
  },
  {
   "cell_type": "markdown",
   "source": [],
   "metadata": {
    "collapsed": false
   }
  }
 ],
 "metadata": {
  "kernelspec": {
   "display_name": "Python 3 (ipykernel)",
   "language": "python",
   "name": "python3"
  },
  "language_info": {
   "codemirror_mode": {
    "name": "ipython",
    "version": 3
   },
   "file_extension": ".py",
   "mimetype": "text/x-python",
   "name": "python",
   "nbconvert_exporter": "python",
   "pygments_lexer": "ipython3",
   "version": "3.7.16"
  },
  "toc": {
   "base_numbering": 1,
   "nav_menu": {},
   "number_sections": false,
   "sideBar": true,
   "skip_h1_title": false,
   "title_cell": "Table of Contents",
   "title_sidebar": "Contents",
   "toc_cell": false,
   "toc_position": {},
   "toc_section_display": true,
   "toc_window_display": false
  }
 },
 "nbformat": 4,
 "nbformat_minor": 4
}
