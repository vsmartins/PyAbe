{
 "cells": [
  {
   "cell_type": "markdown",
   "source": [
    "# <span style=\"color:black;\">Classes</span>\n",
    "\n",
    "## <span style=\"color:black;\">Overview</span>\n",
    "\n",
    "Classes (and objects) are essential part of object-oriented programming, and allow us to create reusable and functional \"code components\" for your program. The `class` defines the attributes (data) and behaviors (methods/functions) of the instances of a class.\n",
    "In other words, once you define a class, you can create multiple objects, which as instances of a class, and these objects come with certain characteristics. For instance, `str` class is a built-in class in Python and when you create an instance\n",
    "of this class (e.g., my_string = \"amazing ABE\"), this variable \"my_string\" is a string object and contains inherent methods for string manipulation, such as concatenation, slicing, replacing characters, and more.\n",
    "I know it sounds complicated, so let's start with simple class."
   ],
   "metadata": {
    "collapsed": false
   }
  },
  {
   "cell_type": "code",
   "execution_count": null,
   "outputs": [],
   "source": [
    "#Create a class named MyMajor, with a property named x:\n",
    "\n",
    "class MyMajor:\n",
    "  major = 'Biomedical Engineering'\n",
    "  year = 'junior'\n",
    "\n",
    "# Create Object\n",
    "p1 = MyMajor() # Create an object named p1, and print the major by accessing the class attribute\n",
    "print(p1.major)"
   ],
   "metadata": {
    "collapsed": false
   }
  },
  {
   "cell_type": "markdown",
   "source": [
    "This class is simple (and not super useful) but it shows you the basic structure. Let's clarify the difference of class and object:"
   ],
   "metadata": {
    "collapsed": false
   }
  },
  {
   "cell_type": "markdown",
   "source": [
    "## <span style=\"color:black;\">Difference of Classes and Objects</span>\n",
    "\n",
    "Class:\n",
    "- A class is a blueprint or a template for creating objects.\n",
    "- It defines the common attributes (data) and behaviors (methods) that objects of that class will have.\n",
    "- It acts as a blueprint from which you can create multiple instances (objects) with similar characteristics.\n",
    "- A class is defined using the class keyword followed by the class name.\n",
    "- It encapsulates related data and functionality into a single unit.\n",
    "\n",
    "Object (Instance):\n",
    "- An object is an instance of a class.\n",
    "- It is created from a class using the class constructor (usually the __init__ method).\n",
    "- An object represents a specific instance of the class, and it has its own unique state (attribute values) separate from other objects.\n",
    "- Objects can access and modify the attributes and methods defined in the class.\n",
    "- Objects can have different values for the attributes defined in the class, even though they share the same behavior (methods).\n",
    "- Objects can interact with each other by invoking methods or accessing attributes.\n"
   ],
   "metadata": {
    "collapsed": false
   }
  },
  {
   "cell_type": "markdown",
   "source": [
    "##  Create Multiple Objects of Python Class\n",
    "\n",
    "The interesting point of Python Class is to reuse and create multiple objects from a single class."
   ],
   "metadata": {
    "collapsed": false
   }
  },
  {
   "cell_type": "code",
   "execution_count": null,
   "outputs": [],
   "source": [
    "# define a class\n",
    "class Student:\n",
    "    # define an attribute\n",
    "    student_id = 0\n",
    "\n",
    "# create two objects of the Employee class\n",
    "Student1 = Student()\n",
    "Student2 = Student()\n",
    "\n",
    "# access attributes using Student1\n",
    "Student1.student_id = 'test_2@msstate.edu'\n",
    "print(f\"Student ID: {Student1.student_id}\")\n",
    "\n",
    "# access attributes using Student2\n",
    "Student2.student_id = 'test_2@msstate.edu'\n",
    "print(f\"Employee ID: {Student2.student_id}\")"
   ],
   "metadata": {
    "collapsed": false
   }
  },
  {
   "cell_type": "markdown",
   "source": [
    "These above examples are very simple, and we should add another built-in element of class: `__init__()` function.\n",
    "The `__init__()` function defines the object attributes and is always executed when the class is being initiated. It is automatically called when you create a new object (instance) of a class.\n",
    "The purpose of the __init__ method is to initialize the attributes of an object with the provided values or default values. It allows you to set up the initial state of an object when it is created.\n",
    "\n",
    "Below you will find the `__init__` function with the main attributes, and `self` parameter is just a convention that helps you\n",
    "to access and modify the object attributes."
   ],
   "metadata": {
    "collapsed": false
   }
  },
  {
   "cell_type": "code",
   "execution_count": null,
   "outputs": [],
   "source": [
    "class Student:\n",
    "  def __init__(self, name, major, year):\n",
    "    self.name = name\n",
    "    self.major = major\n",
    "    self.year = year\n",
    "\n",
    "msu_student = Student(\"you\", \"ABE\", 2023)\n",
    "\n",
    "print(msu_student.name)\n",
    "print(msu_student.major)"
   ],
   "metadata": {
    "collapsed": false
   }
  },
  {
   "cell_type": "markdown",
   "source": [
    "## Object Methods\n",
    "\n",
    "The Python class can have inherent functions, known as object methods, and these functions can access and modify the attributes of the objects (instances) generated from this class.\n",
    "Therefore, object methods are regular functions inside the class, and the `self` parameter is used to access the attributes and methods of the instance."
   ],
   "metadata": {
    "collapsed": false
   }
  },
  {
   "cell_type": "code",
   "execution_count": null,
   "outputs": [],
   "source": [
    "# create a class\n",
    "class Student:\n",
    "    def __init__(self, name, major, enroll_year):\n",
    "        self.name = name\n",
    "        self.major = major\n",
    "        self.enroll_year = enroll_year\n",
    "    # method to calculate area\n",
    "    def calculate_graduation(self):\n",
    "        print(\"Expected graduation year =\", self.enroll_year + 4)  # The self parameter is used to access variables that belongs to the class.\n",
    "\n",
    "msu_student = Student(\"you\", \"ABE\", 2023)\n",
    "msu_student.calculate_graduation()\n"
   ],
   "metadata": {
    "collapsed": false
   }
  },
  {
   "cell_type": "markdown",
   "source": [
    ":::{important}\n",
    "`self` parameter is named self by convention, but you can call it whatever you prefer as long as it is the first parameter of any function in the class\n",
    ":::\n"
   ],
   "metadata": {
    "collapsed": false
   }
  },
  {
   "cell_type": "markdown",
   "source": [
    "## __init__ method"
   ],
   "metadata": {
    "collapsed": false
   }
  },
  {
   "cell_type": "markdown",
   "source": [
    "To wrap this lesson, you should expect the general syntax for Python Class:\n",
    "\n",
    "```python\n",
    "\n",
    "class ClassName:\n",
    "    \"\"\"\n",
    "    Docstring describing the class.\n",
    "    \"\"\"\n",
    "\n",
    "    class_attribute = value\n",
    "\n",
    "    def __init__(self, parameter1, parameter2):\n",
    "        \"\"\"\n",
    "        Constructor method that initializes an instance of the class.\n",
    "        \"\"\"\n",
    "        self.instance_attribute1 = parameter1\n",
    "        self.instance_attribute2 = parameter2\n",
    "        # ...\n",
    "\n",
    "    def your_method(self, parameter1, parameter2):\n",
    "        \"\"\"\n",
    "        Instance method that performs actions on an instance of the class.\n",
    "        \"\"\"\n",
    "        # Method implementation\n",
    "\n",
    "```"
   ],
   "metadata": {
    "collapsed": false
   }
  }
 ],
 "metadata": {
  "kernelspec": {
   "display_name": "Python 3 (ipykernel)",
   "language": "python",
   "name": "python3"
  },
  "language_info": {
   "codemirror_mode": {
    "name": "ipython",
    "version": 3
   },
   "file_extension": ".py",
   "mimetype": "text/x-python",
   "name": "python",
   "nbconvert_exporter": "python",
   "pygments_lexer": "ipython3",
   "version": "3.7.16"
  },
  "toc": {
   "base_numbering": 1,
   "nav_menu": {},
   "number_sections": false,
   "sideBar": true,
   "skip_h1_title": false,
   "title_cell": "Table of Contents",
   "title_sidebar": "Contents",
   "toc_cell": false,
   "toc_position": {},
   "toc_section_display": true,
   "toc_window_display": false
  }
 },
 "nbformat": 4,
 "nbformat_minor": 4
}
