{
 "cells": [
  {
   "cell_type": "markdown",
   "source": [
    "# Python Module\n",
    "\n",
    "## Overview\n",
    "\n",
    "In Python, a module is a file containing Python code that defines functions, classes, and variables that can be used in other Python programs. It allows you to organize and reuse code by grouping related functionalities together.\n",
    "\n",
    "A module can be seen as a library or a collection of related components that can be imported and used in other programs or modules. It provides a way to compartmentalize code and promote code reusability across projects.\n",
    "Using modules promotes modular programming and code reuse, making it easier to manage and maintain larger Python projects by organizing related functionalities into separate units.\n",
    "\n",
    "To use a module in your Python program, you need to import it using the import statement. Here's an example of importing a module named math:"
   ],
   "metadata": {
    "collapsed": false
   }
  },
  {
   "cell_type": "code",
   "execution_count": null,
   "outputs": [],
   "source": [
    "import math\n",
    "\n",
    "result = math.sqrt(16)\n",
    "print(result)  # Output: 4.0"
   ],
   "metadata": {
    "collapsed": false
   }
  },
  {
   "cell_type": "markdown",
   "source": [
    "In Python, a package is a way to organize related modules into a directory hierarchy. A package is essentially a directory that contains one or more Python module files and a special file called __init__.py. The __init__.py file is required to mark the directory as a package.\n",
    "\n",
    "By grouping modules into packages, you can create a hierarchical structure that reflects the organization and relationship between different components of your codebase. This helps in managing large projects by providing a logical and organized structure.\n",
    "\n",
    "Here's an example of a package structure:\n",
    "\n",
    "my_package/\n",
    "    __init__.py\n",
    "    module1.py\n",
    "    module2.py\n",
    "    subpackage/\n",
    "        __init__.py\n",
    "        module3.py\n",
    "\n",
    "In this example, the my_package directory is a package that contains multiple modules. The __init__.py files are empty files that mark the directories as packages. The package includes two main modules, module1.py and module2.py, as well as a subpackage called subpackage that contains its own __init__.py file and a module called module3.py.\n",
    "\n",
    "from my_package import module1\n",
    "from my_package.subpackage import module3\n",
    "\n",
    "module1.function1()\n",
    "module3.function2()\n",
    "\n",
    "Packages provide a way to organize and group related functionality together, making it easier to manage and maintain larger projects. They also enable namespace management to avoid naming conflicts between modules and allow for clear and modular code organization.\n",
    "\n"
   ],
   "metadata": {
    "collapsed": false
   }
  }
 ],
 "metadata": {
  "kernelspec": {
   "display_name": "Python 3 (ipykernel)",
   "language": "python",
   "name": "python3"
  },
  "language_info": {
   "codemirror_mode": {
    "name": "ipython",
    "version": 3
   },
   "file_extension": ".py",
   "mimetype": "text/x-python",
   "name": "python",
   "nbconvert_exporter": "python",
   "pygments_lexer": "ipython3",
   "version": "3.7.16"
  },
  "toc": {
   "base_numbering": 1,
   "nav_menu": {},
   "number_sections": false,
   "sideBar": true,
   "skip_h1_title": false,
   "title_cell": "Table of Contents",
   "title_sidebar": "Contents",
   "toc_cell": false,
   "toc_position": {},
   "toc_section_display": true,
   "toc_window_display": false
  }
 },
 "nbformat": 4,
 "nbformat_minor": 4
}
