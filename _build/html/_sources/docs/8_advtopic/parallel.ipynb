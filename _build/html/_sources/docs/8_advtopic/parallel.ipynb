{
 "cells": [
  {
   "cell_type": "markdown",
   "source": [
    "# <span style=\"color:black;\">MultiProcessing</span>\n",
    "\n",
    "The multiprocessing allows your program to run multiple tasks in parallel, instead of sequentially.\n",
    "\n",
    "In parallel computing, each process is in fact one instance of the Python interpreter. The multiprocessing depends on the number of cores available in your computers.\n"
   ],
   "metadata": {
    "collapsed": false
   }
  },
  {
   "cell_type": "markdown",
   "source": [
    "**Serial version**"
   ],
   "metadata": {
    "collapsed": false
   }
  },
  {
   "cell_type": "code",
   "execution_count": null,
   "outputs": [],
   "source": [
    "import time\n",
    "\n",
    "if __name__ == '__main__':\n",
    "\n",
    "    t0 = time.time()\n",
    "    nsteps = 100000000\n",
    "    dx = 1.0 / nsteps\n",
    "    pi = 0.0\n",
    "    for i in range(nsteps):\n",
    "        x = (i + 0.5) * dx\n",
    "        pi += 4.0 / (1.0 + x * x)\n",
    "    pi *= dx\n",
    "    t1 = time.time()\n",
    "    print(f'Execution time {t1 - t0} s for serial version')"
   ],
   "metadata": {
    "collapsed": false
   }
  },
  {
   "cell_type": "markdown",
   "source": [
    "**Parallel version**"
   ],
   "metadata": {
    "collapsed": false
   }
  },
  {
   "cell_type": "code",
   "execution_count": null,
   "outputs": [],
   "source": [
    "import multiprocessing\n",
    "print(\"Number of cpu : \", multiprocessing.cpu_count())"
   ],
   "metadata": {
    "collapsed": false
   }
  },
  {
   "cell_type": "markdown",
   "source": [
    "Let's run it:"
   ],
   "metadata": {
    "collapsed": false
   }
  },
  {
   "cell_type": "markdown",
   "source": [
    "```python\n",
    "import multiprocessing as mp\n",
    "import time\n",
    "\n",
    "def calc_partial_pi(rank, nprocs, nsteps, dx):\n",
    "    partial_pi = 0.0\n",
    "    for i in range(rank, nsteps, nprocs):\n",
    "        x = (i + 0.5) * dx\n",
    "        partial_pi += 4.0 / (1.0 + x * x)\n",
    "    partial_pi *= dx\n",
    "    return partial_pi\n",
    "\n",
    "\n",
    "if __name__ == '__main__':\n",
    "\n",
    "    nsteps = 100000000\n",
    "    dx = 1.0 / nsteps\n",
    "    pi = 0.0\n",
    "\n",
    "    t0 = time.time()\n",
    "    nprocs = mp.cpu_count()\n",
    "    inputs = [(rank, nprocs, nsteps, dx) for rank in range(nprocs)]\n",
    "\n",
    "    pool = mp.Pool(processes=nprocs)\n",
    "    result = pool.starmap(calc_partial_pi, inputs)\n",
    "    pi = sum(result)\n",
    "    t1 = time.time()\n",
    "    print(f'Execution time {t1 - t0} s for serial version')\n",
    "\n",
    "```"
   ],
   "metadata": {
    "collapsed": false
   }
  },
  {
   "cell_type": "markdown",
   "source": [
    "**Multiprocessing vs Multithreading**\n",
    "\n",
    "A thread always exists within a process and represents the manner in which instructions or code is executed. A process will have at least one thread, called the main thread.\n",
    "\n",
    "When there is a lot of I/O in your program, threading may be more efficient because most of the time, your program is waiting for the I/O to complete. However, multiprocessing is generally more efficient because it runs concurrently.\n"
   ],
   "metadata": {
    "collapsed": false
   }
  },
  {
   "cell_type": "code",
   "execution_count": null,
   "outputs": [],
   "source": [
    "# multiprocessing\n",
    "from multiprocessing import Pool\n",
    "import time\n",
    "import os\n",
    "\n",
    "def work_func(x):\n",
    "    print(\"work_func:\", x, \"PID\", os.getpid())\n",
    "    time.sleep(2)\n",
    "    return x**5\n",
    "\n",
    "if __name__==\"__main__\":\n",
    "    start = time.time()\n",
    "\n",
    "    cpu=4\n",
    "    with Pool(cpu) as p:\n",
    "        print(p.map(work_func, range(0,12)))\n",
    "\n",
    "    print(\"***run time (Sec):\", time.time() - start)"
   ],
   "metadata": {
    "collapsed": false
   }
  },
  {
   "cell_type": "code",
   "execution_count": null,
   "outputs": [],
   "source": [
    "# Multithreading\n",
    "from multiprocessing.pool import ThreadPool\n",
    "import time\n",
    "import os\n",
    "def work_func(x):\n",
    "    print(\"work_func:\", x, \"PID\", os.getpid())\n",
    "    time.sleep(2)\n",
    "    return x**5\n",
    "\n",
    "if __name__==\"__main__\":\n",
    "    start = time.time()\n",
    "\n",
    "    cpu=4\n",
    "    with ThreadPool(cpu) as p:\n",
    "        print(p.map(work_func, range(0,12)))\n",
    "\n",
    "    print(\"***run time (Sec):\", time.time() - start)"
   ],
   "metadata": {
    "collapsed": false
   }
  }
 ],
 "metadata": {
  "kernelspec": {
   "display_name": "Python 3 (ipykernel)",
   "language": "python",
   "name": "python3"
  },
  "language_info": {
   "codemirror_mode": {
    "name": "ipython",
    "version": 3
   },
   "file_extension": ".py",
   "mimetype": "text/x-python",
   "name": "python",
   "nbconvert_exporter": "python",
   "pygments_lexer": "ipython3",
   "version": "3.7.16"
  },
  "toc": {
   "base_numbering": 1,
   "nav_menu": {},
   "number_sections": false,
   "sideBar": true,
   "skip_h1_title": false,
   "title_cell": "Table of Contents",
   "title_sidebar": "Contents",
   "toc_cell": false,
   "toc_position": {},
   "toc_section_display": true,
   "toc_window_display": false
  }
 },
 "nbformat": 4,
 "nbformat_minor": 4
}
