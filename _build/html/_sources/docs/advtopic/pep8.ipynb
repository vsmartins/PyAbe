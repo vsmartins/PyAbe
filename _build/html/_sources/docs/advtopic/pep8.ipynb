{
 "cells": [
  {
   "cell_type": "markdown",
   "source": [
    "# Coding Style and PEP8¶\n",
    "\n",
    "PEP 8 (Python Enhancement Proposal 8) is a set of guidelines and recommendations for writing Python code that promotes code readability, consistency, and maintainability. It provides a style guide for Python code to ensure that developers can write code that is easy to understand and follow by others.\n",
    "\n",
    "Here are some key principles and recommendations outlined in PEP 8:\n",
    "\n",
    "Code Layout: PEP 8 suggests using 4 spaces for indentation and limiting line length to 79 characters. It also provides guidelines for using blank lines, spaces around operators, and consistent line breaks.\n",
    "\n",
    "Naming Conventions: PEP 8 recommends using lowercase letters for variable and function names, separating words with underscores (snake_case). Class names should follow the CapWords convention (PascalCase). Constants should be written in uppercase letters with underscores.\n",
    "\n",
    "Whitespace: PEP 8 provides guidelines for using whitespace effectively, such as using spaces around operators and after commas. It also recommends using a single space after a colon in a slice, but no space before the colon.\n",
    "\n",
    "Comments and Docstrings: PEP 8 encourages the use of comments to explain code where necessary. It also emphasizes writing meaningful docstrings to document functions, classes, and modules.\n",
    "\n",
    "Imports: PEP 8 recommends organizing imports in a specific order, with standard library imports first, followed by third-party library imports, and then local application or module imports. It also suggests avoiding wildcard imports (from module import *) and using absolute imports instead of relative imports.\n",
    "\n",
    "Function and Class Definitions: PEP 8 provides guidelines for formatting function and class definitions, including using a space after commas in argument lists, using whitespace between function or class definitions, and using a consistent style for method and variable names within classes.\n",
    "\n",
    "Error Handling: PEP 8 recommends using a specific style for exception handling, including using a bare except clause sparingly and specifying the exception type explicitly whenever possible.\n",
    "\n",
    "PEP 8 is widely accepted and followed by the Python community. Adhering to its guidelines can make your code more readable, consistent, and maintainable. The guidelines presented in PEP 8 help foster a common coding style across different projects and make it easier for developers to collaborate and understand each other's code.\n"
   ],
   "metadata": {
    "collapsed": false
   }
  }
 ],
 "metadata": {
  "kernelspec": {
   "display_name": "Python 3 (ipykernel)",
   "language": "python",
   "name": "python3"
  },
  "language_info": {
   "codemirror_mode": {
    "name": "ipython",
    "version": 3
   },
   "file_extension": ".py",
   "mimetype": "text/x-python",
   "name": "python",
   "nbconvert_exporter": "python",
   "pygments_lexer": "ipython3",
   "version": "3.7.16"
  },
  "toc": {
   "base_numbering": 1,
   "nav_menu": {},
   "number_sections": false,
   "sideBar": true,
   "skip_h1_title": false,
   "title_cell": "Table of Contents",
   "title_sidebar": "Contents",
   "toc_cell": false,
   "toc_position": {},
   "toc_section_display": true,
   "toc_window_display": false
  }
 },
 "nbformat": 4,
 "nbformat_minor": 4
}
