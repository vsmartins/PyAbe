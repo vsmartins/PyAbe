{
 "cells": [
  {
   "cell_type": "markdown",
   "source": [
    "(file-types:notebooks)=\n",
    "# Lists\n",
    "\n",
    "## Overview\n",
    "In Python, a sequence is a collection of elements or items that are ordered and indexed. Sequences are an essential part of the Python programming language and provide a way to store and manipulate data in a structured manner.\n",
    "\n",
    "In Python, a list is a built-in data structure that represents an ordered collection of elements. Lists are mutable, meaning they can be modified after creation, and they can contain elements of different data types, such as integers, floats, strings, or even other lists.\n",
    "\n",
    "Lists are defined using square brackets `[]` and individual items are separated by commas. They are mutable, meaning that you can add, remove, or modify elements of the list after it is created.\n",
    "\n",
    ":::{note}\n",
    "my_list = [item1, item2, item3, ..., itemN]\n",
    "\n",
    "`my_list`: The name given to the list variable, which can be any valid variable name.\n",
    "`item1`, `item2`, `item3`, ..., itemN: The items or values that make up the elements of the list. These items can be of any data type and are enclosed in square brackets []. Items are separated by commas.\n",
    ":::\n",
    "\n",
    "## List examples"
   ],
   "metadata": {
    "collapsed": false
   }
  },
  {
   "cell_type": "code",
   "execution_count": null,
   "outputs": [],
   "source": [
    "numbers = [1, 2, 3, 4, 5]\n",
    "fruits = [\"apple\", \"banana\", \"orange\"]\n",
    "my_list = [1, 2, 3, \"apple\", \"banana\", True]\n",
    "mixed = [1, \"hello\", True, 3.14]"
   ],
   "metadata": {
    "collapsed": false
   }
  },
  {
   "cell_type": "markdown",
   "source": [
    "This list contains six items of different data types. You can access individual elements of the list using their index, which starts from 0. For example:"
   ],
   "metadata": {
    "collapsed": false
   }
  },
  {
   "cell_type": "code",
   "execution_count": null,
   "outputs": [],
   "source": [
    "print(my_list[0])  # 1\n",
    "print(my_list[3])  # \"apple\""
   ],
   "metadata": {
    "collapsed": false
   }
  },
  {
   "cell_type": "markdown",
   "source": [
    "You can also modify the values of specific elements using their index:"
   ],
   "metadata": {
    "collapsed": false
   }
  },
  {
   "cell_type": "code",
   "execution_count": null,
   "outputs": [],
   "source": [
    "my_list[2] = 4\n",
    "print(my_list)  # [1, 2, 4, \"apple\", \"banana\", True]"
   ],
   "metadata": {
    "collapsed": false
   }
  },
  {
   "cell_type": "markdown",
   "source": [
    "In addition to accessing and modifying individual elements, you can perform various operations on lists such as appending, inserting, and removing items. For example:"
   ],
   "metadata": {
    "collapsed": false
   }
  },
  {
   "cell_type": "code",
   "execution_count": null,
   "outputs": [],
   "source": [
    "my_list.append(\"orange\")  # Add an item to the end of the list\n",
    "print(my_list)  # [1, 2, 4, \"apple\", \"banana\", True, \"orange\"]\n",
    "\n",
    "my_list.insert(3, \"pear\")  # Insert an item at a specific index\n",
    "print(my_list)  # [1, 2, 4, \"pear\", \"apple\", \"banana\", True, \"orange\"]\n",
    "\n",
    "my_list.remove(\"banana\")  # Remove a specific item\n",
    "print(my_list)  # [1, 2, 4, \"pear\", \"apple\", True, \"orange\"]"
   ],
   "metadata": {
    "collapsed": false
   }
  },
  {
   "cell_type": "markdown",
   "source": [
    "## List Comprehensions\n",
    "\n",
    "List comprehensions in Python provide a concise and expressive way to create new lists based on existing lists or other iterable objects. They allow you to combine iteration, conditionals, and expressions into a single line of code.\n",
    "\n",
    ":::{note}\n",
    "new_list = [`expression` for `item` in `iterable` if `condition`]\n",
    "\n",
    "`expression`: The expression that defines the elements of the new list. It can involve calculations, transformations, or any operation that produces a value.\n",
    "`item`: The variable that represents each item in the iterable object, such as a list or a range.\n",
    "`iterable`: The source of items to iterate over, typically a list, tuple, string, or range.\n",
    "`condition` (optional): An optional condition that filters the items from the iterable. Only items that satisfy the condition are included in the new list.\n",
    ":::"
   ],
   "metadata": {
    "collapsed": false
   }
  }
 ],
 "metadata": {
  "kernelspec": {
   "display_name": "Python 3 (ipykernel)",
   "language": "python",
   "name": "python3"
  },
  "language_info": {
   "codemirror_mode": {
    "name": "ipython",
    "version": 3
   },
   "file_extension": ".py",
   "mimetype": "text/x-python",
   "name": "python",
   "nbconvert_exporter": "python",
   "pygments_lexer": "ipython3",
   "version": "3.7.16"
  },
  "toc": {
   "base_numbering": 1,
   "nav_menu": {},
   "number_sections": false,
   "sideBar": true,
   "skip_h1_title": false,
   "title_cell": "Table of Contents",
   "title_sidebar": "Contents",
   "toc_cell": false,
   "toc_position": {},
   "toc_section_display": true,
   "toc_window_display": false
  }
 },
 "nbformat": 4,
 "nbformat_minor": 4
}
