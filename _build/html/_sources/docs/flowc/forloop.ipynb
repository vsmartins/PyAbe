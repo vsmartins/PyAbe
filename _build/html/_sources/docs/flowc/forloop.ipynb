{
 "cells": [
  {
   "cell_type": "markdown",
   "source": [
    "# **For** Loop\n",
    "\n",
    "## Overview\n",
    "\n",
    "In Python, a for loop is used to iterate over a sequence (such as a string, list, tuple, or range) or any other iterable object. It allows you to repeatedly execute a block of code for each item in the sequence.\n",
    "\n",
    ":::{note}\n",
    "for item in sequence:\n",
    "    # Statement to be executed for each item\n",
    ":::\n",
    "\n",
    "## Examples"
   ],
   "metadata": {
    "collapsed": false
   }
  },
  {
   "cell_type": "code",
   "execution_count": null,
   "metadata": {
    "tags": [
     "popout",
     "remove-input",
     "remove-stdout"
    ]
   },
   "outputs": [],
   "source": [
    "# Example 1\n",
    "\n",
    "fruits = ['apple', 'banana', 'cherry']\n",
    "\n",
    "for fruit in fruits:\n",
    "    print(fruit)\n",
    "\n",
    "# Example 2\n",
    "for num in range(1, 5):\n",
    "    print(num)\n",
    "\n",
    "# Example 3\n",
    "for x in 'Python':\n",
    "    print(x)"
   ]
  },
  {
   "cell_type": "markdown",
   "source": [
    "Loop Without Accessing Items\n",
    "\n",
    "It is not mandatory to use items of a sequence within a for loop. For example,"
   ],
   "metadata": {
    "collapsed": false
   }
  },
  {
   "cell_type": "code",
   "execution_count": null,
   "outputs": [],
   "source": [
    "languages = ['Swift', 'Python', 'Go']\n",
    "\n",
    "for language in languages:\n",
    "    print('Hello')\n",
    "    print('Hi')"
   ],
   "metadata": {
    "collapsed": false
   }
  }
 ],
 "metadata": {
  "kernelspec": {
   "display_name": "Python 3 (ipykernel)",
   "language": "python",
   "name": "python3"
  },
  "language_info": {
   "codemirror_mode": {
    "name": "ipython",
    "version": 3
   },
   "file_extension": ".py",
   "mimetype": "text/x-python",
   "name": "python",
   "nbconvert_exporter": "python",
   "pygments_lexer": "ipython3",
   "version": "3.7.16"
  },
  "toc": {
   "base_numbering": 1,
   "nav_menu": {},
   "number_sections": false,
   "sideBar": true,
   "skip_h1_title": false,
   "title_cell": "Table of Contents",
   "title_sidebar": "Contents",
   "toc_cell": false,
   "toc_position": {},
   "toc_section_display": true,
   "toc_window_display": false
  }
 },
 "nbformat": 4,
 "nbformat_minor": 4
}
