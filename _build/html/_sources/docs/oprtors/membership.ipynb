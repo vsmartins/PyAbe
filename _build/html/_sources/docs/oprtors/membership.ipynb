{
 "cells": [
  {
   "cell_type": "markdown",
   "source": [
    "# Membership\n",
    "\n",
    "## Overview\n",
    "In Python, membership operators are used to test whether a value or variable belongs to a sequence, such as a string, list, tuple, or set. These operators return a Boolean value (True or False) based on the membership condition.\n",
    "\n",
    "| Operation | Definition| Syntax |\n",
    "|----------| ---------- | ---------- |\n",
    "| `in` | Return True if value is within the sequence | x=[1,2,3], 2 in x  |\n",
    "| `not in` | Return True if value is not within the sequence  | x=[1,2,3], 5 not in x  |\n",
    "\n",
    "## Examples"
   ],
   "metadata": {
    "collapsed": false
   }
  },
  {
   "cell_type": "code",
   "execution_count": null,
   "metadata": {
    "tags": [
     "popout",
     "remove-input",
     "remove-stdout"
    ]
   },
   "outputs": [],
   "source": [
    "# String membership\n",
    "string = \"Hello, World!\"\n",
    "\n",
    "print('H' in string)        # Output: True\n",
    "print('h' in string)        # Output: False\n",
    "print('lo' in string)       # Output: True\n",
    "print('Wor' not in string)  # Output: False\n",
    "\n",
    "\n",
    "# List membership\n",
    "my_list = [1, 2, 3, 4, 5]\n",
    "\n",
    "print(3 in my_list)     # Output: True\n",
    "print(6 not in my_list) # Output: True\n",
    "print(5 in my_list[2:]) # Output: True\n",
    "\n",
    "\n",
    "# Tuple membership\n",
    "my_tuple = (10, 20, 30, 40, 50)\n",
    "\n",
    "print(30 in my_tuple)      # Output: True\n",
    "print(60 not in my_tuple)  # Output: True\n",
    "\n",
    "\n",
    "# Set membership\n",
    "my_set = {1, 2, 3, 4, 5}\n",
    "\n",
    "print(4 in my_set)     # Output: True\n",
    "print(6 not in my_set) # Output: True"
   ]
  }
 ],
 "metadata": {
  "kernelspec": {
   "display_name": "Python 3 (ipykernel)",
   "language": "python",
   "name": "python3"
  },
  "language_info": {
   "codemirror_mode": {
    "name": "ipython",
    "version": 3
   },
   "file_extension": ".py",
   "mimetype": "text/x-python",
   "name": "python",
   "nbconvert_exporter": "python",
   "pygments_lexer": "ipython3",
   "version": "3.7.16"
  },
  "toc": {
   "base_numbering": 1,
   "nav_menu": {},
   "number_sections": false,
   "sideBar": true,
   "skip_h1_title": false,
   "title_cell": "Table of Contents",
   "title_sidebar": "Contents",
   "toc_cell": false,
   "toc_position": {},
   "toc_section_display": true,
   "toc_window_display": false
  }
 },
 "nbformat": 4,
 "nbformat_minor": 4
}
