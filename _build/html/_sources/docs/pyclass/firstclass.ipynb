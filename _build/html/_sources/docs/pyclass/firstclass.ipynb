{
 "cells": [
  {
   "cell_type": "markdown",
   "source": [
    "# Python Classes\n",
    "\n",
    "## Overview\n",
    "\n",
    "In Python, classes and objects are fundamental concepts in object-oriented programming (OOP). They allow you to create reusable code by defining a blueprint for objects, which are instances of a class.\n",
    "\n",
    "A class is like a blueprint or a template that describes the attributes (data) and behaviors (methods/functions) that objects of that class should have. It serves as a blueprint for creating multiple objects with similar characteristics.\n",
    "\n",
    "Classes and objects allow you to organize your code, encapsulate data and functionality, and create modular and reusable components in your programs. They are fundamental concepts in object-oriented programming and are widely used in Python and many other programming languages.\n",
    "\n",
    "## Classes and Objects\n",
    "\n",
    "Class:\n",
    "- A class is a blueprint or a template for creating objects.\n",
    "- It defines the common attributes (data) and behaviors (methods) that objects of that class will have.\n",
    "- It acts as a blueprint from which you can create multiple instances (objects) with similar characteristics.\n",
    "- A class is defined using the class keyword followed by the class name.\n",
    "- It encapsulates related data and functionality into a single unit.\n",
    "\n",
    "Object (Instance):\n",
    "- An object is an instance of a class.\n",
    "- It is created from a class using the class constructor (usually the __init__ method).\n",
    "- An object represents a specific instance of the class, and it has its own unique state (attribute values) separate from other objects.\n",
    "- Objects can access and modify the attributes and methods defined in the class.\n",
    "- Objects can have different values for the attributes defined in the class, even though they share the same behavior (methods).\n",
    "- Objects can interact with each other by invoking methods or accessing attributes.\n",
    "\n",
    "\n"
   ],
   "metadata": {
    "collapsed": false
   }
  },
  {
   "cell_type": "code",
   "execution_count": null,
   "outputs": [],
   "source": [
    "#Create a class named MyClass, with a property named x:\n",
    "\n",
    "class MyClass:\n",
    "  x = 5\n",
    "\n",
    "# Create Object\n",
    "# Create an object named p1, and print the value of x:\n",
    "\n",
    "p1 = MyClass()\n",
    "print(p1.x)\n",
    "\n",
    "# Access Class Attributes Using Objects\n",
    "print(p1.x)\n",
    "\n",
    "# create class\n",
    "class Bike:\n",
    "    name = \"\"\n",
    "    gear = 0\n",
    "\n",
    "# create objects of class\n",
    "bike1 = Bike()\n",
    "\n",
    "# modify the name attribute\n",
    "bike1.name = \"Mountain Bike\"\n",
    "\n",
    "# access the gear attribute\n",
    "bike1.gear"
   ],
   "metadata": {
    "collapsed": false
   }
  },
  {
   "cell_type": "markdown",
   "source": [
    "##  Create Multiple Objects of Python Class\n",
    "We can also create multiple objects from a single class. For example,\n"
   ],
   "metadata": {
    "collapsed": false
   }
  },
  {
   "cell_type": "code",
   "execution_count": null,
   "outputs": [],
   "source": [
    "# define a class\n",
    "class Employee:\n",
    "    # define an attribute\n",
    "    employee_id = 0\n",
    "\n",
    "# create two objects of the Employee class\n",
    "employee1 = Employee()\n",
    "employee2 = Employee()\n",
    "\n",
    "# access attributes using employee1\n",
    "employee1.employeeID = 1001\n",
    "print(f\"Employee ID: {employee1.employeeID}\")\n",
    "\n",
    "# access attributes using employee2\n",
    "employee2.employeeID = 1002\n",
    "print(f\"Employee ID: {employee2.employeeID}\")"
   ],
   "metadata": {
    "collapsed": false
   }
  },
  {
   "cell_type": "markdown",
   "source": [
    "The examples above are classes and objects in their simplest form, and are not really useful in real life applications.\n",
    "\n",
    "To understand the meaning of classes we have to understand the built-in __init__() function.\n",
    "All classes have a function called __init__(), which is always executed when the class is being initiated.\n",
    "\n",
    "Use the __init__() function to assign values to object properties, or other operations that are necessary to do when the object is being created:"
   ],
   "metadata": {
    "collapsed": false
   }
  },
  {
   "cell_type": "code",
   "execution_count": null,
   "outputs": [],
   "source": [
    "class Person:\n",
    "  def __init__(self, name, age):\n",
    "    self.name = name\n",
    "    self.age = age\n",
    "\n",
    "p1 = Person(\"John\", 36)\n",
    "\n",
    "print(p1.name)\n",
    "print(p1.age)"
   ],
   "metadata": {
    "collapsed": false
   }
  },
  {
   "cell_type": "markdown",
   "source": [
    "## Object Methods\n",
    "Objects can also contain methods. Methods in objects are functions that belong to the object.\n",
    "\n",
    "In Python, an object method is a function that is defined inside a class and operates on an instance of that class. Methods can access and modify the attributes of the instance they belong to, and they can also perform other operations.\n",
    "\n",
    "Object methods are defined similarly to regular functions, but they have an additional first parameter called self, which refers to the instance of the class that the method is being called on. This self parameter is used to access the attributes and methods of the instance.\n",
    "\n",
    "Object methods are an important aspect of object-oriented programming, as they allow you to encapsulate behavior within a class and provide a convenient way to manipulate instances of that class. By defining methods in a class, you can ensure that all instances of that class have the same behavior and operate in a consistent manner.\n"
   ],
   "metadata": {
    "collapsed": false
   }
  },
  {
   "cell_type": "code",
   "execution_count": null,
   "outputs": [],
   "source": [
    "# create a class\n",
    "class Room:\n",
    "    length = 0.0\n",
    "    breadth = 0.0\n",
    "\n",
    "    # method to calculate area\n",
    "    def calculate_area(self):\n",
    "        print(\"Area of Room =\", self.length * self.breadth)\n",
    "\n",
    "# create object of Room class\n",
    "study_room = Room()\n",
    "\n",
    "# assign values to all the attributes\n",
    "study_room.length = 42.5\n",
    "study_room.breadth = 30.8\n",
    "\n",
    "# access method inside class\n",
    "study_room.calculate_area()\n",
    "\n",
    "\n",
    "# Class definition\n",
    "class ClassName:\n",
    "    # Class attributes\n",
    "    attribute1 = value1\n",
    "    attribute2 = value2\n",
    "\n",
    "    # Constructor\n",
    "    def __init__(self, parameter1, parameter2):\n",
    "        self.attribute1 = parameter1\n",
    "        self.attribute2 = parameter2\n",
    "\n",
    "    # Methods\n",
    "    def method1(self, parameter1, parameter2):\n",
    "        # Method code\n",
    "\n",
    "    def method2(self, parameter1, parameter2):\n",
    "        # Method code\n",
    "\n",
    "# Creating an object\n",
    "object_name = ClassName(argument1, argument2)\n",
    "\n",
    "# Accessing object attributes\n",
    "object_name.attribute1\n",
    "object_name.attribute2\n",
    "\n",
    "# Calling object methods\n",
    "object_name.method1(argument1, argument2)\n",
    "object_name.method2(argument1, argument2)\n",
    "\n",
    "'''\n",
    "Definitions:\n",
    "\n",
    "* ClassName is the name of the class you're defining. Choose a descriptive name that follows Python naming conventions (typically using CamelCase).\n",
    "* attribute1 and attribute2 are class attributes that hold data values. These attributes are shared by all instances of the class.\n",
    "* The __init__ method is the constructor, which is called when a new object is created. It initializes the object's attributes with the provided values.\n",
    "* method1 and method2 are methods (or functions) defined within the class. They represent the behaviors or actions that objects of the class can perform. The self parameter refers to the instance of the class and allows access to its attributes and methods.\n",
    "* object_name is the name of the object (or instance) you create from the class.\n",
    "* argument1 and argument2 are values passed to the constructor or methods when they are called.\n",
    "* You can access object attributes using dot notation, like object_name.attribute1.\n",
    "* You can call object methods using dot notation as well, like object_name.method1(argument1, argument2).\n",
    "\n",
    "'''"
   ],
   "metadata": {
    "collapsed": false
   }
  },
  {
   "cell_type": "markdown",
   "source": [
    "## self Parameter\n",
    "\n",
    "The self parameter is a reference to the current instance of the class, and is used to access variables that belongs to the class.\n",
    "\n",
    "It does not have to be named self , you can call it whatever you like, but it has to be the first parameter of any function in the class:"
   ],
   "metadata": {
    "collapsed": false
   }
  },
  {
   "cell_type": "code",
   "execution_count": null,
   "outputs": [],
   "source": [
    "class Person:\n",
    "  def __init__(mysillyobject, name, age):\n",
    "    mysillyobject.name = name\n",
    "    mysillyobject.age = age\n",
    "\n",
    "  def myfunc(abc):\n",
    "    print(\"Hello my name is \" + abc.name)\n",
    "\n",
    "p1 = Person(\"John\", 36)\n",
    "p1.myfunc()"
   ],
   "metadata": {
    "collapsed": false
   }
  },
  {
   "cell_type": "markdown",
   "source": [
    "## Modify Object Properties\n",
    "You can modify properties on objects like this:\n",
    "\n",
    "p1.age = 40"
   ],
   "metadata": {
    "collapsed": false
   }
  },
  {
   "cell_type": "markdown",
   "source": [
    "## __init__ method"
   ],
   "metadata": {
    "collapsed": false
   }
  },
  {
   "cell_type": "markdown",
   "source": [
    "The __init__ method is a special method in Python classes, often referred to as the constructor. It is automatically called when you create a new object (instance) of a class.\n",
    "\n",
    "The purpose of the __init__ method is to initialize the attributes of an object with the provided values or default values. It allows you to set up the initial state of an object when it is created."
   ],
   "metadata": {
    "collapsed": false
   }
  },
  {
   "cell_type": "code",
   "execution_count": null,
   "outputs": [],
   "source": [
    "class Person:\n",
    "    def __init__(self, name, age):\n",
    "        self.name = name\n",
    "        self.age = age\n",
    "\n",
    "person1 = Person(\"John Doe\", 25)\n"
   ],
   "metadata": {
    "collapsed": false
   }
  },
  {
   "cell_type": "markdown",
   "source": [],
   "metadata": {
    "collapsed": false
   }
  },
  {
   "cell_type": "code",
   "execution_count": null,
   "outputs": [],
   "source": [
    "class Car:\n",
    "    def __init__(self, make, model):\n",
    "        self.make = make\n",
    "        self.model = model\n",
    "\n",
    "    def start_engine(self):\n",
    "        print(f\"The {self.make} {self.model}'s engine is starting.\")"
   ],
   "metadata": {
    "collapsed": false
   }
  },
  {
   "cell_type": "markdown",
   "source": [],
   "metadata": {
    "collapsed": false
   }
  }
 ],
 "metadata": {
  "kernelspec": {
   "display_name": "Python 3 (ipykernel)",
   "language": "python",
   "name": "python3"
  },
  "language_info": {
   "codemirror_mode": {
    "name": "ipython",
    "version": 3
   },
   "file_extension": ".py",
   "mimetype": "text/x-python",
   "name": "python",
   "nbconvert_exporter": "python",
   "pygments_lexer": "ipython3",
   "version": "3.7.16"
  },
  "toc": {
   "base_numbering": 1,
   "nav_menu": {},
   "number_sections": false,
   "sideBar": true,
   "skip_h1_title": false,
   "title_cell": "Table of Contents",
   "title_sidebar": "Contents",
   "toc_cell": false,
   "toc_position": {},
   "toc_section_display": true,
   "toc_window_display": false
  }
 },
 "nbformat": 4,
 "nbformat_minor": 4
}
