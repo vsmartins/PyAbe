{
 "cells": [
  {
   "cell_type": "markdown",
   "metadata": {
    "collapsed": false
   },
   "source": [
    "# <span style=\"color:black;\">Intro to Python</span>\n",
    "```{contents}\n",
    ":local:\n",
    ":depth: 2\n",
    "```\n",
    "## <span style=\"color:black;\">What is Python programming?</span>\n",
    "\n",
    "Python is a programming language that is useful for data processing analysis, website creation, computer vision, machine learning, automate tasks and more. Python's versatility, easy use, and supportive community make it valuable for various applications, starting from small computer programs to big software systems.\n",
    "\n",
    "Check more information: [**Python Institute**](https://pythoninstitute.org/about-python#:~:text=Python%20was%20created%20by%20Guido,called%20Monty%20Python's%20Flying%20Circus)\n",
    "\n",
    "A complete list of Python books: [**python books**](https://wiki.python.org/moin/IntroductoryBooks)\n",
    "\n",
    "## <span style=\"color:black;\">Why Python?</span>\n",
    "\n",
    "Python has gained popularity among programmers due to its simplicity and readability. The programming language offers an intuitive syntax that is easy to learn and write code. These features make Python a main choice for practitioners looking to create applications, automate tasks, or perform data analysis.\n",
    "\n",
    "The benefits to use Python include (1) anyone can quickly learn how to code, (2) large community support and numerous libraries, (3) python is useful for many applications ranging from website development to data analysis, (4) the language runs in multiple platforms and allows the integration of other programming languages."
   ]
  },
  {
   "cell_type": "markdown",
   "metadata": {
    "collapsed": false
   },
   "source": [
    "![2023 Trends in Programming languages](/docs/_assets/intro/prog_trends.png)\n",
    "\n",
    "By SimForm (2023)\n"
   ]
  },
  {
   "cell_type": "markdown",
   "metadata": {
    "collapsed": false
   },
   "source": [
    "## <span style=\"color:black;\">Why Python for ABE students?</span>\n",
    "\n",
    "Python can be a valuable tool for agricultural and biological engineering (ABE) students because it supports the data processing and analysis of large datasets, automation and control of engineering systems, modeling and simulation of agricultural systems, machine learning to improve the use of natural resources and more. The Python applications can be found in the analysis of soil data, crop yields, environmental, biomedical, and create predictive models to improve crop production and sustainability, identify pests and diseases, and optimize irrigation and fertilization practices."
   ]
  }
 ],
 "metadata": {
  "kernelspec": {
   "display_name": "Python 3 (ipykernel)",
   "language": "python",
   "name": "python3"
  },
  "language_info": {
   "codemirror_mode": {
    "name": "ipython",
    "version": 3
   },
   "file_extension": ".py",
   "mimetype": "text/x-python",
   "name": "python",
   "nbconvert_exporter": "python",
   "pygments_lexer": "ipython3",
   "version": "3.7.16"
  },
  "toc": {
   "base_numbering": 1,
   "nav_menu": {},
   "number_sections": false,
   "sideBar": true,
   "skip_h1_title": false,
   "title_cell": "Table of Contents",
   "title_sidebar": "Contents",
   "toc_cell": false,
   "toc_position": {},
   "toc_section_display": true,
   "toc_window_display": false
  }
 },
 "nbformat": 4,
 "nbformat_minor": 4
}