{
 "cells": [
  {
   "cell_type": "markdown",
   "metadata": {
    "collapsed": false
   },
   "source": [
    "# <span style=\"color:black;\">First Syntax</span>\n",
    "\n",
    "## <span style=\"color:black;\">Overview</span>\n",
    "\n",
    "Let's create a Python file and write code to print your first code:\n",
    "\n",
    "1. Open a text editor (IDE) of your choice, and create a new file, first_code.py. The .py extension indicates a Python file\n",
    "\n",
    "2. In the newly created Python file, write the following code:"
   ]
  },
  {
   "cell_type": "markdown",
   "metadata": {
    "collapsed": false
   },
   "source": [
    "```python\n",
    "print(\"My first code!\")\n",
    "```"
   ]
  },
  {
   "cell_type": "markdown",
   "metadata": {
    "collapsed": false
   },
   "source": [
    "3. Save the file\n",
    "\n",
    "4. Open the anaconda terminal (or command prompt) and type:\n",
    "\n",
    "```sh\n",
    "> python first_code.py\n",
    "```\n",
    "\n",
    "and press Enter."
   ]
  },
  {
   "cell_type": "markdown",
   "metadata": {
    "collapsed": false
   },
   "source": [
    "```sh\n",
    "> \"My first code!\"\n",
    "```\n",
    "\n",
    ":::{sucess}\n",
    "Congratulations, you have run a Python code!\n",
    ":::"
   ]
  },
  {
   "cell_type": "markdown",
   "metadata": {
    "collapsed": false
   },
   "source": [
    "```{warning}\n",
    "If the Python executable is in your system's PATH environment variable,\n",
    "the script will be executed, and you will see the output \"My first code!\" printed on the terminal.\n",
    "\n",
    "If you got an error message, you will need to specify the python.exe location (e.g., \"C:\\Program Files\\Anaconda\\python.exe\" in Windows OS)\n",
    "```"
   ]
  },
  {
   "cell_type": "markdown",
   "metadata": {
    "collapsed": false
   },
   "source": [
    "## <span style=\"color:black;\">Conventions</span>\n",
    "\n",
    "Throughout these lectures we use the following conventions to better understand the code.\n",
    "\n",
    "Commands in ***Anaconda command prompt*** are represented with `>`:\n",
    "\n",
    "```bash\n",
    "> cd change-to-my-folder\n",
    "> python first_code.py\n",
    "```\n",
    "\n",
    "Codes in ***Python interpreter*** are represented with `>>>`:\n",
    "\n",
    "```python >>> auto\n",
    ">>> 2+2\n",
    ">>> 10*213421\n",
    "```\n",
    "\n",
    "Code blocks written IDE code editor are:\n",
    "```python\n",
    "123456\n",
    "```\n",
    "\n",
    "```python\n",
    "def my_function(input_message):\n",
    "    \"\"\" printing message\"\"\"\n",
    "    print(input_message)\n",
    "```\n",
    "\n",
    "\n",
    "## <span style=\"color:black;\">Coding Style and PEP8</span>\n",
    "\n",
    "PEP8 (Python Enhancement Proposal 8) is a set of guidelines and recommendations for writing Python code that promotes code readability, consistency, and maintainability. PEP 8 is widely accepted and followed by the Python community. Here are three recommendations outlined in PEP 8:\n",
    "\n",
    "- Code Layout: PEP 8 suggests using 4 spaces for indentation and limiting line length to 79 characters. It also provides guidelines for using blank lines, spaces around operators, and consistent line breaks.\n",
    "\n",
    "- Naming Conventions: PEP 8 recommends using lowercase letters for variable and function names, separating words with underscores (snake_case). Class names should follow the CapWords convention (PascalCase). Constants should be written in uppercase letters with underscores.\n",
    "\n",
    "- Imports: PEP 8 recommends standard library imports first, followed by third-party library imports, and then local application or module imports. It also suggests avoiding wildcard imports (from module import *)"
   ]
  }
 ],
 "metadata": {
  "kernelspec": {
   "display_name": "Python 3 (ipykernel)",
   "language": "python",
   "name": "python3"
  },
  "language_info": {
   "codemirror_mode": {
    "name": "ipython",
    "version": 3
   },
   "file_extension": ".py",
   "mimetype": "text/x-python",
   "name": "python",
   "nbconvert_exporter": "python",
   "pygments_lexer": "ipython3",
   "version": "3.7.16"
  },
  "toc": {
   "base_numbering": 1,
   "nav_menu": {},
   "number_sections": false,
   "sideBar": true,
   "skip_h1_title": false,
   "title_cell": "Table of Contents",
   "title_sidebar": "Contents",
   "toc_cell": false,
   "toc_position": {},
   "toc_section_display": true,
   "toc_window_display": false
  }
 },
 "nbformat": 4,
 "nbformat_minor": 4
}