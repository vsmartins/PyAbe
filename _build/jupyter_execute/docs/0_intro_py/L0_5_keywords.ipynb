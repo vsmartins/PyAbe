{
 "cells": [
  {
   "cell_type": "markdown",
   "metadata": {
    "collapsed": false
   },
   "source": [
    "# <span style=\"color:black;\">Keywords</span>\n",
    "\n",
    "Keywords are reserved words that have a specific purpose within the language, and they can't be used to assignment variable names. Keywords are used to define control structures, such as if, else, for, and while, and others are used for specific purposes, such as def (to define a function) and import (to import modules).\n",
    "\n",
    "See below the list of Python Keywords\n",
    "\n",
    "| Keywords list | | | |\n",
    "|----------| ---------- | ---------- |----|\n",
    "| None | except   | and   | nonlocal |\n",
    "| True | pass   | is   | await |\n",
    "| False | finally   | as   | lambda |\n",
    "| import | def   | try   | assert |\n",
    "| from | while   | class   | del |\n",
    "| return | if   | not   | global |\n",
    "| in | elif   | with   | async |\n",
    "| continue | else   | or   | yield |\n",
    "| break | for   | raise   |\n",
    "\n",
    ":::{note}\n",
    "- Keywords are case-sensitive and must be written in lowercase, excepting for `None`, `True`, `False`.\n",
    "\n",
    "- Keywords cannot be used as variable names, function names, or any other identifier in your code.\n",
    ":::\n",
    "\n",
    "To obtain the list of keywords:"
   ]
  },
  {
   "cell_type": "code",
   "execution_count": 1,
   "metadata": {
    "collapsed": false
   },
   "outputs": [
    {
     "name": "stdout",
     "output_type": "stream",
     "text": [
      "['False', 'None', 'True', 'and', 'as', 'assert', 'async', 'await', 'break', 'class', 'continue', 'def', 'del', 'elif', 'else', 'except', 'finally', 'for', 'from', 'global', 'if', 'import', 'in', 'is', 'lambda', 'nonlocal', 'not', 'or', 'pass', 'raise', 'return', 'try', 'while', 'with', 'yield']\n"
     ]
    }
   ],
   "source": [
    "import keyword\n",
    "print(keyword.kwlist)"
   ]
  }
 ],
 "metadata": {
  "kernelspec": {
   "display_name": "Python 3 (ipykernel)",
   "language": "python",
   "name": "python3"
  },
  "language_info": {
   "codemirror_mode": {
    "name": "ipython",
    "version": 3
   },
   "file_extension": ".py",
   "mimetype": "text/x-python",
   "name": "python",
   "nbconvert_exporter": "python",
   "pygments_lexer": "ipython3",
   "version": "3.7.16"
  },
  "toc": {
   "base_numbering": 1,
   "nav_menu": {},
   "number_sections": false,
   "sideBar": true,
   "skip_h1_title": false,
   "title_cell": "Table of Contents",
   "title_sidebar": "Contents",
   "toc_cell": false,
   "toc_position": {},
   "toc_section_display": true,
   "toc_window_display": false
  }
 },
 "nbformat": 4,
 "nbformat_minor": 4
}