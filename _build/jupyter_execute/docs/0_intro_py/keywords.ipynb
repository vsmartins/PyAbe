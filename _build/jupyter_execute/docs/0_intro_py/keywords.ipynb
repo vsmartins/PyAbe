{
 "cells": [
  {
   "cell_type": "markdown",
   "metadata": {
    "collapsed": false
   },
   "source": [
    "(file-types:notebooks)=\n",
    "# Python Keywords\n",
    "\n",
    "https://www.programiz.com/python-programming/keywords-identifier\n",
    "\n",
    "Keywords in Python are reserved words that have a specific meaning and purpose within the language. These keywords are used to define the syntax and structure of the code, and they cannot be used as identifiers or variable names.\n",
    "\n",
    "Here are a few things to keep in mind about Python keywords:\n",
    "\n",
    ":::{warning}\n",
    "Except for `None`, `True`, `False`, **keywords** are case-sensitive and must be written in lowercase.\n",
    ":::\n",
    "\n",
    "* Since keywords have predefined meanings within Python, they cannot be used as variable names, function names, or any other identifier in your code.\n",
    "* Some keywords are used to define control structures, such as if, else, for, and while, while others are used for specific purposes, such as def (to define a function) and import (to import modules).\n",
    "* When using a keyword as a string, you can prefix it with a single backslash (\\) to avoid it being interpreted as a keyword. For example, you can write 'if' as '\\if'.\n",
    "\n",
    "| | Keywords list | | |\n",
    "|----------| ---------- | ---------- | ---------- |\n",
    "| None | except   | and   | nonlocal   |\n",
    "| True | pass   | is   | await   |\n",
    "| False | finally   | as   | lambda   |\n",
    "| import | def   | try   | assert   |\n",
    "| from | while   | class   | del   |\n",
    "| return | if   | not   | global   |\n",
    "| in | elif   | with   | async   |\n",
    "| continue | else   | or   | yield   |\n",
    "| break | for   | raise   |\n",
    "\n",
    "To obtain the list of keywords in your current Python version, you can use the following command in the Python prompt:"
   ]
  },
  {
   "cell_type": "code",
   "execution_count": 1,
   "metadata": {
    "collapsed": false
   },
   "outputs": [
    {
     "name": "stdout",
     "output_type": "stream",
     "text": [
      "['False', 'None', 'True', 'and', 'as', 'assert', 'async', 'await', 'break', 'class', 'continue', 'def', 'del', 'elif', 'else', 'except', 'finally', 'for', 'from', 'global', 'if', 'import', 'in', 'is', 'lambda', 'nonlocal', 'not', 'or', 'pass', 'raise', 'return', 'try', 'while', 'with', 'yield']\n"
     ]
    }
   ],
   "source": [
    "import keyword\n",
    "\n",
    "print(keyword.kwlist)"
   ]
  },
  {
   "cell_type": "markdown",
   "metadata": {
    "collapsed": false
   },
   "source": [
    "\n",
    "## Examples\n",
    "\n"
   ]
  },
  {
   "cell_type": "markdown",
   "metadata": {
    "collapsed": false
   },
   "source": []
  }
 ],
 "metadata": {
  "kernelspec": {
   "display_name": "Python 3 (ipykernel)",
   "language": "python",
   "name": "python3"
  },
  "language_info": {
   "codemirror_mode": {
    "name": "ipython",
    "version": 3
   },
   "file_extension": ".py",
   "mimetype": "text/x-python",
   "name": "python",
   "nbconvert_exporter": "python",
   "pygments_lexer": "ipython3",
   "version": "3.7.16"
  },
  "toc": {
   "base_numbering": 1,
   "nav_menu": {},
   "number_sections": false,
   "sideBar": true,
   "skip_h1_title": false,
   "title_cell": "Table of Contents",
   "title_sidebar": "Contents",
   "toc_cell": false,
   "toc_position": {},
   "toc_section_display": true,
   "toc_window_display": false
  }
 },
 "nbformat": 4,
 "nbformat_minor": 4
}
