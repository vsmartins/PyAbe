{
 "cells": [
  {
   "cell_type": "markdown",
   "metadata": {
    "collapsed": false
   },
   "source": [
    "\n",
    "UTILS\n",
    "\n",
    ":::{important}\n",
    " The number of variables on the left side of the assignment operator should match the number of values in the iterable.\n",
    " These techniques allow you to assign multiple values to multiple variables in a concise and efficient manner, making your code more readable and reducing the number of lines needed for assignment.\n",
    ":::\n",
    "\n",
    ":::{hint}\n",
    "<details>\n",
    "  <summary markdown=\"span\">***This is the summary text, click me to expand***</summary>\n",
    "\n",
    "  This is the detailed text.\n",
    "\n",
    "  We can still use markdown, but we need to take the additional step of using the `parse_block_html` option as described in the [Mix HTML + Markdown Markup section](#mix-html--markdown-markup).\n",
    "\n",
    "  You can learn more about expected usage of this approach in the [GitLab UI docs](https://gitlab-org.gitlab.io/gitlab-ui/?path=/story/base-collapse--default) though the solution we use above is specific to usage in markdown.\n",
    "</details>\n",
    ":::\n",
    "\n",
    ":::{note}\n",
    "Some **content** with _Markdown_ `syntax`. Check [this `api`](#).\n",
    ":::\n",
    "\n",
    ":::{tip}\n",
    "Some **content** with _Markdown_ `syntax`. Check [this `api`](#).\n",
    ":::\n",
    "\n",
    ":::{info}\n",
    "Some **content** with _Markdown_ `syntax`. Check [this `api`](#).\n",
    ":::\n",
    "\n",
    ":::{caution}\n",
    "\n",
    "Some **content** with _Markdown_ `syntax`. Check [this `api`](#).\n",
    "\n",
    ":::\n",
    "\n",
    ":::{danger}\n",
    "\n",
    "Some **content** with _Markdown_ `syntax`. Check [this `api`](#).\n",
    "\n",
    ":::\n",
    "\n",
    "```{margin} **You can also pop out content to the side!**\n",
    "Functions play a crucial role in structuring and organizing code, promoting code reuse, and improving the maintainability and readability of your programs. They allow you to break down complex tasks into smaller, manageable parts, making your code more modular and easier to understand and debug.\n",
    "\n",
    "```+"
   ]
  }
 ],
 "metadata": {
  "kernelspec": {
   "display_name": "Python 3 (ipykernel)",
   "language": "python",
   "name": "python3"
  },
  "language_info": {
   "codemirror_mode": {
    "name": "ipython",
    "version": 3
   },
   "file_extension": ".py",
   "mimetype": "text/x-python",
   "name": "python",
   "nbconvert_exporter": "python",
   "pygments_lexer": "ipython3",
   "version": "3.7.16"
  },
  "toc": {
   "base_numbering": 1,
   "nav_menu": {},
   "number_sections": false,
   "sideBar": true,
   "skip_h1_title": false,
   "title_cell": "Table of Contents",
   "title_sidebar": "Contents",
   "toc_cell": false,
   "toc_position": {},
   "toc_section_display": true,
   "toc_window_display": false
  }
 },
 "nbformat": 4,
 "nbformat_minor": 4
}