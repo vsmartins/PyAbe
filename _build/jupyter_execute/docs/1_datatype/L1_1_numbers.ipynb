{
 "cells": [
  {
   "cell_type": "markdown",
   "metadata": {
    "collapsed": false
   },
   "source": [
    "# <span style=\"color:black;\">Numbers</span>\n",
    "Numeric data types provide the foundation for mathematical operations in Python.\n",
    "\n",
    "* There are three main numeric data types in Python: integer, float, and complex.\n",
    "\n",
    "## <span style=\"color:black;\">Integer</span>\n",
    "**Integers** (`int`) are whole numbers without a fractional component. They can be positive or negative (e.g., -5, 0, 10). Integers have unlimited precision, meaning they can represent arbitrarily large or small numbers."
   ]
  },
  {
   "cell_type": "markdown",
   "metadata": {
    "collapsed": false
   },
   "source": [
    "```python\n",
    "# Integer\n",
    "num1 = 10\n",
    "num2 = 1001\n",
    "num3 = 2516801185\n",
    "```"
   ]
  },
  {
   "cell_type": "markdown",
   "metadata": {
    "collapsed": false
   },
   "source": [
    "## <span style=\"color:black;\">Float</span>\n",
    "\n",
    "**Floating-point** (`float`) numbers represent real numbers with a fractional component. They are specified using decimal notation, with an optional exponent, such as 3.14, -0.5, 1e-3."
   ]
  },
  {
   "cell_type": "markdown",
   "metadata": {
    "collapsed": false
   },
   "source": [
    "```python\n",
    "# Floating-Point\n",
    "num3 = 3.14\n",
    "num4 = 123.4\n",
    "```"
   ]
  },
  {
   "cell_type": "markdown",
   "metadata": {
    "collapsed": false
   },
   "source": [
    "## <span style=\"color:black;\">Complex</span>\n",
    "\n",
    "**Complex** numbers are used to represent numbers with both a real and imaginary part. They are specified using the j or J suffix to denote the imaginary unit, such as 2 + 3j, -1j."
   ]
  },
  {
   "cell_type": "markdown",
   "metadata": {
    "collapsed": false
   },
   "source": [
    "```python\n",
    "# Complex\n",
    "num3 = 3 + 5j\n",
    "```"
   ]
  }
 ],
 "metadata": {
  "kernelspec": {
   "display_name": "Python 3 (ipykernel)",
   "language": "python",
   "name": "python3"
  },
  "language_info": {
   "codemirror_mode": {
    "name": "ipython",
    "version": 3
   },
   "file_extension": ".py",
   "mimetype": "text/x-python",
   "name": "python",
   "nbconvert_exporter": "python",
   "pygments_lexer": "ipython3",
   "version": "3.7.16"
  },
  "toc": {
   "base_numbering": 1,
   "nav_menu": {},
   "number_sections": false,
   "sideBar": true,
   "skip_h1_title": false,
   "title_cell": "Table of Contents",
   "title_sidebar": "Contents",
   "toc_cell": false,
   "toc_position": {},
   "toc_section_display": true,
   "toc_window_display": false
  }
 },
 "nbformat": 4,
 "nbformat_minor": 4
}