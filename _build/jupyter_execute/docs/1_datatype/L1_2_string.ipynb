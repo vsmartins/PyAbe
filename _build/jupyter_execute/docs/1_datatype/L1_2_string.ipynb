{
 "cells": [
  {
   "cell_type": "markdown",
   "metadata": {
    "collapsed": false
   },
   "source": [
    "# <span style=\"color:black;\">Strings</span>\n",
    "## <span style=\"color:black;\">Overview</span>\n",
    "\n",
    "Strings are a fundamental data type used to represent text, and can contain letters, numbers, symbols, and special characters. A string is a sequence of characters enclosed in either single quotes (') or double quotes (\"). They can be used to store and represent textual information, such as names, file paths, and more.\n",
    "\n",
    "**Examples:**"
   ]
  },
  {
   "cell_type": "code",
   "execution_count": 1,
   "metadata": {
    "collapsed": false
   },
   "outputs": [],
   "source": [
    "name = \"earth\"\n",
    "message = 'ABE for Earth Science'\n",
    "address = \"130 Creelman street\"\n",
    "path2dir = 'C:\\\\projects\\\\myproject'"
   ]
  },
  {
   "cell_type": "markdown",
   "metadata": {
    "collapsed": false
   },
   "source": [
    "Strings are immutable (i.e., they cannot be changed once they are created), but several operations are available, including concatenation, slicing, formatting, and more."
   ]
  },
  {
   "cell_type": "markdown",
   "metadata": {
    "collapsed": false
   },
   "source": [
    "- **Concatenation**"
   ]
  },
  {
   "cell_type": "code",
   "execution_count": 2,
   "metadata": {
    "collapsed": false
   },
   "outputs": [
    {
     "name": "stdout",
     "output_type": "stream",
     "text": [
      "Earth Science\n"
     ]
    }
   ],
   "source": [
    "word1 = \"Earth\"\n",
    "word2 = \"Science\"\n",
    "concatenate = word1 + \" \" + word2\n",
    "print(concatenate)\n"
   ]
  },
  {
   "cell_type": "markdown",
   "metadata": {
    "collapsed": false
   },
   "source": [
    "- **Slicing**: This is useful to extract parts of string"
   ]
  },
  {
   "cell_type": "code",
   "execution_count": 3,
   "metadata": {
    "ExecuteTime": {
     "end_time": "2023-05-19T19:48:37.593468900Z",
     "start_time": "2023-05-19T19:48:37.583255400Z"
    },
    "collapsed": false
   },
   "outputs": [
    {
     "name": "stdout",
     "output_type": "stream",
     "text": [
      "Science\n"
     ]
    }
   ],
   "source": [
    "# Slicing\n",
    "text = \"Earth Science!\"\n",
    "substring = text[6:13]\n",
    "print(substring)"
   ]
  },
  {
   "cell_type": "markdown",
   "metadata": {
    "collapsed": false
   },
   "source": [
    ":::{note}\n",
    "Slicing uses the following syntax:\n",
    "\n",
    "sequence[start:end:step]\n",
    "\n",
    "* Sequence is your variable name\n",
    "* Start and end are indices where the slice starts and ends, respectively. Python counts from zero, instead of 1.\n",
    "* Step is optional index that increments the step between indices\n",
    ":::"
   ]
  },
  {
   "cell_type": "code",
   "execution_count": 4,
   "metadata": {
    "collapsed": false
   },
   "outputs": [
    {
     "name": "stdout",
     "output_type": "stream",
     "text": [
      "Earth\n"
     ]
    }
   ],
   "source": [
    "text = \"Earth Science!\"\n",
    "print(text[0:5])"
   ]
  },
  {
   "cell_type": "code",
   "execution_count": 5,
   "metadata": {
    "collapsed": false
   },
   "outputs": [
    {
     "name": "stdout",
     "output_type": "stream",
     "text": [
      "Earth\n"
     ]
    }
   ],
   "source": [
    "# omitting the first index, and it will start from zero\n",
    "print(text[:5])"
   ]
  },
  {
   "cell_type": "code",
   "execution_count": 6,
   "metadata": {
    "collapsed": false
   },
   "outputs": [
    {
     "name": "stdout",
     "output_type": "stream",
     "text": [
      "Erh\n"
     ]
    }
   ],
   "source": [
    "# increment in 2\n",
    "print(text[0:5:2])"
   ]
  },
  {
   "cell_type": "code",
   "execution_count": 7,
   "metadata": {
    "collapsed": false
   },
   "outputs": [
    {
     "name": "stdout",
     "output_type": "stream",
     "text": [
      "Earth Sci\n"
     ]
    }
   ],
   "source": [
    "# get the last five characters. Note the negative sign to count backwards\n",
    "print(text[:-5])"
   ]
  },
  {
   "cell_type": "markdown",
   "metadata": {
    "collapsed": false
   },
   "source": [
    "\n",
    "- **Formatting**: This is powerful to modify system paths and filenames. The **\"f\"** prefix before the string allows you to directly *embed expressions inside* curly braces {} within the string. The **{expressions}** will be replaced with their corresponding values."
   ]
  },
  {
   "cell_type": "code",
   "execution_count": 8,
   "metadata": {
    "collapsed": false
   },
   "outputs": [
    {
     "name": "stdout",
     "output_type": "stream",
     "text": [
      "My name is Vitor and I'm teaching Python\n"
     ]
    }
   ],
   "source": [
    "name= \"Vitor\"\n",
    "language='Python'\n",
    "info = f\"My name is {name} and I'm teaching {language}\"\n",
    "print(info)"
   ]
  },
  {
   "cell_type": "markdown",
   "metadata": {
    "collapsed": false
   },
   "source": [
    "## <span style=\"color:black;\">String Methods</span>\n",
    "A string method is like a function that runs act on the created variable. If the variable my_name is a string, then the code my_name.lower() runs the `lower()` method on that string and returns the result (this idea is the foundation of Object-Oriented Programming).\n",
    "\n",
    "See the most common string methods:\n",
    "\n",
    "| **String methods** | **Descriptions**                                                                                                                                                             |\n",
    "|----------|------------------------------------------------------------------------------------------------------------------------------------------------------------------------------|\n",
    "| `my_name.lower()`, `my_name.upper()` | returns the lowercase or uppercase version of the string                                                                                                                     |\n",
    "| `my_name.strip()` | returns a string with whitespace removed from the start and end                                                                                                              |\n",
    "| `my_name.isalpha()`/`my_name.isdigit()`/`my_name.isspace()` | verifies if all the string chars are in the various character classes                                                                                                       |\n",
    "| `my_name.startswith('other')`, `my_name.endswith('other')` | verifies if the string starts or ends with the given other string                                                                                                               |\n",
    "| `my_name.find('other')` | searches for the given other string within s, and returns the first index where it begins or -1 if not found                                      |\n",
    "| `my_name.replace('old', 'new')` | returns a string where all occurrences of 'old' have been replaced by 'new'                                                                                                  |\n",
    "| `my_name.split('delim')` | returns a list of substrings separated by the given delimiter. The delimiter is not a regular expression, it's just text. 'aaa,bbb,ccc'.split(',') -> ['aaa', 'bbb', 'ccc']. |\n",
    "| `my_name.join(list)` | opposite of split(), joins the elements in the given list together using the string as the delimiter. e.g. '---'.join(['aaa', 'bbb', 'ccc']) -> aaa---bbb---ccc              |"
   ]
  },
  {
   "cell_type": "markdown",
   "metadata": {
    "collapsed": false
   },
   "source": [
    "`upper()`: Converts a string to uppercase"
   ]
  },
  {
   "cell_type": "code",
   "execution_count": 9,
   "metadata": {
    "collapsed": false
   },
   "outputs": [
    {
     "name": "stdout",
     "output_type": "stream",
     "text": [
      "HELLO, WORLD!\n"
     ]
    }
   ],
   "source": [
    "my_string = \"hello, world!\"\n",
    "print(my_string.upper())  # \"HELLO, WORLD!\""
   ]
  },
  {
   "cell_type": "markdown",
   "metadata": {
    "collapsed": false
   },
   "source": [
    "`lower()` - Converts a string to lowercase"
   ]
  },
  {
   "cell_type": "code",
   "execution_count": 10,
   "metadata": {
    "collapsed": false
   },
   "outputs": [
    {
     "name": "stdout",
     "output_type": "stream",
     "text": [
      "hello, world!\n"
     ]
    }
   ],
   "source": [
    "my_string = \"HELLO, WORLD!\"\n",
    "print(my_string.lower())  # \"hello, world!\""
   ]
  },
  {
   "cell_type": "markdown",
   "metadata": {
    "collapsed": false
   },
   "source": [
    "`capitalize()` - Capitalizes the first character of a string and converts the rest to lowercase"
   ]
  },
  {
   "cell_type": "code",
   "execution_count": 11,
   "metadata": {
    "collapsed": false
   },
   "outputs": [
    {
     "name": "stdout",
     "output_type": "stream",
     "text": [
      "Hello, world!\n"
     ]
    }
   ],
   "source": [
    "my_string = \"hello, world!\"\n",
    "print(my_string.capitalize())  # \"Hello, world!\""
   ]
  },
  {
   "cell_type": "markdown",
   "metadata": {
    "collapsed": false
   },
   "source": [
    "`count(substring)` - Returns the number of occurrences of a substring in a string"
   ]
  },
  {
   "cell_type": "code",
   "execution_count": 12,
   "metadata": {
    "collapsed": false
   },
   "outputs": [
    {
     "name": "stdout",
     "output_type": "stream",
     "text": [
      "2\n"
     ]
    }
   ],
   "source": [
    "my_string = \"hello, hello, world!\"\n",
    "print(my_string.count(\"hello\"))  # 2"
   ]
  },
  {
   "cell_type": "markdown",
   "metadata": {
    "collapsed": false
   },
   "source": [
    "`startswith(prefix)` - Checks if a string starts with a specific prefix"
   ]
  },
  {
   "cell_type": "code",
   "execution_count": 13,
   "metadata": {
    "collapsed": false
   },
   "outputs": [
    {
     "name": "stdout",
     "output_type": "stream",
     "text": [
      "True\n"
     ]
    }
   ],
   "source": [
    "my_string = \"Hello, world!\"\n",
    "print(my_string.startswith(\"Hello\"))  # True"
   ]
  },
  {
   "cell_type": "markdown",
   "metadata": {
    "collapsed": false
   },
   "source": [
    "`endswith(suffix)` - Checks if a string ends with a specific suffix"
   ]
  },
  {
   "cell_type": "code",
   "execution_count": 14,
   "metadata": {
    "collapsed": false
   },
   "outputs": [
    {
     "name": "stdout",
     "output_type": "stream",
     "text": [
      "True\n"
     ]
    }
   ],
   "source": [
    "my_string = \"Hello, world!\"\n",
    "print(my_string.endswith(\"world!\"))  # True"
   ]
  },
  {
   "cell_type": "markdown",
   "metadata": {
    "collapsed": false
   },
   "source": [
    "`split(separator)` - Splits a string into a list of substrings based on a separator"
   ]
  },
  {
   "cell_type": "code",
   "execution_count": 15,
   "metadata": {
    "collapsed": false
   },
   "outputs": [
    {
     "name": "stdout",
     "output_type": "stream",
     "text": [
      "['Hello', 'world!']\n"
     ]
    }
   ],
   "source": [
    "my_string = \"Hello, world!\"\n",
    "print(my_string.split(\", \"))  # [\"Hello\", \"world!\"]"
   ]
  },
  {
   "cell_type": "markdown",
   "metadata": {
    "collapsed": false
   },
   "source": [
    "`replace(old, new)` - Replaces occurrences of a substring with a new value"
   ]
  },
  {
   "cell_type": "code",
   "execution_count": 16,
   "metadata": {
    "collapsed": false
   },
   "outputs": [
    {
     "name": "stdout",
     "output_type": "stream",
     "text": [
      "Hello, Python!\n"
     ]
    }
   ],
   "source": [
    "my_string = \"Hello, world!\"\n",
    "print(my_string.replace(\"world\", \"Python\"))  # \"Hello, Python!\""
   ]
  },
  {
   "cell_type": "markdown",
   "metadata": {
    "collapsed": false
   },
   "source": [
    "`strip()` - Removes leading and trailing whitespace from a string"
   ]
  },
  {
   "cell_type": "code",
   "execution_count": 17,
   "metadata": {
    "collapsed": false
   },
   "outputs": [
    {
     "name": "stdout",
     "output_type": "stream",
     "text": [
      "hello, world!\n"
     ]
    }
   ],
   "source": [
    "my_string = \"   hello, world!   \"\n",
    "print(my_string.strip())  # \"hello, world!\""
   ]
  },
  {
   "cell_type": "markdown",
   "metadata": {
    "collapsed": false
   },
   "source": [
    "## <span style=\"color:black;\">Escaping characters</span>\n",
    "Escaping characters refers to special characters or symbols within a string that would be interpreted differently, such as quotes, newlines, tabs, and backslashes within a string.\n",
    "\n",
    "Most common escape sequences:\n",
    "- `\\\"`: Double quote\n",
    "* `\\'`: Single quote\n",
    "* `\\\\`: Backslash\n",
    "* `\\n`: Newline\n",
    "* `\\t`: Tab\n",
    "* `\\b`: Backspace\n",
    "* `\\r`: Carriage return\n",
    "\n",
    "Let's try:"
   ]
  },
  {
   "cell_type": "code",
   "execution_count": 18,
   "metadata": {
    "collapsed": false
   },
   "outputs": [
    {
     "ename": "SyntaxError",
     "evalue": "invalid syntax (1979304785.py, line 1)",
     "output_type": "error",
     "traceback": [
      "\u001b[1;36m  File \u001b[1;32m\"C:\\Users\\vsm71\\AppData\\Local\\Temp\\ipykernel_9152\\1979304785.py\"\u001b[1;36m, line \u001b[1;32m1\u001b[0m\n\u001b[1;33m    my_string = 'It's a brillant future!'\u001b[0m\n\u001b[1;37m                    ^\u001b[0m\n\u001b[1;31mSyntaxError\u001b[0m\u001b[1;31m:\u001b[0m invalid syntax\n"
     ]
    }
   ],
   "source": [
    "my_string = 'It's a brillant future!'"
   ]
  },
  {
   "cell_type": "code",
   "execution_count": null,
   "metadata": {
    "collapsed": false
   },
   "outputs": [],
   "source": [
    "my_string = 'It\\'s a brillant future!'\n",
    "print(my_string)"
   ]
  },
  {
   "cell_type": "markdown",
   "metadata": {
    "collapsed": false
   },
   "source": [
    "Alternatively, you can also use double-quotes if your string contains a single-quote."
   ]
  },
  {
   "cell_type": "code",
   "execution_count": null,
   "metadata": {
    "collapsed": false
   },
   "outputs": [],
   "source": [
    "my_string = \"It's a brillant future!\"\n",
    "print(my_string)"
   ]
  },
  {
   "cell_type": "markdown",
   "metadata": {
    "collapsed": false
   },
   "source": [
    ":::{note}\n",
    "If a string contains both single and double quotes, you can use triple quotes to ensure that the string is treated correctly. By enclosing the string within triple quotes (either triple single quotes ''' or triple double quotes \"\"\"), you can include both types of quotes without the need for escape sequences.\n",
    "```python\n",
    "latitude = '''30° 18' 07.2992\" N'''\n",
    "longitude = '''88° 39' 18.6692\" W'''\n",
    "print(latitude, longitude)\n",
    "```\n",
    ":::"
   ]
  },
  {
   "cell_type": "markdown",
   "metadata": {
    "collapsed": false
   },
   "source": [
    "## <span style=\"color:black;\">Operating System</span>"
   ]
  },
  {
   "cell_type": "markdown",
   "metadata": {
    "collapsed": false
   },
   "source": [
    ":::{important}\n",
    "Backslashes pose another problem when dealing with paths in OS Windows because the escaping characters are going to return the error for some paths\n",
    "\n",
    "```python\n",
    "path = 'C:\\Users\\udir'\n",
    "```\n",
    "\n",
    "To solve the issue, you can prefix a string with `r` or add `\\\\`:\n",
    "\n",
    "```python\n",
    "path = r'C:\\Users\\udir'\n",
    "\n",
    "path = 'C:\\\\Users\\\\udir'\n",
    "```\n",
    ":::"
   ]
  }
 ],
 "metadata": {
  "kernelspec": {
   "display_name": "Python 3 (ipykernel)",
   "language": "python",
   "name": "python3"
  },
  "language_info": {
   "codemirror_mode": {
    "name": "ipython",
    "version": 3
   },
   "file_extension": ".py",
   "mimetype": "text/x-python",
   "name": "python",
   "nbconvert_exporter": "python",
   "pygments_lexer": "ipython3",
   "version": "3.7.16"
  },
  "toc": {
   "base_numbering": 1,
   "nav_menu": {},
   "number_sections": false,
   "sideBar": true,
   "skip_h1_title": false,
   "title_cell": "Table of Contents",
   "title_sidebar": "Contents",
   "toc_cell": false,
   "toc_position": {},
   "toc_section_display": true,
   "toc_window_display": false
  }
 },
 "nbformat": 4,
 "nbformat_minor": 4
}