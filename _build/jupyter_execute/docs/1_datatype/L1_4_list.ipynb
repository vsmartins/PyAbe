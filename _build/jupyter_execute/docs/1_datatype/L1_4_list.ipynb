{
 "cells": [
  {
   "cell_type": "markdown",
   "metadata": {
    "collapsed": false
   },
   "source": [
    "# <span style=\"color:black;\">List</span>\n",
    "\n",
    "## <span style=\"color:black;\">Overview</span>\n",
    "\n",
    "A list is a collection of elements (i.e., numbers, strings, etc) that are ordered and indexed. Lists are defined using square brackets `[]` or `List()`, and individual elements are separated by commas (e.g., new_list = [1, 2, 3]).\n",
    "\n",
    ":::{note}\n",
    "\n",
    "**General syntax**\n",
    "\n",
    "```python\n",
    "my_list = [element1, element2, element3, ..., elementN]\n",
    "```\n",
    "- `my_list`: List variable\n",
    "- `element1`, `element2`, `element3`, ..., `elementN`: The elements of the list.\n",
    "- These elements can be of any data type and are enclosed in square brackets `[]`, and are separated by commas\n",
    ":::\n",
    "\n",
    "## <span style=\"color:black;\">Examples</span>\n",
    "\n",
    "* Examples"
   ]
  },
  {
   "cell_type": "code",
   "execution_count": 1,
   "metadata": {
    "collapsed": false
   },
   "outputs": [],
   "source": [
    "numbers = [1, 2, 3, 4, 5]\n",
    "earth_elements = [\"earth\", \"water\", \"land\"]\n",
    "my_list = [1, 2, 3, \"water\", \"land\", True]\n",
    "mixed_list = [1, \"earth\", True, 3.14]"
   ]
  },
  {
   "cell_type": "markdown",
   "metadata": {
    "collapsed": false
   },
   "source": [
    "* Access individual elements of the list using their index, starting from 0."
   ]
  },
  {
   "cell_type": "code",
   "execution_count": 2,
   "metadata": {
    "collapsed": false
   },
   "outputs": [
    {
     "name": "stdout",
     "output_type": "stream",
     "text": [
      "1\n",
      "earth\n",
      "['earth', True]\n"
     ]
    }
   ],
   "source": [
    "mixed = [1, \"earth\", True, 3.14]\n",
    "print(mixed[0])  # 1\n",
    "print(mixed[1])  # \"earth\"\n",
    "print(mixed[1:3])  # \"earth\", True"
   ]
  },
  {
   "cell_type": "markdown",
   "metadata": {
    "collapsed": false
   },
   "source": [
    ":::{important}\n",
    "Lists are **mutable** (i.e., can be modified after creation), and you can add, remove, or modify elements of the list anytime.\n",
    ":::\n",
    "\n",
    "* Modify the values of specific elements using their index"
   ]
  },
  {
   "cell_type": "code",
   "execution_count": 3,
   "metadata": {
    "collapsed": false
   },
   "outputs": [
    {
     "name": "stdout",
     "output_type": "stream",
     "text": [
      "[1, 'new element replacing the old one', True, 3.14]\n"
     ]
    }
   ],
   "source": [
    "mixed = [1, \"earth\", True, 3.14]\n",
    "mixed[1] = 'new element replacing the old one'\n",
    "print(mixed)  # [1, 'new element replacing the old one',, True 3.14]"
   ]
  },
  {
   "cell_type": "markdown",
   "metadata": {
    "collapsed": false
   },
   "source": [
    "* Perform operations on lists such as appending, inserting, and removing items"
   ]
  },
  {
   "cell_type": "code",
   "execution_count": 4,
   "metadata": {
    "collapsed": false
   },
   "outputs": [
    {
     "name": "stdout",
     "output_type": "stream",
     "text": [
      "[1, 'earth', True, 3.14, 'engineering']\n",
      "[1, 'earth', 'newinsert', True, 3.14, 'engineering']\n",
      "[1, 'newinsert', True, 3.14, 'engineering']\n"
     ]
    }
   ],
   "source": [
    "mixed = [1, \"earth\", True, 3.14]\n",
    "mixed.append(\"engineering\")  # Add an item to the end of the list\n",
    "print(mixed)  # [1, \"earth\", True, 3.14, \"engineering\"]\n",
    "\n",
    "mixed.insert(2, \"newinsert\")  # Insert an item at a specific index\n",
    "print(mixed)  # [1, \"earth\", \"newinsert\", True, 3.14, \"engineering\"]\n",
    "\n",
    "mixed.remove(\"earth\")  # Remove a specific item\n",
    "print(mixed)  # [1, \"newinsert\", True, 3.14, \"engineering\"]"
   ]
  },
  {
   "cell_type": "markdown",
   "metadata": {
    "collapsed": false
   },
   "source": []
  }
 ],
 "metadata": {
  "kernelspec": {
   "display_name": "Python 3 (ipykernel)",
   "language": "python",
   "name": "python3"
  },
  "language_info": {
   "codemirror_mode": {
    "name": "ipython",
    "version": 3
   },
   "file_extension": ".py",
   "mimetype": "text/x-python",
   "name": "python",
   "nbconvert_exporter": "python",
   "pygments_lexer": "ipython3",
   "version": "3.7.16"
  },
  "toc": {
   "base_numbering": 1,
   "nav_menu": {},
   "number_sections": false,
   "sideBar": true,
   "skip_h1_title": false,
   "title_cell": "Table of Contents",
   "title_sidebar": "Contents",
   "toc_cell": false,
   "toc_position": {},
   "toc_section_display": true,
   "toc_window_display": false
  }
 },
 "nbformat": 4,
 "nbformat_minor": 4
}