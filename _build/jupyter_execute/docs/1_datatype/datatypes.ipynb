{
 "cells": [
  {
   "cell_type": "markdown",
   "metadata": {
    "collapsed": false
   },
   "source": [
    "(file-types:notebooks)=\n",
    "# What are the data types?\n",
    "\n",
    "A data type in programming is a classification or categorization of data that specifies the possible values it can take, the operations that can be performed on it, and the storage requirements. Data types provide a way to represent and manipulate different kinds of data in a structured and meaningful manner.\n",
    "\n",
    "In Python, data types define the nature of a variable or object and determine the operations that can be performed on them. Python has several built-in data types, including:\n",
    "\n",
    "* **Numeric Types**: Integers (`int`), floating-point numbers (float), and complex numbers (complex).\n",
    "\n",
    "* **Text Type**: Strings (`str`), which represent sequences of characters enclosed in single quotes ('') or double quotes (\"\").\n",
    "\n",
    "* **Boolean Type**: Boolean (`bool`), which represents either True or False values.\n",
    "\n",
    "* **Sequence Types**: Lists (`list`), tuples (tuple), and range objects (range).\n",
    "\n",
    "* **Mapping Type**: Dictionary (`dict`), which stores key-value pairs.\n",
    "\n",
    "* **Set Types**: Set (`set`) and frozenset (frozenset), which represent unordered collections of unique elements.\n",
    "\n",
    "* **None Type**: `None`, which represents the absence of a value or a null value.\n",
    "\n",
    ":::{important}\n",
    "Additionally, Python supports user-defined data types through classes and objects, allowing you to create custom data structures and encapsulate data and functionality within them.\n",
    ":::\n",
    "\n",
    "Understanding the different data types is crucial for performing operations and manipulations on variables, as each data type has its own set of operations and behaviors. Python is a dynamically typed language, which means that variables can change their data type during runtime based on the assigned value.\n",
    "\n",
    "## Find the type\n",
    "\n",
    "When we assign a value to a new variable, we are also indicating the data type. To verify the data type, you can use a built-in function called type() function returns the type of the object passed as an argument."
   ]
  },
  {
   "cell_type": "code",
   "execution_count": 1,
   "metadata": {
    "collapsed": false
   },
   "outputs": [
    {
     "name": "stdout",
     "output_type": "stream",
     "text": [
      "<class 'str'>\n",
      "<class 'int'>\n",
      "<class 'float'>\n",
      "<class 'bool'>\n"
     ]
    }
   ],
   "source": [
    "# Define variables\n",
    "lake_name = \"Lake Michigan\"\n",
    "depth_ft = 279\n",
    "min_width_mi = 91.0\n",
    "is_lake = True\n",
    "\n",
    "# Find the type of each variable\n",
    "print(type(lake_name))       # <class 'str'>\n",
    "print(type(depth_ft))        # <class 'int'>\n",
    "print(type(min_width_mi))     # <class 'float'>\n",
    "print(type(is_lake)) # <class 'bool'>"
   ]
  }
 ],
 "metadata": {
  "kernelspec": {
   "display_name": "Python 3 (ipykernel)",
   "language": "python",
   "name": "python3"
  },
  "language_info": {
   "codemirror_mode": {
    "name": "ipython",
    "version": 3
   },
   "file_extension": ".py",
   "mimetype": "text/x-python",
   "name": "python",
   "nbconvert_exporter": "python",
   "pygments_lexer": "ipython3",
   "version": "3.7.16"
  },
  "toc": {
   "base_numbering": 1,
   "nav_menu": {},
   "number_sections": false,
   "sideBar": true,
   "skip_h1_title": false,
   "title_cell": "Table of Contents",
   "title_sidebar": "Contents",
   "toc_cell": false,
   "toc_position": {},
   "toc_section_display": true,
   "toc_window_display": false
  }
 },
 "nbformat": 4,
 "nbformat_minor": 4
}
