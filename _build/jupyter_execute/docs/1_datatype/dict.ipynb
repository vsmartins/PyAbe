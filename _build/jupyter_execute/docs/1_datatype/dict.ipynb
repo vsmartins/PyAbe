{
 "cells": [
  {
   "cell_type": "markdown",
   "metadata": {
    "collapsed": false
   },
   "source": [
    "# Dictionary\n",
    "\n",
    "## Overview\n",
    "In Python, a dictionary is a collection of key-value pairs, also known as an associative array or a hash table. It is an unordered, mutable, and indexed collection of elements, where each element is a key-value pair separated by a colon and enclosed in curly braces.\n",
    "\n",
    "Dictionaries are used to store and manipulate data in a way that allows for efficient lookup and retrieval of values based on their associated keys. They are commonly used to represent real-world objects, such as a person, a car, a book, or a customer, where each property or attribute is represented as a key-value pair.\n",
    "\n",
    ":::{note}\n",
    "my_dict = {\\\n",
    "            key1: value1,\\\n",
    "            key2: value2,\\\n",
    "            key3: value3,\\\n",
    "            ...\n",
    "            }\n",
    "\n",
    "* `my_dict`: The name given to the dictionary variable, which can be any valid variable name.\n",
    "* `key1`, `key2`, `key3`, ...: The keys that uniquely identify each value in the dictionary. Keys can be of any immutable data type, such as strings, integers, or tuples.\n",
    "* `value1`, `value2`, `value3`, ...: The corresponding values associated with each key in the dictionary. Values can be of any data type and can be repeated.\n",
    "\n",
    ":::\n",
    "\n",
    "\n",
    "\n",
    "## Example"
   ]
  },
  {
   "cell_type": "code",
   "execution_count": 1,
   "metadata": {
    "collapsed": false
   },
   "outputs": [
    {
     "name": "stdout",
     "output_type": "stream",
     "text": [
      "John Smith\n",
      "30\n",
      "john.smith@example.com\n",
      "name\n",
      "age\n",
      "email\n",
      "address\n",
      "John Smith\n",
      "35\n",
      "john.smith@newmail.com\n",
      "123 Main St, Anytown USA\n",
      "name John Smith\n",
      "age 35\n",
      "email john.smith@newmail.com\n",
      "address 123 Main St, Anytown USA\n"
     ]
    }
   ],
   "source": [
    "# Create a dictionary of a person's details\n",
    "person = {\n",
    "    \"name\": \"John Smith\",\n",
    "    \"age\": 30,\n",
    "    \"gender\": \"Male\",\n",
    "    \"email\": \"john.smith@example.com\"\n",
    "}\n",
    "\n",
    "# Access the values of a dictionary\n",
    "print(person[\"name\"])    # John Smith\n",
    "print(person[\"age\"])     # 30\n",
    "print(person[\"email\"])   # john.smith@example.com\n",
    "\n",
    "# Update the values of a dictionary\n",
    "person[\"age\"] = 35\n",
    "person[\"email\"] = \"john.smith@newmail.com\"\n",
    "\n",
    "# Add a new key-value pair to a dictionary\n",
    "person[\"address\"] = \"123 Main St, Anytown USA\"\n",
    "\n",
    "# Delete a key-value pair from a dictionary\n",
    "del person[\"gender\"]\n",
    "\n",
    "# Iterate over the keys of a dictionary\n",
    "for key in person.keys():\n",
    "    print(key)\n",
    "\n",
    "# Iterate over the values of a dictionary\n",
    "for value in person.values():\n",
    "    print(value)\n",
    "\n",
    "# Iterate over the key-value pairs of a dictionary\n",
    "for key, value in person.items():\n",
    "    print(key, value)"
   ]
  }
 ],
 "metadata": {
  "kernelspec": {
   "display_name": "Python 3 (ipykernel)",
   "language": "python",
   "name": "python3"
  },
  "language_info": {
   "codemirror_mode": {
    "name": "ipython",
    "version": 3
   },
   "file_extension": ".py",
   "mimetype": "text/x-python",
   "name": "python",
   "nbconvert_exporter": "python",
   "pygments_lexer": "ipython3",
   "version": "3.7.16"
  },
  "toc": {
   "base_numbering": 1,
   "nav_menu": {},
   "number_sections": false,
   "sideBar": true,
   "skip_h1_title": false,
   "title_cell": "Table of Contents",
   "title_sidebar": "Contents",
   "toc_cell": false,
   "toc_position": {},
   "toc_section_display": true,
   "toc_window_display": false
  }
 },
 "nbformat": 4,
 "nbformat_minor": 4
}
