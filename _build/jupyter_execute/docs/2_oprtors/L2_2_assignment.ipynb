{
 "cells": [
  {
   "cell_type": "markdown",
   "metadata": {
    "collapsed": false
   },
   "source": [
    "# <span style=\"color:black;\">Assignment Operator</span>\n",
    "\n",
    "Assignment operators are used to assign and update values to variables.\n",
    "\n",
    "See definition:\n",
    "\n",
    "| Operation | Operator | Examples|\n",
    "|----------| ---------- | ---------- |\n",
    "| Assignment Operator\t | `=`  | `var_a = 10`   |\n",
    "| Multiplication Assignment\t | `*=`  | `var_a *= 3`  # var_a = var_a * 3  |\n",
    "| Division Assignment\t | `/=`   | `var_a /= 2  # var_a = var_a / 2`   |\n",
    "| Addition Assignment | `+=`   | `var_a += 5`  # var_a = var_a + 5 |\n",
    "| Subtraction Assignment | `-=`   | `var_a -= 2`  # var_a = var_a - 2   |\n",
    "| Remainder Assignment | `%=`   | `var_a %= 3  # var_a = var_a % 3`   |\n",
    "| Exponent Assignment | `**=`   | `var_a **= 2`  # var_a = var_a ** 2|"
   ]
  },
  {
   "cell_type": "markdown",
   "metadata": {
    "collapsed": false
   },
   "source": [
    "**Examples**"
   ]
  },
  {
   "cell_type": "code",
   "execution_count": 1,
   "metadata": {
    "collapsed": false
   },
   "outputs": [],
   "source": [
    "# Define a variable \"var_a\" by assigning 10\n",
    "var_a = 10"
   ]
  },
  {
   "cell_type": "code",
   "execution_count": 2,
   "metadata": {
    "collapsed": false
   },
   "outputs": [
    {
     "name": "stdout",
     "output_type": "stream",
     "text": [
      "30\n"
     ]
    }
   ],
   "source": [
    "# assign the multiplication of var_a by 3\n",
    "var_a *= 3\n",
    "print(var_a)"
   ]
  },
  {
   "cell_type": "code",
   "execution_count": 3,
   "metadata": {
    "collapsed": false
   },
   "outputs": [
    {
     "name": "stdout",
     "output_type": "stream",
     "text": [
      "15.0\n"
     ]
    }
   ],
   "source": [
    "# assign the division of var_a by 3\n",
    "var_a /= 2\n",
    "print(var_a)"
   ]
  },
  {
   "cell_type": "code",
   "execution_count": 4,
   "metadata": {
    "collapsed": false
   },
   "outputs": [
    {
     "name": "stdout",
     "output_type": "stream",
     "text": [
      "10.0\n"
     ]
    }
   ],
   "source": [
    "# assign the subtraction of var_a by -5\n",
    "var_a -= 5\n",
    "print(var_a)"
   ]
  },
  {
   "cell_type": "code",
   "execution_count": 5,
   "metadata": {
    "collapsed": false
   },
   "outputs": [
    {
     "name": "stdout",
     "output_type": "stream",
     "text": [
      "100.0\n"
     ]
    }
   ],
   "source": [
    "# assign the exponent of var_a by 2\n",
    "var_a **= 2\n",
    "print(var_a)"
   ]
  }
 ],
 "metadata": {
  "kernelspec": {
   "display_name": "Python 3 (ipykernel)",
   "language": "python",
   "name": "python3"
  },
  "language_info": {
   "codemirror_mode": {
    "name": "ipython",
    "version": 3
   },
   "file_extension": ".py",
   "mimetype": "text/x-python",
   "name": "python",
   "nbconvert_exporter": "python",
   "pygments_lexer": "ipython3",
   "version": "3.7.16"
  },
  "toc": {
   "base_numbering": 1,
   "nav_menu": {},
   "number_sections": false,
   "sideBar": true,
   "skip_h1_title": false,
   "title_cell": "Table of Contents",
   "title_sidebar": "Contents",
   "toc_cell": false,
   "toc_position": {},
   "toc_section_display": true,
   "toc_window_display": false
  }
 },
 "nbformat": 4,
 "nbformat_minor": 4
}