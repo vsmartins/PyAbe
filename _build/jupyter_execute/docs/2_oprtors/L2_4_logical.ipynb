{
 "cells": [
  {
   "cell_type": "markdown",
   "metadata": {
    "collapsed": false
   },
   "source": [
    "# <span style=\"color:black;\">Logical Operator</span>\n",
    "\n",
    "Logical assignment performs a logical operation between two operands and return the boolean result\n",
    "\n",
    "| Operation | Operator | Definition|\n",
    "|----------| ---------- | ---------- |\n",
    "| Logical AND | `and`  | Assign True only if both operands are valid  |\n",
    "| Logical OR| `or`   | Assign True if at least one of the operands is valid  |\n",
    "| Logical NOT | `not`   | Assign True if the operand is not valid  |\n",
    "\n",
    "**Examples**"
   ]
  },
  {
   "cell_type": "code",
   "execution_count": 1,
   "metadata": {
    "collapsed": false
   },
   "outputs": [
    {
     "name": "stdout",
     "output_type": "stream",
     "text": [
      "True\n"
     ]
    }
   ],
   "source": [
    "# logical AND\n",
    "a = 1\n",
    "b = 2\n",
    "logical_and = (a == 1) and (b == 2)\n",
    "print(logical_and)        # True"
   ]
  },
  {
   "cell_type": "code",
   "execution_count": 2,
   "metadata": {
    "collapsed": false
   },
   "outputs": [
    {
     "name": "stdout",
     "output_type": "stream",
     "text": [
      "True\n",
      "True\n"
     ]
    }
   ],
   "source": [
    "# logical OR\n",
    "a = 1\n",
    "b = 2\n",
    "# logical OR\n",
    "print(True or False)     # True\n",
    "logical_or = (a == 10) or (b == 2)\n",
    "print(logical_and)        # True"
   ]
  },
  {
   "cell_type": "code",
   "execution_count": 3,
   "metadata": {
    "collapsed": false
   },
   "outputs": [
    {
     "name": "stdout",
     "output_type": "stream",
     "text": [
      "False\n",
      "True\n"
     ]
    }
   ],
   "source": [
    "# logical NOT\n",
    "print(not True)          # False\n",
    "logical_not = not (a == 10)\n",
    "print(logical_not)        # True"
   ]
  }
 ],
 "metadata": {
  "kernelspec": {
   "display_name": "Python 3 (ipykernel)",
   "language": "python",
   "name": "python3"
  },
  "language_info": {
   "codemirror_mode": {
    "name": "ipython",
    "version": 3
   },
   "file_extension": ".py",
   "mimetype": "text/x-python",
   "name": "python",
   "nbconvert_exporter": "python",
   "pygments_lexer": "ipython3",
   "version": "3.7.16"
  },
  "toc": {
   "base_numbering": 1,
   "nav_menu": {},
   "number_sections": false,
   "sideBar": true,
   "skip_h1_title": false,
   "title_cell": "Table of Contents",
   "title_sidebar": "Contents",
   "toc_cell": false,
   "toc_position": {},
   "toc_section_display": true,
   "toc_window_display": false
  }
 },
 "nbformat": 4,
 "nbformat_minor": 4
}