{
 "cells": [
  {
   "cell_type": "markdown",
   "metadata": {
    "collapsed": false
   },
   "source": [
    "# **For** Loop\n",
    "\n",
    "## Overview\n",
    "\n",
    "In Python, a for loop is used to iterate over a sequence (such as a string, list, tuple, or range) or any other iterable object. It allows you to repeatedly execute a block of code for each item in the sequence.\n",
    "\n",
    ":::{note}\n",
    "for item in sequence:\n",
    "    # Statement to be executed for each item\n",
    ":::\n",
    "\n",
    "## Examples"
   ]
  },
  {
   "cell_type": "code",
   "execution_count": 1,
   "metadata": {
    "tags": [
     "popout",
     "remove-input",
     "remove-stdout"
    ]
   },
   "outputs": [
    {
     "name": "stdout",
     "output_type": "stream",
     "text": [
      "apple\n",
      "banana\n",
      "cherry\n",
      "1\n",
      "2\n",
      "3\n",
      "4\n",
      "P\n",
      "y\n",
      "t\n",
      "h\n",
      "o\n",
      "n\n"
     ]
    }
   ],
   "source": [
    "# Example 1\n",
    "\n",
    "fruits = ['apple', 'banana', 'cherry']\n",
    "\n",
    "for fruit in fruits:\n",
    "    print(fruit)\n",
    "\n",
    "# Example 2\n",
    "for num in range(1, 5):\n",
    "    print(num)\n",
    "\n",
    "# Example 3\n",
    "for x in 'Python':\n",
    "    print(x)"
   ]
  },
  {
   "cell_type": "markdown",
   "metadata": {
    "collapsed": false
   },
   "source": [
    "Loop Without Accessing Items\n",
    "\n",
    "It is not mandatory to use items of a sequence within a for loop. For example,"
   ]
  },
  {
   "cell_type": "code",
   "execution_count": 2,
   "metadata": {
    "collapsed": false
   },
   "outputs": [
    {
     "name": "stdout",
     "output_type": "stream",
     "text": [
      "Hello\n",
      "Hi\n",
      "Hello\n",
      "Hi\n",
      "Hello\n",
      "Hi\n"
     ]
    }
   ],
   "source": [
    "languages = ['Swift', 'Python', 'Go']\n",
    "\n",
    "for language in languages:\n",
    "    print('Hello')\n",
    "    print('Hi')"
   ]
  },
  {
   "cell_type": "markdown",
   "metadata": {
    "collapsed": false
   },
   "source": [
    "## List Comprehensions\n",
    "List comprehensions provide a concise way to create new lists based on existing lists or other iterable objects. They allow you to combine iteration, conditionals, and expressions into a single line of code.\n",
    "\n",
    "\n",
    ":::{note}\n",
    "new_list = [`expression` for `item` in `iterable` if `condition`]\n",
    "\n",
    "`expression`: The expression that defines the elements of the new list. It can involve calculations, transformations, or any operation that produces a value.\n",
    "`item`: The variable that represents each item in the iterable object, such as a list or a range.\n",
    "`iterable`: The source of items to iterate over, typically a list, tuple, string, or range.\n",
    "`condition` (optional): An optional condition that filters the items from the iterable. Only items that satisfy the condition are included in the new list.\n",
    ":::"
   ]
  },
  {
   "cell_type": "markdown",
   "metadata": {
    "collapsed": false
   },
   "source": []
  }
 ],
 "metadata": {
  "kernelspec": {
   "display_name": "Python 3 (ipykernel)",
   "language": "python",
   "name": "python3"
  },
  "language_info": {
   "codemirror_mode": {
    "name": "ipython",
    "version": 3
   },
   "file_extension": ".py",
   "mimetype": "text/x-python",
   "name": "python",
   "nbconvert_exporter": "python",
   "pygments_lexer": "ipython3",
   "version": "3.7.16"
  },
  "toc": {
   "base_numbering": 1,
   "nav_menu": {},
   "number_sections": false,
   "sideBar": true,
   "skip_h1_title": false,
   "title_cell": "Table of Contents",
   "title_sidebar": "Contents",
   "toc_cell": false,
   "toc_position": {},
   "toc_section_display": true,
   "toc_window_display": false
  }
 },
 "nbformat": 4,
 "nbformat_minor": 4
}
