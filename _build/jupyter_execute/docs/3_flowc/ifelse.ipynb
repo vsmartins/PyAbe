{
 "cells": [
  {
   "cell_type": "markdown",
   "metadata": {
    "collapsed": false
   },
   "source": [
    "# If/elif/else\n",
    "\n",
    "## Overview\n",
    " the if statement is used for conditional execution of code. It allows you to specify a block of code to be executed if a certain condition is true.\n",
    "\n",
    " :::{note}\n",
    " if condition:\n",
    "    # body of if statement\n",
    " :::\n",
    "\n",
    "Additionally, you can use the else statement to specify an alternative block of code to be executed if the condition is false.\n",
    "\n",
    ":::{note}\n",
    "if condition:\n",
    "    # Statement to be executed if the condition is true\n",
    "else:\n",
    "    # Statement to be executed if the condition is false\n",
    ":::\n",
    "\n",
    "\n",
    "## Indentation\n",
    "\n",
    "In Python, indentation is a crucial aspect of the language syntax. It is used to define the structure and scope of code blocks, such as loops, functions, and conditional statements. Python uses indentation instead of braces or keywords like \"begin\" and \"end\" to determine the grouping of statements.\n",
    "\n",
    "Indentation is done using spaces or tabs at the beginning of lines. Consistency in the choice of indentation style is important throughout the codebase.\n",
    "\n",
    "\n",
    "You can also use multiple elif (short for \"else if\") statements to specify additional conditions to be checked. The if statement, along with the optional else and elif statements, provides a way to control the flow of your program based on specific conditions. It allows you to execute different blocks of code depending on the truth or falsity of certain conditions, making your program more flexible and capable of handling various scenarios.\n",
    "\n",
    ":::{note}\n",
    "if condition1:\n",
    "    # Statement to be executed if the condition1 is true\n",
    "elif condition2:\n",
    "    # Statement to be executed if the condition1 is False and condition2 is True\n",
    "else:\n",
    "    # Statement to be executed if all conditions are false\n",
    ":::\n",
    "\n",
    "In Python, nested if statements are if statements that are placed within the code block of another if statement. This allows you to check for additional conditions within the block of code executed when the outer if statement's condition is true.\n",
    "\n",
    "Nested if statements allow you to create more complex conditions and decision structures by evaluating multiple conditions at different levels. This allows for greater flexibility in controlling the flow of your program and executing specific blocks of code based on various conditions.\n",
    "\n",
    ":::{note}\n",
    "if condition1:\n",
    "    # Code to be executed if condition1 is true\n",
    "    if condition2:\n",
    "        # Code to be executed if both condition1 and condition2 are true\n",
    "    else:\n",
    "        # Code to be executed if condition1 is true but condition2 is false\n",
    "else:\n",
    "    # Code to be executed if condition1 is false\n",
    "\n",
    "\n",
    "# outer if statement\n",
    "if condition1:\n",
    "    # statement(s)\n",
    "\n",
    "    # inner if statement\n",
    "    if condition2:\n",
    "        # statement(s)\n",
    ":::\n",
    "\n",
    "\n",
    "The if statement, along with the optional else and elif statements, provides a way to control the flow of your program based on specific conditions. It allows you to execute different blocks of code depending on the truth or falsity of certain conditions, making your program more flexible and capable of handling various scenarios.\n",
    "\n",
    "\n",
    "\n",
    "\n",
    "## Examples"
   ]
  },
  {
   "cell_type": "code",
   "execution_count": 1,
   "metadata": {
    "tags": [
     "popout",
     "remove-input",
     "remove-stdout"
    ]
   },
   "outputs": [
    {
     "name": "stdout",
     "output_type": "stream",
     "text": [
      "x is positive\n",
      "x is positive\n",
      "Number is positive\n"
     ]
    }
   ],
   "source": [
    "# Example 1\n",
    "x = 10\n",
    "\n",
    "if x > 0:\n",
    "    print(\"x is positive\")\n",
    "else:\n",
    "    print(\"x is non-positive\")\n",
    "\n",
    "# Example 2\n",
    "x = 10\n",
    "\n",
    "if x > 0:\n",
    "    print(\"x is positive\")\n",
    "elif x < 0:\n",
    "    print(\"x is negative\")\n",
    "else:\n",
    "    print(\"x is zero\")\n",
    "\n",
    "# Example 3\n",
    "\n",
    "number = 5\n",
    "\n",
    "# outer if statement\n",
    "if (number >= 0):\n",
    "    # inner if statement\n",
    "    if number == 0:\n",
    "      print('Number is 0')\n",
    "\n",
    "    # inner else statement\n",
    "    else:\n",
    "        print('Number is positive')\n",
    "\n",
    "# outer else statement\n",
    "else:\n",
    "    print('Number is negative')"
   ]
  }
 ],
 "metadata": {
  "kernelspec": {
   "display_name": "Python 3 (ipykernel)",
   "language": "python",
   "name": "python3"
  },
  "language_info": {
   "codemirror_mode": {
    "name": "ipython",
    "version": 3
   },
   "file_extension": ".py",
   "mimetype": "text/x-python",
   "name": "python",
   "nbconvert_exporter": "python",
   "pygments_lexer": "ipython3",
   "version": "3.7.16"
  },
  "toc": {
   "base_numbering": 1,
   "nav_menu": {},
   "number_sections": false,
   "sideBar": true,
   "skip_h1_title": false,
   "title_cell": "Table of Contents",
   "title_sidebar": "Contents",
   "toc_cell": false,
   "toc_position": {},
   "toc_section_display": true,
   "toc_window_display": false
  }
 },
 "nbformat": 4,
 "nbformat_minor": 4
}
