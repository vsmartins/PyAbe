{
 "cells": [
  {
   "cell_type": "markdown",
   "metadata": {
    "collapsed": false
   },
   "source": [
    "# <span style=\"color:black;\">Function</span>\n",
    "\n",
    "## <span style=\"color:black;\">Overview</span>\n",
    "\n",
    "A function contains a series of code statements for a specific task, and it can be reusable by simply calling it on\n",
    "any other code.\n",
    "\n",
    "The function is the best strategy to organize your program in steps, and it makes your code more readable and easier to debug. Functions bring reuse and modularity to your pogram.\n",
    "\n",
    "**General syntax**\n",
    "```python\n",
    "def function_name(input_parameter1, input_parameter2,..., input_parameterN):\n",
    "    # Code block\n",
    "    # Perform specific task\n",
    "    # return statement\n",
    "```\n",
    "Definition:\n",
    "* `def`: it tells your program that a function will be created\n",
    "* function_name: this is the function name, and it should be simple and descriptive\n",
    "* input_parameters: your function can have (or not) several inputs so the block code within your function can execute them using the inputs. Functions can have zero or more parameters.\n",
    "* Code block: all code statements are executed everytime you are calling this function\n",
    "* `return` statement: your function can have (or not) results that `return` is used to pass the results\n",
    "\n",
    "## <span style=\"color:black;\">Examples</span>"
   ]
  },
  {
   "cell_type": "code",
   "execution_count": 1,
   "metadata": {
    "collapsed": false
   },
   "outputs": [],
   "source": [
    "def convert_temperature(value, from_unit, to_unit):\n",
    "    \"\"\"\n",
    "    Converts temperature between Celsius, Fahrenheit, and Kelvin.\n",
    "\n",
    "    Parameters:\n",
    "    - value: The temperature value to convert.\n",
    "    - from_unit: The unit of the input temperature value ('C', 'F', or 'K').\n",
    "    - to_unit: The unit to convert the temperature value to ('C', 'F', or 'K').\n",
    "\n",
    "    Returns:\n",
    "    The converted temperature value.\n",
    "    \"\"\"\n",
    "    if from_unit == to_unit:\n",
    "        return value\n",
    "\n",
    "    if from_unit == 'C':\n",
    "        if to_unit == 'F':\n",
    "            return (value * 9/5) + 32\n",
    "        elif to_unit == 'K':\n",
    "            return value + 273.15\n",
    "    elif from_unit == 'F':\n",
    "        if to_unit == 'C':\n",
    "            return (value - 32) * 5/9\n",
    "        elif to_unit == 'K':\n",
    "            return (value + 459.67) * 5/9\n",
    "    elif from_unit == 'K':\n",
    "        if to_unit == 'C':\n",
    "            return value - 273.15\n",
    "        elif to_unit == 'F':\n",
    "            return (value * 9/5) - 459.67\n",
    "\n",
    "    # If the units are not valid or compatible, raise an exception.\n",
    "    raise ValueError(\"Invalid or incompatible temperature units.\")"
   ]
  },
  {
   "cell_type": "code",
   "execution_count": 2,
   "metadata": {
    "collapsed": false
   },
   "outputs": [
    {
     "name": "stdout",
     "output_type": "stream",
     "text": [
      "77.0\n",
      "37.0\n",
      "-273.15\n"
     ]
    }
   ],
   "source": [
    "# Convert 25 degrees Celsius to Fahrenheit\n",
    "result = convert_temperature(25, 'C', 'F')\n",
    "print(result)  # Output: 77.0\n",
    "\n",
    "# Convert 98.6 degrees Fahrenheit to Celsius\n",
    "result = convert_temperature(98.6, 'F', 'C')\n",
    "print(result)  # Output: 37.0\n",
    "\n",
    "# Convert 0 Kelvin to Celsius\n",
    "result = convert_temperature(0, 'K', 'C')\n",
    "print(result)  # Output: -273.15"
   ]
  }
 ],
 "metadata": {
  "kernelspec": {
   "display_name": "Python 3 (ipykernel)",
   "language": "python",
   "name": "python3"
  },
  "language_info": {
   "codemirror_mode": {
    "name": "ipython",
    "version": 3
   },
   "file_extension": ".py",
   "mimetype": "text/x-python",
   "name": "python",
   "nbconvert_exporter": "python",
   "pygments_lexer": "ipython3",
   "version": "3.7.16"
  },
  "toc": {
   "base_numbering": 1,
   "nav_menu": {},
   "number_sections": false,
   "sideBar": true,
   "skip_h1_title": false,
   "title_cell": "Table of Contents",
   "title_sidebar": "Contents",
   "toc_cell": false,
   "toc_position": {},
   "toc_section_display": true,
   "toc_window_display": false
  }
 },
 "nbformat": 4,
 "nbformat_minor": 4
}