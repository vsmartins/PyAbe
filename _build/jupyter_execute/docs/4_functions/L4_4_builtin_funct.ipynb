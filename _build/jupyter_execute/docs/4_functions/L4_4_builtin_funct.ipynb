{
 "cells": [
  {
   "cell_type": "markdown",
   "metadata": {
    "collapsed": false
   },
   "source": [
    "# <span style=\"color:black;\">Built-in functions</span>\n",
    "\n",
    "## <span style=\"color:black;\">Overview</span>\n",
    "\n",
    "Python has a many built-in functions, installed with your python interpreter, that are readily available for use in your program.\n",
    "\n",
    "* A comprehensive list of built-in functions and their descriptions: https://docs.python.org/3/library/functions.html\n",
    "\n",
    "| Build-in Function | Meaning |\n",
    "|----------| ---------- |\n",
    "| `print()` | Prints the specified values or variables to the standard output  |\n",
    "| `len()` | Returns the length (number of items) of an object, such as a string, list, or tuple |\n",
    "| `type()` | Returns the type of an object, such as int, float, str, list, etc |\n",
    "| `range()` | Generates a sequence of numbers within a specified range |\n",
    "| `input()` | Reads user input from the console as a string |\n",
    "| `int(), float(), str()` | Convert a value to an integer, float, or string, respectively.|\n",
    "| `sum()` | Returns the sum of all items in an iterable |\n",
    "| `round()` | Rounds a number to a specified precision |\n",
    "| `sorted()` |  Returns a new sorted list from an iterable |\n",
    "| `enumerate()` | Returns an iterator of tuples containing index and value pairs from an iterable |\n",
    "| `zip()` | Returns an iterator of tuples by aggregating elements from multiple iterables |\n",
    "| `map()` | Applies a given function to each item in an iterable and returns an iterator with the results. |\n",
    "\n",
    "\n",
    "## <span style=\"color:black;\">Examples</span>"
   ]
  },
  {
   "cell_type": "markdown",
   "metadata": {
    "collapsed": false
   },
   "source": [
    "`len()`: Finding the length of an object."
   ]
  },
  {
   "cell_type": "code",
   "execution_count": 1,
   "metadata": {
    "collapsed": false
   },
   "outputs": [
    {
     "name": "stdout",
     "output_type": "stream",
     "text": [
      "Length of the list: 5\n"
     ]
    }
   ],
   "source": [
    "my_list = [1, 2, 3, 4, 5]\n",
    "length = len(my_list)\n",
    "print(\"Length of the list:\", length)"
   ]
  },
  {
   "cell_type": "markdown",
   "metadata": {
    "collapsed": false
   },
   "source": [
    "`type()`: Determining the type of an object."
   ]
  },
  {
   "cell_type": "code",
   "execution_count": 2,
   "metadata": {
    "collapsed": false
   },
   "outputs": [
    {
     "name": "stdout",
     "output_type": "stream",
     "text": [
      "Data type: <class 'float'>\n"
     ]
    }
   ],
   "source": [
    "value = 3.14\n",
    "data_type = type(value)\n",
    "print(\"Data type:\", data_type)"
   ]
  },
  {
   "cell_type": "markdown",
   "metadata": {
    "collapsed": false
   },
   "source": [
    "`range()`: Generating a sequence of numbers."
   ]
  },
  {
   "cell_type": "code",
   "execution_count": 3,
   "metadata": {
    "collapsed": false
   },
   "outputs": [
    {
     "name": "stdout",
     "output_type": "stream",
     "text": [
      "[1, 2, 3, 4, 5, 6, 7, 8, 9, 10, 11, 12, 13, 14, 15, 16, 17, 18, 19, 20, 21, 22, 23, 24, 25, 26, 27, 28, 29, 30, 31, 32, 33, 34, 35, 36, 37, 38, 39, 40, 41, 42, 43, 44, 45, 46, 47, 48, 49, 50, 51, 52, 53, 54, 55, 56, 57, 58, 59, 60, 61, 62, 63, 64, 65, 66, 67, 68, 69, 70, 71, 72, 73, 74, 75, 76, 77, 78, 79, 80, 81, 82, 83, 84, 85, 86, 87, 88, 89, 90, 91, 92, 93, 94, 95, 96, 97, 98, 99]\n"
     ]
    }
   ],
   "source": [
    "numbers = list(range(1, 100))\n",
    "print(numbers)  # Output: [1, 2, 3, 4, 5]"
   ]
  },
  {
   "cell_type": "markdown",
   "metadata": {
    "collapsed": false
   },
   "source": [
    "`int()`, `float()`, `str()`: Converting values to specific data types."
   ]
  },
  {
   "cell_type": "code",
   "execution_count": 4,
   "metadata": {
    "collapsed": false
   },
   "outputs": [
    {
     "name": "stdout",
     "output_type": "stream",
     "text": [
      "15\n",
      "5.0\n",
      "10 is a number\n"
     ]
    }
   ],
   "source": [
    "num = \"10\"  # string\n",
    "num_int = int(num)\n",
    "print(num_int + 5)  # Output: 15\n",
    "\n",
    "num_float = float(num)\n",
    "print(num_float / 2)  # Output: 5.0\n",
    "\n",
    "text = str(num)\n",
    "print(text + \" is a number\")  # Output: \"10 is a number\""
   ]
  },
  {
   "cell_type": "markdown",
   "metadata": {
    "collapsed": false
   },
   "source": [
    "`sum()`: Calculating the sum of elements in a list."
   ]
  },
  {
   "cell_type": "code",
   "execution_count": 5,
   "metadata": {
    "collapsed": false
   },
   "outputs": [
    {
     "name": "stdout",
     "output_type": "stream",
     "text": [
      "Sum: 15\n"
     ]
    }
   ],
   "source": [
    "numbers = [1, 2, 3, 4, 5]\n",
    "total = sum(numbers)\n",
    "print(\"Sum:\", total)"
   ]
  },
  {
   "cell_type": "markdown",
   "metadata": {
    "collapsed": false
   },
   "source": [
    "`enumerate` is a way to get the index and value in the for loop"
   ]
  },
  {
   "cell_type": "code",
   "execution_count": 6,
   "metadata": {
    "collapsed": false
   },
   "outputs": [
    {
     "name": "stdout",
     "output_type": "stream",
     "text": [
      "0  bme\n",
      "1  cse\n",
      "2  bse\n",
      "3  aetb\n"
     ]
    }
   ],
   "source": [
    "msu_majors = ['bme', 'cse', 'bse', 'aetb']\n",
    "for i, major in enumerate(msu_majors):  # \"i\" is like a counter, \"major\" is the list element in each interaction\n",
    "    print(i,\" \" + major)"
   ]
  }
 ],
 "metadata": {
  "kernelspec": {
   "display_name": "Python 3 (ipykernel)",
   "language": "python",
   "name": "python3"
  },
  "language_info": {
   "codemirror_mode": {
    "name": "ipython",
    "version": 3
   },
   "file_extension": ".py",
   "mimetype": "text/x-python",
   "name": "python",
   "nbconvert_exporter": "python",
   "pygments_lexer": "ipython3",
   "version": "3.7.16"
  },
  "toc": {
   "base_numbering": 1,
   "nav_menu": {},
   "number_sections": false,
   "sideBar": true,
   "skip_h1_title": false,
   "title_cell": "Table of Contents",
   "title_sidebar": "Contents",
   "toc_cell": false,
   "toc_position": {},
   "toc_section_display": true,
   "toc_window_display": false
  }
 },
 "nbformat": 4,
 "nbformat_minor": 4
}