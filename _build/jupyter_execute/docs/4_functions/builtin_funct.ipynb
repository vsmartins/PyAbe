{
 "cells": [
  {
   "cell_type": "markdown",
   "metadata": {
    "collapsed": false
   },
   "source": [
    "# Built-in functions\n",
    "\n",
    "## Overview\n",
    "Python provides a wide range of built-in functions that are readily available for use without requiring any import statements. These functions cover various categories and serve different purposes. Here are some commonly used built-in functions in Python:\n",
    "\n",
    "These are just a few examples of built-in functions in Python. Python provides many more built-in functions that cover a wide range of functionalities. You can refer to the official Python documentation for a comprehensive list of built-in functions and their descriptions: https://docs.python.org/3/library/functions.html\n",
    "\n",
    "| Build-in Function | Meaning |\n",
    "|----------| ---------- |\n",
    "| `print()` | Prints the specified values or variables to the standard output  |\n",
    "| `len()` | Returns the length (number of items) of an object, such as a string, list, or tuple |\n",
    "| `type()` | Returns the type of an object, such as int, float, str, list, etc |\n",
    "| `range()` | Generates a sequence of numbers within a specified range |\n",
    "| `input()` | Reads user input from the console as a string |\n",
    "| `int(), float(), str()` | Convert a value to an integer, float, or string, respectively.|\n",
    "| `sum()` | Returns the sum of all items in an iterable |\n",
    "| `round()` | Rounds a number to a specified precision |\n",
    "| `sorted()` |  Returns a new sorted list from an iterable |\n",
    "| `enumerate()` | Returns an iterator of tuples containing index and value pairs from an iterable |\n",
    "| `zip()` | Returns an iterator of tuples by aggregating elements from multiple iterables |\n",
    "| `map()` | Applies a given function to each item in an iterable and returns an iterator with the results. |\n",
    "\n",
    "\n",
    "## Examples\n"
   ]
  },
  {
   "cell_type": "code",
   "execution_count": 1,
   "metadata": {
    "tags": [
     "popout",
     "remove-input",
     "remove-stdout"
    ]
   },
   "outputs": [
    {
     "name": "stdout",
     "output_type": "stream",
     "text": [
      "Name: Alice Age: 25\n"
     ]
    }
   ],
   "source": [
    "# print(): Printing values to the standard output.\n",
    "\n",
    "name = \"Alice\"\n",
    "age = 25\n",
    "print(\"Name:\", name, \"Age:\", age)"
   ]
  },
  {
   "cell_type": "code",
   "execution_count": 2,
   "metadata": {
    "collapsed": false
   },
   "outputs": [
    {
     "name": "stdout",
     "output_type": "stream",
     "text": [
      "Length of the list: 5\n"
     ]
    }
   ],
   "source": [
    "# len(): Finding the length of an object.\n",
    "\n",
    "my_list = [1, 2, 3, 4, 5]\n",
    "length = len(my_list)\n",
    "print(\"Length of the list:\", length)"
   ]
  },
  {
   "cell_type": "code",
   "execution_count": 3,
   "metadata": {
    "collapsed": false
   },
   "outputs": [
    {
     "name": "stdout",
     "output_type": "stream",
     "text": [
      "Data type: <class 'float'>\n"
     ]
    }
   ],
   "source": [
    "# type(): Determining the type of an object.\n",
    "\n",
    "value = 3.14\n",
    "data_type = type(value)\n",
    "print(\"Data type:\", data_type)"
   ]
  },
  {
   "cell_type": "code",
   "execution_count": 4,
   "metadata": {
    "collapsed": false
   },
   "outputs": [
    {
     "name": "stdout",
     "output_type": "stream",
     "text": [
      "[1, 2, 3, 4, 5]\n"
     ]
    }
   ],
   "source": [
    "# range(): Generating a sequence of numbers.\n",
    "\n",
    "numbers = list(range(1, 6))\n",
    "print(numbers)  # Output: [1, 2, 3, 4, 5]"
   ]
  },
  {
   "cell_type": "code",
   "execution_count": 5,
   "metadata": {
    "collapsed": false
   },
   "outputs": [
    {
     "ename": "StdinNotImplementedError",
     "evalue": "raw_input was called, but this frontend does not support input requests.",
     "output_type": "error",
     "traceback": [
      "\u001B[1;31m---------------------------------------------------------------------------\u001B[0m",
      "\u001B[1;31mStdinNotImplementedError\u001B[0m                  Traceback (most recent call last)",
      "\u001B[1;32m~\\AppData\\Local\\Temp\\ipykernel_1088\\199983704.py\u001B[0m in \u001B[0;36m<module>\u001B[1;34m\u001B[0m\n\u001B[0;32m      1\u001B[0m \u001B[1;31m# input(): Reading user input from the console.\u001B[0m\u001B[1;33m\u001B[0m\u001B[1;33m\u001B[0m\u001B[1;33m\u001B[0m\u001B[0m\n\u001B[0;32m      2\u001B[0m \u001B[1;33m\u001B[0m\u001B[0m\n\u001B[1;32m----> 3\u001B[1;33m \u001B[0mname\u001B[0m \u001B[1;33m=\u001B[0m \u001B[0minput\u001B[0m\u001B[1;33m(\u001B[0m\u001B[1;34m\"Enter your name: \"\u001B[0m\u001B[1;33m)\u001B[0m\u001B[1;33m\u001B[0m\u001B[1;33m\u001B[0m\u001B[0m\n\u001B[0m\u001B[0;32m      4\u001B[0m \u001B[0mprint\u001B[0m\u001B[1;33m(\u001B[0m\u001B[1;34m\"Hello,\"\u001B[0m\u001B[1;33m,\u001B[0m \u001B[0mname\u001B[0m\u001B[1;33m)\u001B[0m\u001B[1;33m\u001B[0m\u001B[1;33m\u001B[0m\u001B[0m\n",
      "\u001B[1;32mC:\\anaconda3\\envs\\abe_website\\lib\\site-packages\\ipykernel\\kernelbase.py\u001B[0m in \u001B[0;36mraw_input\u001B[1;34m(self, prompt)\u001B[0m\n\u001B[0;32m   1173\u001B[0m         \u001B[1;32mif\u001B[0m \u001B[1;32mnot\u001B[0m \u001B[0mself\u001B[0m\u001B[1;33m.\u001B[0m\u001B[0m_allow_stdin\u001B[0m\u001B[1;33m:\u001B[0m\u001B[1;33m\u001B[0m\u001B[1;33m\u001B[0m\u001B[0m\n\u001B[0;32m   1174\u001B[0m             raise StdinNotImplementedError(\n\u001B[1;32m-> 1175\u001B[1;33m                 \u001B[1;34m\"raw_input was called, but this frontend does not support input requests.\"\u001B[0m\u001B[1;33m\u001B[0m\u001B[1;33m\u001B[0m\u001B[0m\n\u001B[0m\u001B[0;32m   1176\u001B[0m             )\n\u001B[0;32m   1177\u001B[0m         return self._input_request(\n",
      "\u001B[1;31mStdinNotImplementedError\u001B[0m: raw_input was called, but this frontend does not support input requests."
     ]
    }
   ],
   "source": [
    "# input(): Reading user input from the console.\n",
    "\n",
    "name = input(\"Enter your name: \")\n",
    "print(\"Hello,\", name)"
   ]
  },
  {
   "cell_type": "code",
   "execution_count": null,
   "metadata": {
    "collapsed": false
   },
   "outputs": [],
   "source": [
    "# int(), float(), str(): Converting values to specific data types.\n",
    "\n",
    "num = \"10\"\n",
    "num_int = int(num)\n",
    "print(num_int + 5)  # Output: 15\n",
    "\n",
    "num_float = float(num)\n",
    "print(num_float / 2)  # Output: 5.0\n",
    "\n",
    "text = str(num)\n",
    "print(text + \" is a number\")  # Output: \"10 is a number\""
   ]
  },
  {
   "cell_type": "code",
   "execution_count": null,
   "metadata": {
    "collapsed": false
   },
   "outputs": [],
   "source": [
    "# sum(): Calculating the sum of elements in a list.\n",
    "\n",
    "numbers = [1, 2, 3, 4, 5]\n",
    "total = sum(numbers)\n",
    "print(\"Sum:\", total)"
   ]
  }
 ],
 "metadata": {
  "kernelspec": {
   "display_name": "Python 3 (ipykernel)",
   "language": "python",
   "name": "python3"
  },
  "language_info": {
   "codemirror_mode": {
    "name": "ipython",
    "version": 3
   },
   "file_extension": ".py",
   "mimetype": "text/x-python",
   "name": "python",
   "nbconvert_exporter": "python",
   "pygments_lexer": "ipython3",
   "version": "3.7.16"
  },
  "toc": {
   "base_numbering": 1,
   "nav_menu": {},
   "number_sections": false,
   "sideBar": true,
   "skip_h1_title": false,
   "title_cell": "Table of Contents",
   "title_sidebar": "Contents",
   "toc_cell": false,
   "toc_position": {},
   "toc_section_display": true,
   "toc_window_display": false
  }
 },
 "nbformat": 4,
 "nbformat_minor": 4
}
