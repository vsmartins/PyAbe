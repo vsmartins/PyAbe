{
 "cells": [
  {
   "cell_type": "markdown",
   "metadata": {
    "collapsed": false
   },
   "source": [
    "# Function\n",
    "\n",
    "## Overview\n",
    "\n",
    "In Python, a function is a named block of reusable code that performs a specific task. It allows you to encapsulate a set of instructions and execute them by calling the function's name. Functions provide modularity and reusability, making your code more organized and easier to maintain.\n",
    "\n",
    "Functions play a crucial role in structuring and organizing code, promoting code reuse, and improving the maintainability and readability of your programs. They allow you to break down complex tasks into smaller, manageable parts, making your code more modular and easier to understand and debug.\n",
    "\n",
    ":::{note}\n",
    "def function_name(parameters):\n",
    "    # Code block\n",
    "    # Perform specific task\n",
    "    # Optional return statement\n",
    "\n",
    "Definition:\n",
    "* def: The keyword used to define a function.\n",
    "* function_name: The name you give to the function, which should be meaningful and descriptive.\n",
    "* parameters: Optional inputs that you can pass to the function. They are enclosed in parentheses and separated by commas. Functions can have zero or more parameters.\n",
    "* `:` The colon that indicates the start of the function's code block.\n",
    "* Code block: The indented block of code that is executed when the function is called. It contains the specific instructions and operations to perform the desired task.\n",
    "* return statement: An optional statement used to specify the value(s) that the function should return when called. If no return statement is used, the function returns None by default.\n",
    "\n",
    ":::\n",
    "\n",
    "\n",
    "## Examples"
   ]
  },
  {
   "cell_type": "code",
   "execution_count": 1,
   "metadata": {
    "tags": [
     "popout",
     "remove-input",
     "remove-stdout"
    ]
   },
   "outputs": [
    {
     "name": "stdout",
     "output_type": "stream",
     "text": [
      "8\n"
     ]
    }
   ],
   "source": [
    "# Fixing random state for reproducibility\n",
    "def add_numbers(a, b):\n",
    "    sum = a + b\n",
    "    return sum\n",
    "\n",
    "result = add_numbers(5, 3)\n",
    "print(result)  # Output: 8"
   ]
  },
  {
   "cell_type": "markdown",
   "metadata": {
    "tags": [
     "popout"
    ]
   },
   "source": [
    "```{margin} **You can also pop out content to the side!**\n",
    "Functions play a crucial role in structuring and organizing code, promoting code reuse, and improving the maintainability and readability of your programs. They allow you to break down complex tasks into smaller, manageable parts, making your code more modular and easier to understand and debug.\n",
    "\n",
    "```\n",
    "\n",
    "## Python Variable Scope\n",
    "\n",
    "\n",
    "### Python Local Variables\n",
    "In Python, local variables are variables that are defined within a function and can only be accessed within that function's scope. Local variables are created when the function is called and destroyed when the function completes its execution or reaches a return statement.\n",
    "\n",
    "In this example, the variable x is defined within the my_function() function. It is a local variable because it is only accessible within the function's scope. When the function is called, the value of x is set to 10 and then printed within the function. However, if we try to access x outside the function, we get a NameError because the variable is not defined in the global scope.\n",
    "\n",
    "Local variables provide encapsulation and allow functions to work with data that is specific to their scope without causing naming conflicts with other parts of the program. They promote modularity and help maintain the integrity of data within functions.\n"
   ]
  },
  {
   "cell_type": "code",
   "execution_count": 2,
   "metadata": {
    "collapsed": false
   },
   "outputs": [
    {
     "name": "stdout",
     "output_type": "stream",
     "text": [
      "10\n"
     ]
    },
    {
     "ename": "NameError",
     "evalue": "name 'x' is not defined",
     "output_type": "error",
     "traceback": [
      "\u001B[1;31m---------------------------------------------------------------------------\u001B[0m",
      "\u001B[1;31mNameError\u001B[0m                                 Traceback (most recent call last)",
      "\u001B[1;32m~\\AppData\\Local\\Temp\\ipykernel_15352\\3681644610.py\u001B[0m in \u001B[0;36m<module>\u001B[1;34m\u001B[0m\n\u001B[0;32m      4\u001B[0m \u001B[1;33m\u001B[0m\u001B[0m\n\u001B[0;32m      5\u001B[0m \u001B[0mmy_function\u001B[0m\u001B[1;33m(\u001B[0m\u001B[1;33m)\u001B[0m  \u001B[1;31m# Output: 10\u001B[0m\u001B[1;33m\u001B[0m\u001B[1;33m\u001B[0m\u001B[0m\n\u001B[1;32m----> 6\u001B[1;33m \u001B[0mprint\u001B[0m\u001B[1;33m(\u001B[0m\u001B[0mx\u001B[0m\u001B[1;33m)\u001B[0m  \u001B[1;31m# Error: NameError: name 'x' is not defined\u001B[0m\u001B[1;33m\u001B[0m\u001B[1;33m\u001B[0m\u001B[0m\n\u001B[0m",
      "\u001B[1;31mNameError\u001B[0m: name 'x' is not defined"
     ]
    }
   ],
   "source": [
    "def my_function():\n",
    "    x = 10  # Local variable\n",
    "    print(x)\n",
    "\n",
    "my_function()  # Output: 10\n",
    "print(x)  # Error: NameError: name 'x' is not defined"
   ]
  },
  {
   "cell_type": "markdown",
   "metadata": {
    "collapsed": false
   },
   "source": [
    "Here, the message variable is local to the greet() function, so it can only be accessed within the function.\n",
    "\n",
    "### Python Global Variables\n",
    "\n",
    "It's important to note that local variables take precedence over variables with the same name in the global scope. If a local variable shares the same name as a global variable, the local variable will shadow or override the global variable within the function's scope."
   ]
  },
  {
   "cell_type": "code",
   "execution_count": null,
   "metadata": {
    "collapsed": false
   },
   "outputs": [],
   "source": [
    "x = 5  # Global variable\n",
    "\n",
    "def my_function():\n",
    "    x = 10  # Local variable (shadows the global variable)\n",
    "    print(x)\n",
    "\n",
    "my_function()  # Output: 10\n",
    "print(x)  # Output: 5 (global variable value remains unaffected)"
   ]
  },
  {
   "cell_type": "markdown",
   "metadata": {
    "collapsed": false
   },
   "source": [
    "In this case, even though there is a global variable x with a value of 5, the local variable x within the my_function() function shadows it, and when printed within the function, it displays the value 10. The global variable x remains unaffected."
   ]
  }
 ],
 "metadata": {
  "kernelspec": {
   "display_name": "Python 3 (ipykernel)",
   "language": "python",
   "name": "python3"
  },
  "language_info": {
   "codemirror_mode": {
    "name": "ipython",
    "version": 3
   },
   "file_extension": ".py",
   "mimetype": "text/x-python",
   "name": "python",
   "nbconvert_exporter": "python",
   "pygments_lexer": "ipython3",
   "version": "3.7.16"
  },
  "toc": {
   "base_numbering": 1,
   "nav_menu": {},
   "number_sections": false,
   "sideBar": true,
   "skip_h1_title": false,
   "title_cell": "Table of Contents",
   "title_sidebar": "Contents",
   "toc_cell": false,
   "toc_position": {},
   "toc_section_display": true,
   "toc_window_display": false
  }
 },
 "nbformat": 4,
 "nbformat_minor": 4
}
