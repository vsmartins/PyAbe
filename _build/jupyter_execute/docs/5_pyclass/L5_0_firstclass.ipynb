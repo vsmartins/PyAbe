{
 "cells": [
  {
   "cell_type": "markdown",
   "metadata": {
    "collapsed": false
   },
   "source": [
    "# <span style=\"color:black;\">Classes</span>\n",
    "\n",
    "## <span style=\"color:black;\">Overview</span>\n",
    "\n",
    "Classes are essential part of object-oriented programming, by allowing the creation of functional \"code components\" for your program. The `class` defines the attributes (data) and behaviors (methods/functions) of the instances of a class.\n",
    "\n",
    "Once you define a class, you can create multiple objects, known as instances of a class, and these objects come with certain characteristics. For instance, `str` class is a built-in class and when you create an instance of this class (e.g., my_string = \"amazingABE\"), this variable \"my_string\" is a string object and contains inherent methods for string manipulation, such as concatenation, slicing, replacing characters, and more.\n",
    "\n",
    "**General syntax**\n",
    "```python\n",
    "\n",
    "class ClassName:\n",
    "\n",
    "    # Constructor\n",
    "    def __init__(self, parameter1):\n",
    "        self.parameter1 = parameter1\n",
    "\n",
    "    # Methods (functions inside the class)\n",
    "    def method1(self):\n",
    "        # Code for method1\n",
    "```\n",
    "\n",
    "Does it sound complicated? Let's start with simple class."
   ]
  },
  {
   "cell_type": "code",
   "execution_count": 1,
   "metadata": {
    "collapsed": false
   },
   "outputs": [
    {
     "name": "stdout",
     "output_type": "stream",
     "text": [
      "Biomedical Engineering\n"
     ]
    }
   ],
   "source": [
    "#Create a class named MyMajor, with a property named x:\n",
    "\n",
    "class MyMajor:\n",
    "  major = 'Biomedical Engineering'\n",
    "  year = 'junior'\n",
    "\n",
    "# Create Object\n",
    "p1 = MyMajor() # Create an object named p1, and print the major by accessing the class attribute\n",
    "print(p1.major)"
   ]
  },
  {
   "cell_type": "markdown",
   "metadata": {
    "collapsed": false
   },
   "source": [
    "This class is simple (and not mega useful) but it shows you the basic structure. Let's clarify the difference of class and object:"
   ]
  },
  {
   "cell_type": "markdown",
   "metadata": {
    "collapsed": false
   },
   "source": [
    "## <span style=\"color:black;\">Classes vs Objects</span>\n",
    "\n",
    "Class:\n",
    "- A class is a template for creating objects\n",
    "- A class defines the attributes (data) and behaviors (methods) for the objects of this class\n",
    "- A class contains related data and methods into a single unit\n",
    "\n",
    "Object (or instance):\n",
    "- An object is an instance of a class\n",
    "- Objects can have different values, but share the same methods"
   ]
  },
  {
   "cell_type": "markdown",
   "metadata": {
    "collapsed": false
   },
   "source": [
    "## <span style=\"color:black;\">Create Multiple Objects</span>\n",
    "\n",
    "The interesting aspect of Python Class is to reuse and create multiple objects from a single class."
   ]
  },
  {
   "cell_type": "code",
   "execution_count": 2,
   "metadata": {
    "collapsed": false
   },
   "outputs": [
    {
     "ename": "NameError",
     "evalue": "name 'vsm' is not defined",
     "output_type": "error",
     "traceback": [
      "\u001b[1;31m---------------------------------------------------------------------------\u001b[0m",
      "\u001b[1;31mNameError\u001b[0m                                 Traceback (most recent call last)",
      "\u001b[1;32m~\\AppData\\Local\\Temp\\ipykernel_86636\\2754255128.py\u001b[0m in \u001b[0;36m<module>\u001b[1;34m\u001b[0m\n\u001b[0;32m      1\u001b[0m \u001b[1;31m# define a class\u001b[0m\u001b[1;33m\u001b[0m\u001b[1;33m\u001b[0m\u001b[1;33m\u001b[0m\u001b[0m\n\u001b[1;32m----> 2\u001b[1;33m \u001b[1;32mclass\u001b[0m \u001b[0mStudent\u001b[0m\u001b[1;33m:\u001b[0m\u001b[1;33m\u001b[0m\u001b[1;33m\u001b[0m\u001b[0m\n\u001b[0m\u001b[0;32m      3\u001b[0m     \u001b[1;31m# define an attribute\u001b[0m\u001b[1;33m\u001b[0m\u001b[1;33m\u001b[0m\u001b[1;33m\u001b[0m\u001b[0m\n\u001b[0;32m      4\u001b[0m     \u001b[0mstudent_id\u001b[0m \u001b[1;33m=\u001b[0m \u001b[0mvsm\u001b[0m\u001b[1;33m\u001b[0m\u001b[1;33m\u001b[0m\u001b[0m\n\u001b[0;32m      5\u001b[0m \u001b[1;33m\u001b[0m\u001b[0m\n",
      "\u001b[1;32m~\\AppData\\Local\\Temp\\ipykernel_86636\\2754255128.py\u001b[0m in \u001b[0;36mStudent\u001b[1;34m()\u001b[0m\n\u001b[0;32m      2\u001b[0m \u001b[1;32mclass\u001b[0m \u001b[0mStudent\u001b[0m\u001b[1;33m:\u001b[0m\u001b[1;33m\u001b[0m\u001b[1;33m\u001b[0m\u001b[0m\n\u001b[0;32m      3\u001b[0m     \u001b[1;31m# define an attribute\u001b[0m\u001b[1;33m\u001b[0m\u001b[1;33m\u001b[0m\u001b[1;33m\u001b[0m\u001b[0m\n\u001b[1;32m----> 4\u001b[1;33m     \u001b[0mstudent_id\u001b[0m \u001b[1;33m=\u001b[0m \u001b[0mvsm\u001b[0m\u001b[1;33m\u001b[0m\u001b[1;33m\u001b[0m\u001b[0m\n\u001b[0m\u001b[0;32m      5\u001b[0m \u001b[1;33m\u001b[0m\u001b[0m\n\u001b[0;32m      6\u001b[0m \u001b[1;31m# create two objects of the Employee class\u001b[0m\u001b[1;33m\u001b[0m\u001b[1;33m\u001b[0m\u001b[1;33m\u001b[0m\u001b[0m\n",
      "\u001b[1;31mNameError\u001b[0m: name 'vsm' is not defined"
     ]
    }
   ],
   "source": [
    "# define a class\n",
    "class Student:\n",
    "    # define an attribute\n",
    "    student_id = vsm\n",
    "\n",
    "# create two objects of the Employee class\n",
    "Student1 = Student()\n",
    "Student2 = Student()\n",
    "\n",
    "# access attributes using Student1\n",
    "Student1.student_id = 'test_2@msstate.edu'\n",
    "print(f\"Student ID: {Student1.student_id}\")\n",
    "\n",
    "# access attributes using Student2\n",
    "Student2.student_id = 'test_2@msstate.edu'\n",
    "print(f\"Employee ID: {Student2.student_id}\")"
   ]
  },
  {
   "cell_type": "markdown",
   "metadata": {
    "collapsed": false
   },
   "source": [
    "## <span style=\"color:black;\">__init__</span>\n",
    "\n",
    "Let's add another element of class: `__init__()` function. The `__init__()` function defines the object attributes and is always executed when the class is being initiated. It is automatically called when you create a new object (instance) of a class.\n",
    "\n",
    "Also, `self` parameter is just a convention that helps you to access and modify the object attributes."
   ]
  },
  {
   "cell_type": "code",
   "execution_count": null,
   "metadata": {
    "collapsed": false
   },
   "outputs": [],
   "source": [
    "class Student:\n",
    "  def __init__(self, name, major, year):\n",
    "    self.name = name\n",
    "    self.major = major\n",
    "    self.year = year\n",
    "\n",
    "msu_student = Student(\"you\", \"ABE\", 2023)\n",
    "\n",
    "print(msu_student.name)\n",
    "print(msu_student.major)"
   ]
  },
  {
   "cell_type": "markdown",
   "metadata": {
    "collapsed": false
   },
   "source": [
    "## <span style=\"color:black;\">Object Methods</span>\n",
    "\n",
    "A class can have inherent functions, known as object methods, and these functions can access and modify the attributes of the objects.\n",
    "In other words, object methods are regular functions inside the class, and the `self` parameter is used to access the attributes and methods of the instance."
   ]
  },
  {
   "cell_type": "code",
   "execution_count": null,
   "metadata": {
    "collapsed": false
   },
   "outputs": [],
   "source": [
    "# create a class\n",
    "class Student:\n",
    "    def __init__(self, name, major, enroll_year):\n",
    "        self.name = name\n",
    "        self.major = major\n",
    "        self.enroll_year = enroll_year\n",
    "    # method to calculate area\n",
    "    def calculate_graduation(self):\n",
    "        print(\"Expected graduation year =\", self.enroll_year + 4)  # The self parameter is used to access variables that belongs to the class.\n",
    "\n",
    "msu_student = Student(\"you\", \"ABE\", 2023)\n",
    "msu_student.calculate_graduation()\n"
   ]
  },
  {
   "cell_type": "markdown",
   "metadata": {
    "collapsed": false
   },
   "source": [
    ":::{important}\n",
    "`self` parameter is named self by convention, but you can call it whatever you prefer as long as it is the first parameter of any function in the class\n",
    ":::\n"
   ]
  }
 ],
 "metadata": {
  "kernelspec": {
   "display_name": "Python 3 (ipykernel)",
   "language": "python",
   "name": "python3"
  },
  "language_info": {
   "codemirror_mode": {
    "name": "ipython",
    "version": 3
   },
   "file_extension": ".py",
   "mimetype": "text/x-python",
   "name": "python",
   "nbconvert_exporter": "python",
   "pygments_lexer": "ipython3",
   "version": "3.7.16"
  },
  "toc": {
   "base_numbering": 1,
   "nav_menu": {},
   "number_sections": false,
   "sideBar": true,
   "skip_h1_title": false,
   "title_cell": "Table of Contents",
   "title_sidebar": "Contents",
   "toc_cell": false,
   "toc_position": {},
   "toc_section_display": true,
   "toc_window_display": false
  }
 },
 "nbformat": 4,
 "nbformat_minor": 4
}