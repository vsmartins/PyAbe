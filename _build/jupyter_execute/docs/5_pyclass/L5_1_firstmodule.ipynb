{
 "cells": [
  {
   "cell_type": "markdown",
   "metadata": {
    "collapsed": false
   },
   "source": [
    "# <span style=\"color:black;\">Module & Package</span>\n",
    "## <span style=\"color:black;\">Module</span>\n",
    "\n",
    "A module is a python file that organizes a set of functions, classes, and variables for a specific task/goal in your program. In your project, a module is a way to\n",
    "organize your codes by functionality and make it more reusable. The module (i.e., python file with many functions and classes) can be imported in another python file, and\n",
    "the simple example is the `import` of existing modules from packages.\n",
    "\n",
    "To use a module, you will use the `import` statement. Example:"
   ]
  },
  {
   "cell_type": "code",
   "execution_count": 1,
   "metadata": {
    "collapsed": false
   },
   "outputs": [
    {
     "name": "stdout",
     "output_type": "stream",
     "text": [
      "4.0\n"
     ]
    }
   ],
   "source": [
    "import math\n",
    "\n",
    "result = math.sqrt(16)\n",
    "print(result)  # Output: 4.0"
   ]
  },
  {
   "cell_type": "markdown",
   "metadata": {
    "collapsed": false
   },
   "source": [
    "## <span style=\"color:black;\">Package</span>\n",
    "\n",
    "Packages are everywhere in python! A package offers a  modular code organization, where the related modules are grouped in a logical way. A package is nothing more than a directory with a special file called __init__.py. Of course, this is an empty package but it's a package because you have a marker (__init__.py) saying to your python this is a package.\n",
    "\n",
    "In real application, your package (i.e., directory) contains one or more module files in a logical and organized way. The special file (__init__.py, empty file) serves as a marker in the directory so the python knows it's a package. A simple way to organize\n",
    "your package is following:\n",
    "\n",
    "```python\n",
    "my_package/\n",
    "    __init__.py\n",
    "    module1.py\n",
    "    module2.py\n",
    "    subpackage/\n",
    "        __init__.py\n",
    "        module3.py\n",
    "```\n",
    "\n",
    "In this example, my_package directory is a package that contains two main modules, module1.py and module2.py, as well as a subpackage called subpackage that contains its own __init__.py file and a module called module3.py.\n",
    "\n",
    "```python\n",
    "from my_package import module1\n",
    "from my_package.subpackage import module3\n",
    "\n",
    "module1.function1()\n",
    "module3.function2()\n",
    "```"
   ]
  }
 ],
 "metadata": {
  "kernelspec": {
   "display_name": "Python 3 (ipykernel)",
   "language": "python",
   "name": "python3"
  },
  "language_info": {
   "codemirror_mode": {
    "name": "ipython",
    "version": 3
   },
   "file_extension": ".py",
   "mimetype": "text/x-python",
   "name": "python",
   "nbconvert_exporter": "python",
   "pygments_lexer": "ipython3",
   "version": "3.7.16"
  },
  "toc": {
   "base_numbering": 1,
   "nav_menu": {},
   "number_sections": false,
   "sideBar": true,
   "skip_h1_title": false,
   "title_cell": "Table of Contents",
   "title_sidebar": "Contents",
   "toc_cell": false,
   "toc_position": {},
   "toc_section_display": true,
   "toc_window_display": false
  }
 },
 "nbformat": 4,
 "nbformat_minor": 4
}