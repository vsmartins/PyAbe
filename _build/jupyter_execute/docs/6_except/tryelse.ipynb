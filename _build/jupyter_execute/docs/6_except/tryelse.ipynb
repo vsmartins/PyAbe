{
 "cells": [
  {
   "cell_type": "markdown",
   "metadata": {
    "collapsed": false
   },
   "source": [
    "# Exceptions\n",
    "\n",
    "## Overview\n",
    "Exception handling in Python is a mechanism that allows you to catch and handle runtime errors, called exceptions, in a controlled manner. When an exception occurs during the execution of a program, it disrupts the normal flow of the program and raises an exception object.\n",
    "\n",
    "When an error occurs, or exception as we call it, Python will normally stop and generate an error message.\n",
    "\n",
    "\n",
    "\n",
    "The try block contains the code that may raise an exception. If an exception occurs within the try block, the remaining code in the block is skipped, and the program jumps to the appropriate except block.\n",
    "The except block(s) specify the type of exception to catch and the code to handle that specific exception. You can have multiple except blocks to handle different types of exceptions.\n",
    "If an exception of the specified type occurs, the corresponding except block is executed. After executing the except block, the program continues with the code following the try-except statement.\n",
    "If an exception occurs that doesn't match any specified type, it can be caught by an except block without specifying the exception type. This block acts as a catch-all for any unhandled exceptions.\n",
    "The else block is optional and is executed if no exception occurred in the try block. It contains code that should run only when no exception is raised.\n",
    "The finally block is also optional and is executed regardless of whether an exception occurred or not. It is commonly used to perform cleanup operations or ensure certain actions are always executed.\n",
    "\n",
    "\n",
    "The try block lets you test a block of code for errors.\n",
    "\n",
    "The except block lets you handle the error.\n",
    "\n",
    "The else block lets you execute code when there is no error.\n",
    "\n",
    "The finally block lets you execute code, regardless of the result of the try- and except blocks.\n",
    "\n",
    "## Code blocks and image outputs\n",
    "\n",
    "Jupyter Book will also embed your code blocks and output in your book.\n",
    "For example, here's some sample Matplotlib code:"
   ]
  },
  {
   "cell_type": "code",
   "execution_count": 1,
   "metadata": {
    "collapsed": false
   },
   "outputs": [
    {
     "ename": "IndentationError",
     "evalue": "expected an indented block (1986221736.py, line 4)",
     "output_type": "error",
     "traceback": [
      "\u001B[1;36m  File \u001B[1;32m\"C:\\Users\\vsm71\\AppData\\Local\\Temp\\ipykernel_26276\\1986221736.py\"\u001B[1;36m, line \u001B[1;32m4\u001B[0m\n\u001B[1;33m    except:\u001B[0m\n\u001B[1;37m         ^\u001B[0m\n\u001B[1;31mIndentationError\u001B[0m\u001B[1;31m:\u001B[0m expected an indented block\n"
     ]
    }
   ],
   "source": [
    "try:\n",
    "    # Code that may raise an exception\n",
    "    # ...\n",
    "except:\n",
    "    # Code to handle the exception of type ExceptionType1\n",
    "    # ...\n",
    "else:\n",
    "    # Code to execute if no exception occurred\n",
    "    # ...\n",
    "finally:\n",
    "    # Code that will always execute, regardless of whether an exception occurred or not\n",
    "    # ..."
   ]
  },
  {
   "cell_type": "code",
   "execution_count": null,
   "metadata": {
    "collapsed": false
   },
   "outputs": [],
   "source": [
    "x = -1\n",
    "\n",
    "if x < 0:\n",
    "  raise Exception(\"Sorry, no numbers below zero\")\n",
    "\n",
    "\n",
    "\n",
    "try:\n",
    "    x = 10 / 0  # Division by zero raises a ZeroDivisionError\n",
    "    print(x)  # This line is skipped\n",
    "except ZeroDivisionError:\n",
    "    print(\"Error: Division by zero\")\n",
    "else:\n",
    "    print(\"No exception occurred\")\n",
    "finally:\n",
    "    print(\"Finally block executed\")\n",
    "\n",
    "\n",
    "\n",
    "try:\n",
    "    x = int(input(\"Enter a number: \"))\n",
    "    result = 10 / x\n",
    "    print(\"Result:\", result)\n",
    "except ValueError:\n",
    "    print(\"Invalid input. Please enter a valid integer.\")\n",
    "except ZeroDivisionError:\n",
    "    print(\"Error: Division by zero\")\n",
    "else:\n",
    "    print(\"No exception occurred\")\n",
    "finally:\n",
    "    print(\"Finally block executed\")\n",
    "\n",
    "\n",
    "\n",
    "\n",
    "\n",
    "def validate_age(age):\n",
    "    if age < 0:\n",
    "        raise ValueError(\"Age cannot be negative.\")\n",
    "    elif age < 18:\n",
    "        raise ValueError(\"You must be at least 18 years old.\")\n",
    "    else:\n",
    "        print(\"Age is valid.\")\n",
    "\n",
    "\n",
    "try:\n",
    "    user_age = int(input(\"Enter your age: \"))\n",
    "    validate_age(user_age)\n",
    "except ValueError as e:\n",
    "    print(\"Invalid age:\", str(e))\n",
    "else:\n",
    "    print(\"Age verification successful.\")\n",
    "finally:\n",
    "    print(\"Age validation completed.\")"
   ]
  }
 ],
 "metadata": {
  "kernelspec": {
   "display_name": "Python 3 (ipykernel)",
   "language": "python",
   "name": "python3"
  },
  "language_info": {
   "codemirror_mode": {
    "name": "ipython",
    "version": 3
   },
   "file_extension": ".py",
   "mimetype": "text/x-python",
   "name": "python",
   "nbconvert_exporter": "python",
   "pygments_lexer": "ipython3",
   "version": "3.7.16"
  },
  "toc": {
   "base_numbering": 1,
   "nav_menu": {},
   "number_sections": false,
   "sideBar": true,
   "skip_h1_title": false,
   "title_cell": "Table of Contents",
   "title_sidebar": "Contents",
   "toc_cell": false,
   "toc_position": {},
   "toc_section_display": true,
   "toc_window_display": false
  }
 },
 "nbformat": 4,
 "nbformat_minor": 4
}
