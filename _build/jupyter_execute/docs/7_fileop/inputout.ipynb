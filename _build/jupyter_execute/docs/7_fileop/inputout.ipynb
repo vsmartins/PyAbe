{
 "cells": [
  {
   "cell_type": "markdown",
   "metadata": {
    "collapsed": false
   },
   "source": [
    "# <span style=\"color:black;\">File I/O</span>\n",
    "\n",
    "## <span style=\"color:black;\">Overview</span>\n",
    "\n",
    "At this point, you learned the main concepts to build your code, but our program is not using any data records or external information. This is why we should talk about the file operations, and we will discuss the simple file input/output for text (.txt) and comma-separated values (.csv) files, including reading, writing, and appending data, and managing file resources.\n",
    "\n",
    "## <span style=\"color:black;\">Working with Text file</span>\n",
    "\n",
    "Things to know for **.txt**:\n",
    "1. Opening a **.txt** file: you can use the built-in `open()` function, and has two parameters: path to file and mode (\"r\": reading, \"w\": writing, \"a\": appending, or a combination of these options)"
   ]
  },
  {
   "cell_type": "code",
   "execution_count": 1,
   "metadata": {
    "collapsed": false
   },
   "outputs": [
    {
     "ename": "FileNotFoundError",
     "evalue": "[Errno 2] No such file or directory: 'myfile.txt'",
     "output_type": "error",
     "traceback": [
      "\u001b[1;31m---------------------------------------------------------------------------\u001b[0m",
      "\u001b[1;31mFileNotFoundError\u001b[0m                         Traceback (most recent call last)",
      "\u001b[1;32m~\\AppData\\Local\\Temp\\ipykernel_11888\\3270961318.py\u001b[0m in \u001b[0;36m<module>\u001b[1;34m\u001b[0m\n\u001b[1;32m----> 1\u001b[1;33m \u001b[0mfile\u001b[0m \u001b[1;33m=\u001b[0m \u001b[0mopen\u001b[0m\u001b[1;33m(\u001b[0m\u001b[1;34m\"myfile.txt\"\u001b[0m\u001b[1;33m,\u001b[0m \u001b[1;34m\"r\"\u001b[0m\u001b[1;33m)\u001b[0m\u001b[1;33m\u001b[0m\u001b[1;33m\u001b[0m\u001b[0m\n\u001b[0m",
      "\u001b[1;31mFileNotFoundError\u001b[0m: [Errno 2] No such file or directory: 'myfile.txt'"
     ]
    }
   ],
   "source": [
    "file = open(\"myfile.txt\", \"r\")"
   ]
  },
  {
   "cell_type": "markdown",
   "metadata": {
    "collapsed": false
   },
   "source": [
    "2. Reading a **.txt** file: To read the contents of a file, you can use various methods of the file object, such as read(), readline(), or readlines(). The read() method reads the entire content of the file as a string, while readline() reads a single line, and readlines() returns a list of all lines. Here's an example"
   ]
  },
  {
   "cell_type": "code",
   "execution_count": null,
   "metadata": {
    "collapsed": false
   },
   "outputs": [],
   "source": [
    "file = open(\"myfile.txt\", \"r\")\n",
    "content = file.read()\n",
    "print(content)"
   ]
  },
  {
   "cell_type": "markdown",
   "metadata": {
    "collapsed": false
   },
   "source": [
    "3. Writing to a **.txt** file: To write data to a file, you can open the file in write mode (\"w\") and then use the write() method of the file object. If the file already exists, it will be overwritten. Here's an example:"
   ]
  },
  {
   "cell_type": "code",
   "execution_count": null,
   "metadata": {
    "collapsed": false
   },
   "outputs": [],
   "source": [
    "file = open(\"myfile.txt\", \"w\")\n",
    "file.write(\"Hello, World!\")\n",
    "file.close()"
   ]
  },
  {
   "cell_type": "markdown",
   "metadata": {
    "collapsed": false
   },
   "source": [
    "4. Appending to a **.txt** file:\n",
    "To append data to an existing file, you can open the file in append mode (\"a\") and then use the write() method. The new data will be added to the end of the file. Here's an example:"
   ]
  },
  {
   "cell_type": "code",
   "execution_count": null,
   "metadata": {
    "collapsed": false
   },
   "outputs": [],
   "source": [
    "file = open(\"myfile.txt\", \"a\")\n",
    "file.write(\"This is an additional line.\")\n",
    "file.close()"
   ]
  },
  {
   "cell_type": "markdown",
   "metadata": {
    "collapsed": false
   },
   "source": [
    "5. Closing a **.txt** file:\n",
    "It is important to close the file after you finish working with it to release system resources. You can use the close() method of the file object to close the file explicitly. Here's an example:"
   ]
  },
  {
   "cell_type": "code",
   "execution_count": null,
   "metadata": {
    "collapsed": false
   },
   "outputs": [],
   "source": [
    "file = open(\"myfile.txt\", \"r\")\n",
    "content = file.read()\n",
    "file.close()"
   ]
  },
  {
   "cell_type": "markdown",
   "metadata": {
    "collapsed": false
   },
   "source": [
    "Alternatively, you can use the `with` statement to automatically close the file once you are done. Here's an example:"
   ]
  },
  {
   "cell_type": "code",
   "execution_count": null,
   "metadata": {
    "collapsed": false
   },
   "outputs": [],
   "source": [
    "with open(\"myfile.txt\", \"r\") as file:\n",
    "    content = file.read()\n",
    "    # Work with the file within the block\n",
    "# File is automatically closed outside the block"
   ]
  },
  {
   "cell_type": "markdown",
   "metadata": {
    "collapsed": false
   },
   "source": [
    "## <span style=\"color:black;\">Working with CSV File</span>\n",
    "\n",
    "Things to know for **.csv**:\n",
    "\n",
    "1. Reading a **.csv** file: you can use the `csv` package (see how to install in 'Advanced Topics'), and `csv.reader` (with 'r' mode == reading mode) creates a reader object that allows you to read line-by-line of the CSV data (loop in the reader object)"
   ]
  },
  {
   "cell_type": "code",
   "execution_count": null,
   "metadata": {
    "collapsed": false
   },
   "outputs": [],
   "source": [
    "import csv\n",
    "# Opening a CSV file for reading\n",
    "file_csv=r'D:\\jupyterbooks\\pyabe\\docs\\_assets\\fileop\\uscounties.csv'\n",
    "with open(file_csv, 'r') as file:\n",
    "    reader = csv.reader(file)\n",
    "    # Reading and printing all rows\n",
    "    for row in reader:\n",
    "        print(row)"
   ]
  },
  {
   "cell_type": "markdown",
   "metadata": {
    "collapsed": false
   },
   "source": [
    "2. Writing a **.csv** file: you can use `csv.writer` (with 'w' mode == writing mode) allows you to create a new empty file and write new lines with `writer.writerow()`. Note that we use a list() to add our values."
   ]
  },
  {
   "cell_type": "code",
   "execution_count": null,
   "metadata": {
    "collapsed": false
   },
   "outputs": [],
   "source": [
    "import csv\n",
    "# Opening a CSV file for writing\n",
    "file_csv=r'D:\\jupyterbooks\\pyabe\\docs\\_assets\\fileop\\uscounties.csv'\n",
    "with open(file_csv, 'w', newline='') as file:\n",
    "    writer = csv.writer(file)\n",
    "\n",
    "    # Writing headers\n",
    "    writer.writerow(['Name', 'Age', 'Country'])\n",
    "\n",
    "    # Writing data rows\n",
    "    writer.writerow(['John', 30, 'USA'])\n",
    "    writer.writerow(['Alice', 25, 'Canada'])\n"
   ]
  },
  {
   "cell_type": "markdown",
   "metadata": {
    "collapsed": false
   },
   "source": [
    "3. Appending data to a **.csv** file: you can use `csv.writer` (with 'a' mode == appending mode) allows you to add new line of data with `writer.writerow()`."
   ]
  },
  {
   "cell_type": "code",
   "execution_count": null,
   "metadata": {
    "collapsed": false
   },
   "outputs": [],
   "source": [
    "import csv\n",
    "# Opening a CSV file for appending\n",
    "file_csv = r'D:\\jupyterbooks\\pyabe\\docs\\_assets\\fileop\\data.csv'\n",
    "with open(file_csv, 'a', newline='') as file:\n",
    "    writer = csv.writer(file)\n",
    "\n",
    "    # Appending additional data rows\n",
    "    writer.writerow(['Bob', 35, 'Australia'])\n",
    "    writer.writerow(['Emma', 28, 'UK'])\n",
    "\n",
    "# Opening a CSV file for reading\n",
    "with open(file_csv, 'r') as file:\n",
    "    reader = csv.reader(file)\n",
    "\n",
    "    # Reading and printing all rows\n",
    "    for row in reader:\n",
    "        print(row)"
   ]
  }
 ],
 "metadata": {
  "kernelspec": {
   "display_name": "Python 3 (ipykernel)",
   "language": "python",
   "name": "python3"
  },
  "language_info": {
   "codemirror_mode": {
    "name": "ipython",
    "version": 3
   },
   "file_extension": ".py",
   "mimetype": "text/x-python",
   "name": "python",
   "nbconvert_exporter": "python",
   "pygments_lexer": "ipython3",
   "version": "3.7.16"
  },
  "toc": {
   "base_numbering": 1,
   "nav_menu": {},
   "number_sections": false,
   "sideBar": true,
   "skip_h1_title": false,
   "title_cell": "Table of Contents",
   "title_sidebar": "Contents",
   "toc_cell": false,
   "toc_position": {},
   "toc_section_display": true,
   "toc_window_display": false
  }
 },
 "nbformat": 4,
 "nbformat_minor": 4
}