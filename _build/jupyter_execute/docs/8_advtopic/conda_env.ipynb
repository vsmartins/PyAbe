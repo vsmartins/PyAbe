{
 "cells": [
  {
   "cell_type": "markdown",
   "metadata": {
    "collapsed": false
   },
   "source": [
    "# <span style=\"color:black;\">Conda Environments</span>\n",
    "\n",
    "Conda environment is standard practice in Python to isolate installation of Python with associated packages. With environments, one project can have a separate version of Python and packages, and avoid the package conflict of versions.\n",
    "\n",
    "Conda is a popular solution to handling multiple environments across multiple projects. Additionally, `conda` acts as its own package manager and allows you to download packages from multiple channels *outside* PyPI.\n",
    "\n",
    "\n",
    "## <span style=\"color:black;\">Creating a `conda` Environment</span>\n",
    "\n",
    "Create a conda environment with the Anaconda Prompt:\n",
    "\n",
    "```bash\n",
    "> conda create --name env_name python=3.7\n",
    "```\n",
    "\n",
    "```bash\n",
    "> conda activate env_name\n",
    "\n",
    "```\n",
    "\n",
    "## <span style=\"color:black;\">Installing Packages with `conda`</span>\n",
    "\n",
    "Now, let's install some packages. Instead of using `pip`, we'll use `conda` instead.\n",
    "\n",
    "```bash\n",
    ">conda install pytorch\n",
    "```\n",
    "\n",
    "Next, you'll notice that `conda` takes some time while it is in the \"solving environment\" step. This is done to ensure that all packages are *strictly compatible* with each other. Conda automatically determines the best versions to use of whatever necessary packages are being downloaded.\n",
    "\n",
    "\n",
    "## <span style=\"color:black;\">Listing Environments</span>\n",
    "\n",
    "To show all the environments installed on your system, use `conda env list`.\n",
    "\n",
    "## <span style=\"color:black;\">Switching Environments</span>\n",
    "\n",
    "To switch environments, simply use `conda activate <env_name>`. Then, use `conda list` to show all the packages installed in that environment.\n",
    "\n",
    "## <span style=\"color:black;\">Exporting an Environment</span>\n",
    "\n",
    "You can define an environment by using a `environment.yml` file. This file contains information about the name of the environment, which packages are installed to the environment, and what channels the environment is using. To create an environment.yml file, use:\n",
    "\n",
    "```bash\n",
    "> conda env export > environment.yml\n",
    "```\n",
    "## <span style=\"color:black;\">Importing an Environment</span>\n",
    "\n",
    "To create an environment from a `environment.yaml` file, use\n",
    "```bash\n",
    "> conda env create -f environment.yml\n",
    "```"
   ]
  }
 ],
 "metadata": {
  "kernelspec": {
   "display_name": "Python 3 (ipykernel)",
   "language": "python",
   "name": "python3"
  },
  "language_info": {
   "codemirror_mode": {
    "name": "ipython",
    "version": 3
   },
   "file_extension": ".py",
   "mimetype": "text/x-python",
   "name": "python",
   "nbconvert_exporter": "python",
   "pygments_lexer": "ipython3",
   "version": "3.7.16"
  },
  "toc": {
   "base_numbering": 1,
   "nav_menu": {},
   "number_sections": false,
   "sideBar": true,
   "skip_h1_title": false,
   "title_cell": "Table of Contents",
   "title_sidebar": "Contents",
   "toc_cell": false,
   "toc_position": {},
   "toc_section_display": true,
   "toc_window_display": false
  }
 },
 "nbformat": 4,
 "nbformat_minor": 4
}