{
 "cells": [
  {
   "cell_type": "markdown",
   "metadata": {
    "collapsed": false
   },
   "source": [
    "# Decorators\n",
    "\n",
    "## Overview\n",
    "\n",
    "Decorators in Python are a way to modify or enhance the behavior of functions or classes without directly modifying their source code. They provide a clean and reusable way to add functionality to existing functions or classes.\n",
    "\n",
    "In Python, decorators are implemented using the concept of higher-order functions, which are functions that take one or more functions as arguments and return a new function. The decorator function wraps the original function and performs some additional processing or modification before or after calling the original function\n"
   ]
  },
  {
   "cell_type": "code",
   "execution_count": 1,
   "metadata": {
    "collapsed": false
   },
   "outputs": [
    {
     "name": "stdout",
     "output_type": "stream",
     "text": [
      "HELLO, WORLD!\n"
     ]
    }
   ],
   "source": [
    "def uppercase_decorator(func):\n",
    "    def wrapper():\n",
    "        result = func()\n",
    "        return result.upper()\n",
    "    return wrapper\n",
    "\n",
    "@uppercase_decorator\n",
    "def greet():\n",
    "    return \"Hello, World!\"\n",
    "\n",
    "print(greet())"
   ]
  },
  {
   "cell_type": "code",
   "execution_count": 2,
   "metadata": {
    "collapsed": false
   },
   "outputs": [
    {
     "data": {
      "text/plain": [
       "'\\ndef decorator_function(original_function):\\n    def wrapper_function(*args, **kwargs):\\n        # Perform additional processing before calling the original function\\n        # ...\\n\\n        result = original_function(*args, **kwargs)\\n\\n        # Perform additional processing after calling the original function\\n        # ...\\n\\n        return result\\n\\n    return wrapper_function\\n\\n@decorator_function\\ndef original_function(*args, **kwargs):\\n    # Function implementation\\n    # ...\\n\\n# Call the decorated function\\noriginal_function(*args, **kwargs)\\n\\n'"
      ]
     },
     "execution_count": 2,
     "metadata": {},
     "output_type": "execute_result"
    }
   ],
   "source": [
    "'''\n",
    "def decorator_function(original_function):\n",
    "    def wrapper_function(*args, **kwargs):\n",
    "        # Perform additional processing before calling the original function\n",
    "        # ...\n",
    "\n",
    "        result = original_function(*args, **kwargs)\n",
    "\n",
    "        # Perform additional processing after calling the original function\n",
    "        # ...\n",
    "\n",
    "        return result\n",
    "\n",
    "    return wrapper_function\n",
    "\n",
    "@decorator_function\n",
    "def original_function(*args, **kwargs):\n",
    "    # Function implementation\n",
    "    # ...\n",
    "\n",
    "# Call the decorated function\n",
    "original_function(*args, **kwargs)\n",
    "\n",
    "'''"
   ]
  }
 ],
 "metadata": {
  "kernelspec": {
   "display_name": "Python 3 (ipykernel)",
   "language": "python",
   "name": "python3"
  },
  "language_info": {
   "codemirror_mode": {
    "name": "ipython",
    "version": 3
   },
   "file_extension": ".py",
   "mimetype": "text/x-python",
   "name": "python",
   "nbconvert_exporter": "python",
   "pygments_lexer": "ipython3",
   "version": "3.7.16"
  },
  "toc": {
   "base_numbering": 1,
   "nav_menu": {},
   "number_sections": false,
   "sideBar": true,
   "skip_h1_title": false,
   "title_cell": "Table of Contents",
   "title_sidebar": "Contents",
   "toc_cell": false,
   "toc_position": {},
   "toc_section_display": true,
   "toc_window_display": false
  }
 },
 "nbformat": 4,
 "nbformat_minor": 4
}
