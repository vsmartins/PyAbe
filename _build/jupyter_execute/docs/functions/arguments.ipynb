{
 "cells": [
  {
   "cell_type": "markdown",
   "metadata": {
    "collapsed": false
   },
   "source": [
    "# Function arguments\n",
    "\n",
    "## Overview\n",
    "In Python, an argument in a function is a value that is passed to the function when it is called. Arguments provide a way to supply input data to a function, allowing the function to perform operations on that data or use it in some way.\n",
    "\n",
    "Arguments can be of different types, such as numbers, strings, lists, tuples, or even other functions. When defining a function, you can specify parameters that serve as placeholders for the arguments that will be passed to the function.\n",
    "\n",
    "## Example 1"
   ]
  },
  {
   "cell_type": "code",
   "execution_count": 1,
   "metadata": {
    "tags": [
     "popout",
     "remove-input",
     "remove-stdout"
    ]
   },
   "outputs": [
    {
     "name": "stdout",
     "output_type": "stream",
     "text": [
      "Hello, Alice!\n",
      "Hello, Bob!\n"
     ]
    }
   ],
   "source": [
    "def greet(name):\n",
    "    print(\"Hello, \" + name + \"!\")\n",
    "\n",
    "greet(\"Alice\")  # Output: Hello, Alice!\n",
    "greet(\"Bob\")    # Output: Hello, Bob!"
   ]
  },
  {
   "cell_type": "markdown",
   "metadata": {
    "collapsed": false
   },
   "source": [
    "In the above example, the function add_numbers() takes two parameters: a and b. Notice the line, add_numbers(2, 3)"
   ]
  },
  {
   "cell_type": "code",
   "execution_count": 2,
   "metadata": {
    "collapsed": false
   },
   "outputs": [
    {
     "name": "stdout",
     "output_type": "stream",
     "text": [
      "Sum: 5\n",
      "Sum: 10\n",
      "Sum: 15\n"
     ]
    }
   ],
   "source": [
    "def add_numbers( a = 7,  b = 8):\n",
    "    sum = a + b\n",
    "    print('Sum:', sum)\n",
    "\n",
    "\n",
    "# function call with two arguments\n",
    "add_numbers(2, 3)\n",
    "\n",
    "#  function call with one argument\n",
    "add_numbers(a = 2)\n",
    "\n",
    "# function call with no arguments\n",
    "add_numbers()"
   ]
  },
  {
   "cell_type": "markdown",
   "metadata": {
    "collapsed": false
   },
   "source": [
    "##  Python Keyword Argument\n",
    "\n",
    "In Python, keyword arguments are a way to pass arguments to a function by specifying the parameter name along with its corresponding value. Unlike positional arguments, which rely on the order of arguments, keyword arguments are identified by their parameter name, allowing you to provide arguments in any order.\n",
    "\n"
   ]
  },
  {
   "cell_type": "code",
   "execution_count": 3,
   "metadata": {
    "collapsed": false
   },
   "outputs": [
    {
     "name": "stdout",
     "output_type": "stream",
     "text": [
      "First Name: Eric\n",
      "Last Name: Cartman\n"
     ]
    }
   ],
   "source": [
    "def display_info(first_name, last_name):\n",
    "    print('First Name:', first_name)\n",
    "    print('Last Name:', last_name)\n",
    "\n",
    "display_info(last_name = 'Cartman', first_name = 'Eric')"
   ]
  },
  {
   "cell_type": "markdown",
   "metadata": {
    "collapsed": false
   },
   "source": [
    "Here, we have assigned names to arguments during the function call.\n",
    "\n",
    "Hence, first_name in the function call is assigned to first_name in the function definition. Similarly, last_name in the function call is assigned to last_name in the function definition.\n",
    "\n",
    "\n",
    "\n",
    "def greet(name, age):\n",
    "    print(\"Hello, \" + name + \"! You are \" + str(age) + \" years old.\")\n",
    "\n",
    "greet(name=\"Alice\", age=25)\n",
    "greet(age=30, name=\"Bob\")\n",
    "\n",
    "It's important to note that when using keyword arguments, all the positional arguments must come before the keyword arguments. For example, in the function call greet(\"Alice\", age=25), \"Alice\" is a positional argument, while age=25 is a keyword argument."
   ]
  },
  {
   "cell_type": "markdown",
   "metadata": {
    "collapsed": false
   },
   "source": [
    "## Python Function With Arbitrary Arguments\n",
    "\n",
    "Sometimes, we do not know in advance the number of arguments that will be passed into a function. To handle this kind of situation, we can use arbitrary arguments in Python.\n",
    "\n",
    "Arbitrary arguments allow us to pass a varying number of values during a function call.\n",
    "\n",
    "We use an asterisk (*) before the parameter name to denote this kind of argument. For example,\n",
    "\n",
    "In Python, you can define functions that accept an arbitrary number of arguments using the special syntax of *args or **kwargs. These are known as \"arbitrary arguments\" or \"variable-length arguments.\"\n",
    "\n",
    "The *args parameter allows a function to accept an arbitrary number of positional arguments. It collects all the positional arguments into a tuple within the function.\n",
    "\n",
    "\n",
    "Arbitrary positional arguments using *args:\n",
    "The *args parameter allows a function to accept an arbitrary number of positional arguments. It collects all the positional arguments into a tuple within the function."
   ]
  },
  {
   "cell_type": "code",
   "execution_count": 4,
   "metadata": {
    "collapsed": false
   },
   "outputs": [
    {
     "name": "stdout",
     "output_type": "stream",
     "text": [
      "15\n",
      "Sum =  6\n",
      "Sum =  13\n"
     ]
    }
   ],
   "source": [
    "def sum_numbers(*args):\n",
    "    total = 0\n",
    "    for num in args:\n",
    "        total += num\n",
    "    return total\n",
    "\n",
    "result = sum_numbers(1, 2, 3, 4, 5)\n",
    "print(result)  # Output: 15\n",
    "\n",
    "\n",
    "# program to find sum of multiple numbers\n",
    "\n",
    "def find_sum(*numbers):\n",
    "    result = 0\n",
    "\n",
    "    for num in numbers:\n",
    "        result = result + num\n",
    "\n",
    "    print(\"Sum = \", result)\n",
    "\n",
    "# function call with 3 arguments\n",
    "find_sum(1, 2, 3)\n",
    "\n",
    "# function call with 2 arguments\n",
    "find_sum(4, 9)"
   ]
  },
  {
   "cell_type": "markdown",
   "metadata": {
    "collapsed": false
   },
   "source": [
    "Arbitrary keyword arguments using **kwargs:\n",
    "The **kwargs parameter allows a function to accept an arbitrary number of keyword arguments. It collects all the keyword arguments into a dictionary within the function, where the keys are the argument names and the values are the corresponding argument values."
   ]
  },
  {
   "cell_type": "code",
   "execution_count": 5,
   "metadata": {
    "collapsed": false
   },
   "outputs": [
    {
     "name": "stdout",
     "output_type": "stream",
     "text": [
      "name: Alice\n",
      "age: 25\n",
      "city: London\n"
     ]
    }
   ],
   "source": [
    "def display_info(**kwargs):\n",
    "    for key, value in kwargs.items():\n",
    "        print(key + \": \" + str(value))\n",
    "\n",
    "display_info(name=\"Alice\", age=25, city=\"London\")"
   ]
  },
  {
   "cell_type": "markdown",
   "metadata": {
    "collapsed": false
   },
   "source": [
    "You can combine both *args and **kwargs in a function definition to accept both positional and keyword arguments arbitrarily.\n",
    "\n"
   ]
  }
 ],
 "metadata": {
  "kernelspec": {
   "display_name": "Python 3 (ipykernel)",
   "language": "python",
   "name": "python3"
  },
  "language_info": {
   "codemirror_mode": {
    "name": "ipython",
    "version": 3
   },
   "file_extension": ".py",
   "mimetype": "text/x-python",
   "name": "python",
   "nbconvert_exporter": "python",
   "pygments_lexer": "ipython3",
   "version": "3.7.16"
  },
  "toc": {
   "base_numbering": 1,
   "nav_menu": {},
   "number_sections": false,
   "sideBar": true,
   "skip_h1_title": false,
   "title_cell": "Table of Contents",
   "title_sidebar": "Contents",
   "toc_cell": false,
   "toc_position": {},
   "toc_section_display": true,
   "toc_window_display": false
  }
 },
 "nbformat": 4,
 "nbformat_minor": 4
}
