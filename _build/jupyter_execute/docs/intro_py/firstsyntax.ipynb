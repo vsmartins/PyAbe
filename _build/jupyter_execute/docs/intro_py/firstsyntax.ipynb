{
 "cells": [
  {
   "cell_type": "markdown",
   "metadata": {
    "collapsed": false
   },
   "source": [
    "(file-types:notebooks)=\n",
    "# First syntax\n",
    "\n",
    "To run your first Python code, you will need an Integrated Development Environment (IDE) or a code editor to write and execute your code. There is a vast array of editors and IDE's (Integrated Development Environments) which can be used to edit and run Python code.These are just a few examples of popular IDEs or code editors that you can use to write and run Python code. Each IDE may have its own specific features and workflows, but the general steps involve creating a .py file, writing your code, and executing it using the appropriate commands or buttons provided by the IDE. Below is a table of simple text editors and IDE's which can edit and run Python code:\n",
    "\n",
    "| Python Text Editor | Description |\n",
    "|----------| ---------- |\n",
    "| Idle   | Included with Python from Python.org |\n",
    "| Sublime   | Full-featured editor with long-time no-cost license |\n",
    "| Spyder   | IDE included with the Anaconda Distribution of Python |\n",
    "| Visual Studio Code  | An multi-language open source IDE |\n",
    "| PyCharm   | Professional Developer-friendly Python IDE |\n",
    "\n",
    "To create a Python file and write code to print your first code, follow these steps:\n",
    "\n",
    "1. Open a text editor or an Integrated Development Environment (IDE) of your choice, such as Sublime Text, PyCharm, Visual Studio Code, or any other editor that supports Python.\n",
    "\n",
    "2. Create a new file by selecting \"File\" -> \"New File\" or by using the appropriate keyboard shortcut, such as Ctrl+N (Windows/Linux) or Command+N (Mac).\n",
    "\n",
    "3. Save the file with a .py extension, which indicates that it is a Python file. Choose a name for your file, such as \"my_first_code.py\", and select the appropriate directory where you want to save it.\n",
    "\n",
    "4. In the newly created Python file, write the following code:"
   ]
  },
  {
   "cell_type": "code",
   "execution_count": 1,
   "metadata": {
    "collapsed": false
   },
   "outputs": [
    {
     "name": "stdout",
     "output_type": "stream",
     "text": [
      "My first code!\n"
     ]
    }
   ],
   "source": [
    "print(\"My first code!\")"
   ]
  },
  {
   "cell_type": "markdown",
   "metadata": {
    "collapsed": false
   },
   "source": [
    "5. Save the file to ensure that your changes are preserved.\n",
    "\n",
    "6. Open a terminal or command prompt and navigate to the directory where you saved the .py file.\n",
    "\n",
    "7. Run the Python script by typing python my_first_code.py in the terminal (replace my_first_code.py with the actual name of your file) and press Enter.\n",
    "\n",
    "\n",
    "```{note}\n",
    "If the Python executable is in your system's PATH environment variable,\n",
    "the script will be executed, and you will see the output \"My first code!\" printed on the terminal.\n",
    "\n",
    "```\n",
    "\n",
    "Congratulations! You have created a Python file and written code to print your first code. When you run the Python script, the print() function will display the specified text on the terminal. Feel free to modify the code and experiment further with Python programming.\n",
    "\n",
    "\n",
    "## Indentation\n",
    "\n",
    "In Python, indentation is a crucial aspect of the language syntax. It is used to define the structure and scope of code blocks, such as loops, functions, and conditional statements. Python uses indentation instead of braces or keywords like \"begin\" and \"end\" to determine the grouping of statements.\n",
    "\n",
    "Indentation is done using spaces or tabs at the beginning of lines. Consistency in the choice of indentation style is important throughout the codebase.\n"
   ]
  }
 ],
 "metadata": {
  "kernelspec": {
   "display_name": "Python 3 (ipykernel)",
   "language": "python",
   "name": "python3"
  },
  "language_info": {
   "codemirror_mode": {
    "name": "ipython",
    "version": 3
   },
   "file_extension": ".py",
   "mimetype": "text/x-python",
   "name": "python",
   "nbconvert_exporter": "python",
   "pygments_lexer": "ipython3",
   "version": "3.7.16"
  },
  "toc": {
   "base_numbering": 1,
   "nav_menu": {},
   "number_sections": false,
   "sideBar": true,
   "skip_h1_title": false,
   "title_cell": "Table of Contents",
   "title_sidebar": "Contents",
   "toc_cell": false,
   "toc_position": {},
   "toc_section_display": true,
   "toc_window_display": false
  }
 },
 "nbformat": 4,
 "nbformat_minor": 4
}
