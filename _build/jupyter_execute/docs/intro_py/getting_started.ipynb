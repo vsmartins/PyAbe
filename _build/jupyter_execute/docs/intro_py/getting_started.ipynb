{
 "cells": [
  {
   "cell_type": "markdown",
   "metadata": {
    "collapsed": false
   },
   "source": [
    "(file-types:notebooks)=\n",
    "# Getting Started\n",
    "\n",
    "## Python installation\n",
    "\n",
    "There are many ways to install Python such as [Python Software Foundation website](python.org) or via a third party Python distribution such as Anaconda. I recommend that you use Anaconda to manage your Python installation because it simplifies the package management and virutal environments, especially when working with large projects, and it's free.\n",
    "\n",
    "### Installing Python with Anaconda https://problemsolvingwithpython.com/01-Orientation/01.03-Installing-Anaconda-on-Windows/\n",
    "\n",
    "Anaconda is a Python distribution and provides a comprehensive and user-friendly platform for Python programming in the scientific and data science communities. Anaconda installation includes a Python Interpreter (i.e., this is where you can run your codes), the Anaconda Prompt (a command line utility where you can manipulate the Python environments and packages), Spyder (a code editor) and all of the Python Standard Library modules. Beyond them, the Anaconda distribution has Anaconda Navigator, so the users can launch other applications such as Jupyter notebooks.\n",
    "\n",
    "![Anaconda website](/docs/_assets/intro/anaconda.png)\n",
    "\n",
    "To install python via Anaconda distribution, you can do the following:\n",
    "\n",
    "1. Download the [**Anaconda distribution**](https://www.anaconda.com/download/) according to your operating system (Windows, macOS, or Linux). Make sure to download it is the latest stable release.\n",
    "\n",
    "> ADD IMAEGE HERE\n",
    "\n",
    "2. Once the download is complete, run the installer and follow the installation wizard and on-screen instructions. It may take a few minutes for the installation process to complete.\n",
    "\n",
    ":::{note}\n",
    "During the installation, you'll be prompted to choose the installation location and whether you want to add Anaconda to your system's PATH environment variable. It is generally recommended to leave the default options selected unless you have specific requirements.\n",
    ":::\n",
    "\n",
    "> ADD IMAEGE HERE\n",
    "\n",
    "\n",
    "3. To verify the Anaconda installation, open a new Anaconda terminal and type the command: conda --version\n",
    "\n",
    "> ADD IMAEGE HERE\n",
    "\n",
    "\n",
    "### Code editor (i.e.,Integrated Development Environment (IDE))\n",
    "\n",
    "To run your Python code, you will need an Integrated Development Environment (IDE) or a code editor to write and execute your code. There are several editors and below are few examples of popular IDEs or code editors that you can use to write and run Python code. Each IDE may have its own specific features and workflows, but the general steps involve creating a .py file, writing your code, and executing it using the appropriate commands or buttons provided by the IDE. Below is a table of simple text editors and IDE's which can edit and run Python code:\n",
    "\n",
    "| Python Text Editor | Description |\n",
    "|----------| ---------- |\n",
    "| Idle   | Included with Python from Python.org |\n",
    "| Sublime   | Full-featured editor with long-time no-cost license |\n",
    "| Spyder   | IDE included with the Anaconda Distribution of Python |\n",
    "| Visual Studio Code  | An multi-language open source IDE |\n",
    "| PyCharm   | Professional Developer-friendly Python IDE |\n",
    "\n",
    "\n",
    "To write your code, you can use the IDE named Spyder, which is available from the Anaconda Navigator (search for \"Spyder\" in the Anaconda Navigator). A better alternative IDE is the PyCharm or Visual Studio.\n",
    "\n",
    "PyCharm has a comprehensive set of tools for code writing, debugging, and testing. If you prefer, download and install the IDE for community (free) or professional in the [JetBrain/PyCharm](https://www.jetbrains.com/pycharm/). Now, you can create a new project, set up your python environment, and start coding! See this guide for more information.\n",
    "\n",
    "[![PyCharm setup](/docs/_assets/intro/pycharm.png)](https://www.youtube.com/watch?v=n1SFlh-pW_Q)\n",
    "\n",
    "[PyCharm setup](https://www.youtube.com/watch?v=e53lRPmWrMI)\n",
    "\n",
    "\n",
    ":::{note}\n",
    "### Alternative way\n",
    "\n",
    "[**Google Colab**](https://colab.research.google.com/) is a cloud-based integrated development environment (IDE) provided by Google for writing and executing Python code. It allows you to create and share Jupyter notebooks, which are interactive documents containing code, visualizations, and explanatory text. If you prefer, open your web browser and go to the Google Colab website (https://colab.research.google.com/). In the notebook, you can write your Python code in code cells and execute by clicking the \"Play\" button. Remember that the code and data in Colab notebooks are stored temporarily, and the session can time out after a period of inactivity. However, you can save your work to Google Drive or other storage locations to persist your notebooks for future use.\n",
    "\n",
    "![Colab website](/docs/_assets/intro/colab.png)\n",
    "\n",
    ":::"
   ]
  }
 ],
 "metadata": {
  "kernelspec": {
   "display_name": "Python 3 (ipykernel)",
   "language": "python",
   "name": "python3"
  },
  "language_info": {
   "codemirror_mode": {
    "name": "ipython",
    "version": 3
   },
   "file_extension": ".py",
   "mimetype": "text/x-python",
   "name": "python",
   "nbconvert_exporter": "python",
   "pygments_lexer": "ipython3",
   "version": "3.7.16"
  },
  "toc": {
   "base_numbering": 1,
   "nav_menu": {},
   "number_sections": false,
   "sideBar": true,
   "skip_h1_title": false,
   "title_cell": "Table of Contents",
   "title_sidebar": "Contents",
   "toc_cell": false,
   "toc_position": {},
   "toc_section_display": true,
   "toc_window_display": false
  }
 },
 "nbformat": 4,
 "nbformat_minor": 4
}
