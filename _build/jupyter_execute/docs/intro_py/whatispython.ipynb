{
 "cells": [
  {
   "cell_type": "markdown",
   "metadata": {
    "collapsed": false
   },
   "source": [
    "# Python Introduction\n",
    "\n",
    "## What is Python?\n",
    "\n",
    "Python is a tool used for many things such as creating websites, counting numbers, study and analyze data, make computers act like people, and automate tasks. Guido van Rossum made it and launched it first in 1991. Python's versatility, easy use, and supportive community make it valuable for various applications, starting from small computer programs to big software systems.\n",
    "\n",
    "## Why Python?\n",
    "\n",
    "Python has gained immense popularity among beginners and experienced programmers alike due to its simplicity and readability. The programming language offers an intuitive syntax that is easy to learn and write code in, while emphasizing code readability. It emphasizes clear, concise syntax that resembles natural language and uses indentation, making it easier to read and analyze. These features make Python a prime choice for developers looking to create robust applications, automate tasks, or perform data analysis.\n",
    "\n",
    "The benefits of Python are (1) beginners can quickly learn how to code, (2) large community support and numerous libraries, (3) python is useful for many applications, from website development to data analysis, (4) the codes are easy to read and understand, (5) the language runs in multiple platforms and allows the integration of other programming languages."
   ]
  },
  {
   "cell_type": "markdown",
   "metadata": {
    "collapsed": false
   },
   "source": [
    "![2023 Trends in Programming languages](/docs/_assets/intro/prog_trends.png)\n",
    "\n",
    "By SimForm (2023)\n"
   ]
  },
  {
   "cell_type": "markdown",
   "metadata": {
    "collapsed": false
   },
   "source": [
    "## Python & ABE?\n",
    "\n",
    "Python can be a valuable tool for agricultural and biosystems engineers (ABE) because it supports the data processing and analysis of large datasets, automation and control of engineering systems, modeling and simulation of agricultural systems, machine learning to improve the use of natural resources and more. The Python applications can be found in the analysis of soil data, crop yields, and environmental factors, and create predictive models to improve crop production and sustainability, identify pests and diseases, and optimize irrigation and fertilization practices."
   ]
  },
  {
   "cell_type": "markdown",
   "metadata": {
    "collapsed": false
   },
   "source": []
  }
 ],
 "metadata": {
  "kernelspec": {
   "display_name": "Python 3 (ipykernel)",
   "language": "python",
   "name": "python3"
  },
  "language_info": {
   "codemirror_mode": {
    "name": "ipython",
    "version": 3
   },
   "file_extension": ".py",
   "mimetype": "text/x-python",
   "name": "python",
   "nbconvert_exporter": "python",
   "pygments_lexer": "ipython3",
   "version": "3.7.16"
  },
  "toc": {
   "base_numbering": 1,
   "nav_menu": {},
   "number_sections": false,
   "sideBar": true,
   "skip_h1_title": false,
   "title_cell": "Table of Contents",
   "title_sidebar": "Contents",
   "toc_cell": false,
   "toc_position": {},
   "toc_section_display": true,
   "toc_window_display": false
  }
 },
 "nbformat": 4,
 "nbformat_minor": 4
}
