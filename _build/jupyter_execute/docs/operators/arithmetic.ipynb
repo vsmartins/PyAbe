{
 "cells": [
  {
   "cell_type": "markdown",
   "metadata": {
    "collapsed": false
   },
   "source": [
    "# Arithmetic operators\n",
    "\n",
    "## Overview\n",
    "Arithmetic operators in Python are used to perform basic mathematical operations on numeric operands. They allow you to perform addition, subtraction, multiplication, division, exponentiation, modulo, and floor division. Here's a description of each arithmetic operator:\n",
    "\n",
    "## Examples\n",
    "\n",
    "| Operation | Operator | Examples|\n",
    "|----------| ---------- | ---------- |\n",
    "| Multiplication | `*`  | `5 * 2 = 10`   |\n",
    "| Division | `/`   | `10 / 2 = 5`   |\n",
    "| Addition | `+`   | `7 + 3 = 10`   |\n",
    "| Subtraction | `-`   | `10 - 3 = 7`   |\n",
    "| Floor Division | `//`   | `10 // 3 = 3`   |\n",
    "| Modulo | `%`   | `10 % 3 = 1`  |\n",
    "| Power | `**`   | `5 ** 2 = 25`   |\n"
   ]
  },
  {
   "cell_type": "code",
   "execution_count": 1,
   "metadata": {
    "collapsed": false
   },
   "outputs": [
    {
     "name": "stdout",
     "output_type": "stream",
     "text": [
      "Multiplication:  21\n",
      "Division:  2.3333333333333335\n",
      "Sum:  10\n",
      "Subtraction:  4\n",
      "Floor Division:  2\n",
      "Modulo:  1\n",
      "Power:  343\n"
     ]
    }
   ],
   "source": [
    "a = 7\n",
    "b = 3\n",
    "\n",
    "# multiplication\n",
    "print ('Multiplication: ', a * b)\n",
    "\n",
    "# division\n",
    "print ('Division: ', a / b)\n",
    "\n",
    "# addition\n",
    "print ('Sum: ', a + b)\n",
    "\n",
    "# subtraction\n",
    "print ('Subtraction: ', a - b)\n",
    "\n",
    "# floor division\n",
    "print ('Floor Division: ', a // b)\n",
    "\n",
    "# modulo\n",
    "print ('Modulo: ', a % b)\n",
    "\n",
    "# a to the power b\n",
    "print ('Power: ', a ** b)"
   ]
  }
 ],
 "metadata": {
  "kernelspec": {
   "display_name": "Python 3 (ipykernel)",
   "language": "python",
   "name": "python3"
  },
  "language_info": {
   "codemirror_mode": {
    "name": "ipython",
    "version": 3
   },
   "file_extension": ".py",
   "mimetype": "text/x-python",
   "name": "python",
   "nbconvert_exporter": "python",
   "pygments_lexer": "ipython3",
   "version": "3.7.16"
  },
  "toc": {
   "base_numbering": 1,
   "nav_menu": {},
   "number_sections": false,
   "sideBar": true,
   "skip_h1_title": false,
   "title_cell": "Table of Contents",
   "title_sidebar": "Contents",
   "toc_cell": false,
   "toc_position": {},
   "toc_section_display": true,
   "toc_window_display": false
  }
 },
 "nbformat": 4,
 "nbformat_minor": 4
}
