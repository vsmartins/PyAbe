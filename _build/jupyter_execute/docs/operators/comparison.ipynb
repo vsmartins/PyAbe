{
 "cells": [
  {
   "cell_type": "markdown",
   "metadata": {
    "collapsed": false
   },
   "source": [
    "# Comparison assignment\n",
    "\n",
    "# Overview\n",
    "\n",
    "Comparison operators are used to compare two values or expressions and return a Boolean value (True or False) based on the comparison result.\n",
    "\n",
    "## Examples\n",
    "\n",
    "| Operation | Operator | Examples|\n",
    "|----------| ---------- | ---------- |\n",
    "| Is Equal To | `==`  | `10 == 8` is `**False**`   |\n",
    "| Not Equal To | `!=`   | `10 != 8` is `**False**`  |\n",
    "| Greater Than | `>`   | `10 > 8` is `**True**`  |\n",
    "| Less Than | `<`   | `10 < 8` is `**False**`   |\n",
    "| Greater Than or Equal To | `>=`   | `10 >= 8` is `**True**`   |\n",
    "| Less Than or Equal To | `<=`   | `10 <= 8` is `**False**`  |"
   ]
  },
  {
   "cell_type": "code",
   "execution_count": 1,
   "metadata": {
    "collapsed": false
   },
   "outputs": [
    {
     "name": "stdout",
     "output_type": "stream",
     "text": [
      "False\n",
      "True\n",
      "True\n",
      "False\n",
      "True\n",
      "False\n"
     ]
    }
   ],
   "source": [
    "# equal to operator\n",
    "print(10 == 8)\n",
    "\n",
    "# not equal to operator\n",
    "print(10 != 8)\n",
    "\n",
    "# greater than operator\n",
    "print(10 > 8)\n",
    "\n",
    "# less than operator\n",
    "print(10 < 8)\n",
    "\n",
    "# greater than or equal to operator\n",
    "print(10 >= 8)\n",
    "\n",
    "# less than or equal to operator\n",
    "print(10 <= 8)"
   ]
  }
 ],
 "metadata": {
  "kernelspec": {
   "display_name": "Python 3 (ipykernel)",
   "language": "python",
   "name": "python3"
  },
  "language_info": {
   "codemirror_mode": {
    "name": "ipython",
    "version": 3
   },
   "file_extension": ".py",
   "mimetype": "text/x-python",
   "name": "python",
   "nbconvert_exporter": "python",
   "pygments_lexer": "ipython3",
   "version": "3.7.16"
  },
  "toc": {
   "base_numbering": 1,
   "nav_menu": {},
   "number_sections": false,
   "sideBar": true,
   "skip_h1_title": false,
   "title_cell": "Table of Contents",
   "title_sidebar": "Contents",
   "toc_cell": false,
   "toc_position": {},
   "toc_section_display": true,
   "toc_window_display": false
  }
 },
 "nbformat": 4,
 "nbformat_minor": 4
}
