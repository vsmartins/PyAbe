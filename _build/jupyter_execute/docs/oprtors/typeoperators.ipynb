{
 "cells": [
  {
   "cell_type": "markdown",
   "metadata": {
    "collapsed": false
   },
   "source": [
    "# What are operators?\n",
    "\n",
    "In Python, operators are special symbols or characters that perform various operations on operands (values or variables). Python provides a wide range of operators to perform arithmetic, comparison, assignment, logical, and other operations. Here are some of the most commonly used Python operators:\n",
    "\n",
    "* Arithmetic operators\n",
    "* Assignment Operators\n",
    "* Comparison Operators\n",
    "* Logical Operators\n",
    "\n",
    "There are also **Bitwise Operators** and **Special Operators**, and you can search about the documentation for these."
   ]
  },
  {
   "cell_type": "code",
   "execution_count": null,
   "metadata": {
    "collapsed": false
   },
   "outputs": [],
   "source": []
  }
 ],
 "metadata": {
  "kernelspec": {
   "display_name": "Python 3 (ipykernel)",
   "language": "python",
   "name": "python3"
  },
  "language_info": {
   "codemirror_mode": {
    "name": "ipython",
    "version": 3
   },
   "file_extension": ".py",
   "mimetype": "text/x-python",
   "name": "python",
   "nbconvert_exporter": "python",
   "pygments_lexer": "ipython3",
   "version": "3.7.16"
  },
  "toc": {
   "base_numbering": 1,
   "nav_menu": {},
   "number_sections": false,
   "sideBar": true,
   "skip_h1_title": false,
   "title_cell": "Table of Contents",
   "title_sidebar": "Contents",
   "toc_cell": false,
   "toc_position": {},
   "toc_section_display": true,
   "toc_window_display": false
  }
 },
 "nbformat": 4,
 "nbformat_minor": 4
}
