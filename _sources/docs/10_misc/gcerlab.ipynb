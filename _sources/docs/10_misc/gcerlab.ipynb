{
 "cells": [
  {
   "cell_type": "markdown",
   "source": [
    "\n",
    "# About the author\n",
    "\n",
    "Dr. Martins is an assistant professor in the Department of Agricultural and Biological Engineering at Mississippi State University.\n",
    "Martins has expertise in satellite image processing, quantitative remote sensing, deep learning for natural resources mapping.\n",
    "He received a BSc (2014) in Agricultural and Environmental Engineering from Federal University of Vicosa, Brazil, MSc (2017) in Remote Sensing from Brazilian Institute for Space Research, PhD (2020) in Agricultural and Biosystems Engineering from Iowa State University,\n",
    "and was a postdoctoral fellow at Michigan State University (2022).\n",
    "\n",
    "## GCERlab\n",
    "\n",
    "Geospatial Computing for Environmental Research (GCER) Lab explores new techniques for land and water resources management using Earth Observation data. Our scientific work addresses many relevant Earth's process questions using deep learning models, including land cover and land use change, water quantity and quality, agricultural practices, and climate change.\n",
    "\n",
    "![GCERlab](/docs/_assets/gcer_logo.png)"
   ],
   "metadata": {
    "collapsed": false
   }
  }
 ],
 "metadata": {
  "kernelspec": {
   "display_name": "Python 3 (ipykernel)",
   "language": "python",
   "name": "python3"
  },
  "language_info": {
   "codemirror_mode": {
    "name": "ipython",
    "version": 3
   },
   "file_extension": ".py",
   "mimetype": "text/x-python",
   "name": "python",
   "nbconvert_exporter": "python",
   "pygments_lexer": "ipython3",
   "version": "3.7.16"
  },
  "toc": {
   "base_numbering": 1,
   "nav_menu": {},
   "number_sections": false,
   "sideBar": true,
   "skip_h1_title": false,
   "title_cell": "Table of Contents",
   "title_sidebar": "Contents",
   "toc_cell": false,
   "toc_position": {},
   "toc_section_display": true,
   "toc_window_display": false
  }
 },
 "nbformat": 4,
 "nbformat_minor": 4
}
