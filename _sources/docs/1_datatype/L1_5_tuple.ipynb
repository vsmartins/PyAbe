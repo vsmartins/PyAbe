{
 "cells": [
  {
   "cell_type": "markdown",
   "source": [
    "# <span style=\"color:black;\">Tuple</span>\n",
    "\n",
    "## <span style=\"color:black;\">Overview</span>\n",
    "\n",
    "A tuple is an ordered collection of elements enclosed in parentheses `()`. Tuples are only different of lists because they are **immutable** (i.e., their elements cannot be modified after creation) so the elements in tuple remain in fixed order.\n",
    "\n",
    ":::{note}\n",
    "\n",
    "**General syntax**\n",
    "\n",
    "```python\n",
    "my_tuple = (element1, element2, element3, ..., elementN)\n",
    "```\n",
    "- `my_tuple`: Tuple variable name\n",
    "- `element1`, `element2`, `element3`, ..., `elementN`:\n",
    "- The elements of the tuple are enclosed in parentheses `()` and separated by commas\n",
    ":::\n",
    "\n",
    "- Tuples are commonly used in scenarios where you want to ensure that the data remains unchanged, such as historical records\n",
    "\n",
    "## <span style=\"color:black;\">Examples</span>"
   ],
   "metadata": {
    "collapsed": false
   }
  },
  {
   "cell_type": "code",
   "execution_count": null,
   "outputs": [],
   "source": [
    "my_tuple = (1, 2, 3, \"apple\", \"banana\")\n",
    "print(my_tuple)"
   ],
   "metadata": {
    "collapsed": false
   }
  },
  {
   "cell_type": "markdown",
   "source": [
    "* Concatenate tuples or create new tuples by slicing existing ones."
   ],
   "metadata": {
    "collapsed": false
   }
  },
  {
   "cell_type": "code",
   "execution_count": null,
   "outputs": [],
   "source": [
    "print(my_tuple[0])  # 1\n",
    "print(my_tuple[3])  # \"apple\""
   ],
   "metadata": {
    "collapsed": false
   }
  }
 ],
 "metadata": {
  "kernelspec": {
   "display_name": "Python 3 (ipykernel)",
   "language": "python",
   "name": "python3"
  },
  "language_info": {
   "codemirror_mode": {
    "name": "ipython",
    "version": 3
   },
   "file_extension": ".py",
   "mimetype": "text/x-python",
   "name": "python",
   "nbconvert_exporter": "python",
   "pygments_lexer": "ipython3",
   "version": "3.7.16"
  },
  "toc": {
   "base_numbering": 1,
   "nav_menu": {},
   "number_sections": false,
   "sideBar": true,
   "skip_h1_title": false,
   "title_cell": "Table of Contents",
   "title_sidebar": "Contents",
   "toc_cell": false,
   "toc_position": {},
   "toc_section_display": true,
   "toc_window_display": false
  }
 },
 "nbformat": 4,
 "nbformat_minor": 4
}
