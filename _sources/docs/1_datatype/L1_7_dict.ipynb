{
 "cells": [
  {
   "cell_type": "markdown",
   "source": [
    "# <span style=\"color:black;\">Dictionary</span>\n",
    "\n",
    "Dictionaries are used to store and manipulate datasets for efficient search and retrieval of values based on their associated keys.\n",
    "\n",
    "- A dictionary is a collection of key-and-value pairs\n",
    "- Dictionary is unordered, mutable, and indexed collection of elements, where each element is a key-value pair separated by a colon and enclosed in curly braces.\n",
    "\n",
    ":::{note}\n",
    "\n",
    "**General syntax**\n",
    "\n",
    "```python\n",
    "my_dict = {key1: value1,\n",
    "            key2: value2,\n",
    "            key3: value3,\n",
    "            keyN: valueN}\n",
    "```\n",
    "* `my_dict`: Dictionary variable name\n",
    "* `key1`, `key2`, `key3`, ..., `keyN`: The keys are used to find each value in the dictionary, and can be strings, integers etc.\n",
    "* `value1`, `value2`, `value3`, ..., `valueN`: In each key, you can store values of any data type (lists, springs, other dictionary).\n",
    ":::\n",
    "\n",
    "## <span style=\"color:black;\">Examples</span>"
   ],
   "metadata": {
    "collapsed": false
   }
  },
  {
   "cell_type": "code",
   "execution_count": null,
   "outputs": [],
   "source": [
    "# Create an empty dictionary\n",
    "d = dict()\n",
    "# or\n",
    "d = {}"
   ],
   "metadata": {
    "collapsed": false
   }
  },
  {
   "cell_type": "code",
   "execution_count": null,
   "outputs": [],
   "source": [
    "# Create a dictionary with different key-value pairs\n",
    "dict_test = {\n",
    "    \"a\": \"test\",\n",
    "    \"b\": 1000,\n",
    "    \"c\": [1,2,3],\n",
    "    1: 'name'\n",
    "}"
   ],
   "metadata": {
    "collapsed": false
   }
  },
  {
   "cell_type": "code",
   "execution_count": null,
   "outputs": [],
   "source": [
    "# print, modify, print again\n",
    "print(dict_test['b'])"
   ],
   "metadata": {
    "collapsed": false
   }
  },
  {
   "cell_type": "code",
   "execution_count": null,
   "outputs": [],
   "source": [
    "# modify the value of key 'b'\n",
    "dict_test['b'] = 2000\n",
    "print(dict_test['b'])"
   ],
   "metadata": {
    "collapsed": false
   }
  },
  {
   "cell_type": "code",
   "execution_count": null,
   "outputs": [],
   "source": [
    "# see the keys\n",
    "print(dict_test.keys())"
   ],
   "metadata": {
    "collapsed": false
   }
  },
  {
   "cell_type": "code",
   "execution_count": null,
   "outputs": [],
   "source": [
    "# see the values\n",
    "print(dict_test.values())"
   ],
   "metadata": {
    "collapsed": false
   }
  },
  {
   "cell_type": "markdown",
   "source": [
    "Another example:"
   ],
   "metadata": {
    "collapsed": false
   }
  },
  {
   "cell_type": "code",
   "execution_count": null,
   "outputs": [],
   "source": [
    "# Create a dictionary of ABE's details\n",
    "abe_program = {\n",
    "    \"program\": \"biosystems engineering\",\n",
    "    \"n_students\": 1000,\n",
    "    \"aplication\": \"land and water management\"\n",
    "}"
   ],
   "metadata": {
    "collapsed": false
   }
  },
  {
   "cell_type": "code",
   "execution_count": null,
   "outputs": [],
   "source": [
    "# Access the values of a dictionary\n",
    "print(abe_program[\"program\"])    # biosystems engineering\n",
    "print(abe_program[\"n_students\"])     # 1000\n",
    "print(abe_program[\"aplication\"])   # land and water management"
   ],
   "metadata": {
    "collapsed": false
   }
  },
  {
   "cell_type": "code",
   "execution_count": null,
   "outputs": [],
   "source": [
    "# Update the values of a dictionary\n",
    "abe_program[\"n_students\"] = 1500\n",
    "abe_program[\"aplication\"] = \"biomedical analysis\"\n",
    "print(abe_program[\"n_students\"])   # biomedical analysis\n",
    "print(abe_program[\"aplication\"])   # biomedical analysis"
   ],
   "metadata": {
    "collapsed": false
   }
  },
  {
   "cell_type": "code",
   "execution_count": null,
   "outputs": [],
   "source": [
    "# Add a new key-value pair to a dictionary\n",
    "abe_program[\"university\"] = \"Mississippi State University\"\n",
    "print(abe_program[\"university\"])"
   ],
   "metadata": {
    "collapsed": false
   }
  },
  {
   "cell_type": "code",
   "execution_count": null,
   "outputs": [],
   "source": [
    "# Delete a key-value pair from a dictionary\n",
    "del abe_program[\"aplication\"]\n",
    "# Iterate over the keys of a dictionary\n",
    "for key in abe_program.keys():\n",
    "    print(key)"
   ],
   "metadata": {
    "collapsed": false
   }
  },
  {
   "cell_type": "code",
   "execution_count": null,
   "outputs": [],
   "source": [
    "# Iterate over the values of a dictionary\n",
    "for value in abe_program.values():\n",
    "    print(value)"
   ],
   "metadata": {
    "collapsed": false
   }
  },
  {
   "cell_type": "code",
   "execution_count": null,
   "outputs": [],
   "source": [
    "# Iterate over the key-value pairs of a dictionary\n",
    "for key, value in abe_program.items():\n",
    "    print(key, value)"
   ],
   "metadata": {
    "collapsed": false
   }
  }
 ],
 "metadata": {
  "kernelspec": {
   "display_name": "Python 3 (ipykernel)",
   "language": "python",
   "name": "python3"
  },
  "language_info": {
   "codemirror_mode": {
    "name": "ipython",
    "version": 3
   },
   "file_extension": ".py",
   "mimetype": "text/x-python",
   "name": "python",
   "nbconvert_exporter": "python",
   "pygments_lexer": "ipython3",
   "version": "3.7.16"
  },
  "toc": {
   "base_numbering": 1,
   "nav_menu": {},
   "number_sections": false,
   "sideBar": true,
   "skip_h1_title": false,
   "title_cell": "Table of Contents",
   "title_sidebar": "Contents",
   "toc_cell": false,
   "toc_position": {},
   "toc_section_display": true,
   "toc_window_display": false
  }
 },
 "nbformat": 4,
 "nbformat_minor": 4
}
