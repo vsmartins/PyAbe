{
 "cells": [
  {
   "cell_type": "markdown",
   "source": [
    "# Boolean\n",
    "\n",
    "## Overview\n",
    "A boolean in Python is a data type that represents one of two possible values: True or False. Booleans are used to evaluate conditions, make decisions, and control the flow of programs.\n",
    "The True value represents a condition that is considered to be true, while the False value represents a condition that is considered to be false. Booleans are fundamental in programming logic and are extensively used in control structures like if statements, while loops, and logical operations.\n",
    "\n",
    "## Boolean examples\n",
    "\n",
    "Boolean operators such as and, or, and not can be used to combine or negate boolean values, enabling more complex conditions and decision-making in your programs.\n"
   ],
   "metadata": {
    "collapsed": false
   }
  },
  {
   "cell_type": "code",
   "execution_count": null,
   "outputs": [],
   "source": [
    "# Boolean variables\n",
    "is_raining = True\n",
    "is_sunny = False\n",
    "\n",
    "# Logical operations\n",
    "result = (5 > 3)  # Evaluates to True\n",
    "print(result)\n",
    "\n",
    "# Conditional statements\n",
    "if is_raining:\n",
    "    print(\"Remember to take an umbrella.\")\n",
    "\n",
    "if not is_sunny:\n",
    "    print(\"Wear a jacket.\")\n",
    "\n",
    "# Boolean expressions\n",
    "is_weekend = True\n",
    "is_home = False\n",
    "\n",
    "can_go_out = is_weekend and not is_home\n",
    "if can_go_out:\n",
    "    print(\"You can go out and have fun!\")\n",
    "else:\n",
    "    print(\"Stay home and relax.\")"
   ],
   "metadata": {
    "collapsed": false
   }
  }
 ],
 "metadata": {
  "kernelspec": {
   "display_name": "Python 3 (ipykernel)",
   "language": "python",
   "name": "python3"
  },
  "language_info": {
   "codemirror_mode": {
    "name": "ipython",
    "version": 3
   },
   "file_extension": ".py",
   "mimetype": "text/x-python",
   "name": "python",
   "nbconvert_exporter": "python",
   "pygments_lexer": "ipython3",
   "version": "3.7.16"
  },
  "toc": {
   "base_numbering": 1,
   "nav_menu": {},
   "number_sections": false,
   "sideBar": true,
   "skip_h1_title": false,
   "title_cell": "Table of Contents",
   "title_sidebar": "Contents",
   "toc_cell": false,
   "toc_position": {},
   "toc_section_display": true,
   "toc_window_display": false
  }
 },
 "nbformat": 4,
 "nbformat_minor": 4
}
