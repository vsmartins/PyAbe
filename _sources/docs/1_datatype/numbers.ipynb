{
 "cells": [
  {
   "cell_type": "markdown",
   "source": [
    "(file-types:notebooks)=\n",
    "# Numbers\n",
    "There are three main numeric data types in Python: integer, float, and complex.\n",
    "\n",
    "Numeric data types provide the foundation for numerical computations and mathematical operations in Python, enabling you to work with numbers in a flexible and powerful way.\n",
    "\n",
    "Numeric data types in Python support various arithmetic and mathematical operations, such as addition, subtraction, multiplication, division, and more. They can be used in mathematical calculations, data analysis, scientific computations, and many other applications.\n",
    "\n",
    "\n",
    "## Integer\n",
    "\n",
    "**Integers** (`int`) are whole numbers without a fractional component. They can be positive or negative, such as -5, 0, 10. In Python, integers have unlimited precision, meaning they can represent arbitrarily large or small numbers."
   ],
   "metadata": {
    "collapsed": false
   }
  },
  {
   "cell_type": "code",
   "execution_count": null,
   "outputs": [],
   "source": [
    "# Integer\n",
    "num1 = 10\n",
    "num2 = 1001"
   ],
   "metadata": {
    "collapsed": false
   }
  },
  {
   "cell_type": "markdown",
   "source": [
    "## Float\n",
    "\n",
    "**Floating-point** (`float`) numbers represent real numbers with a fractional component. They are specified using decimal notation or scientific notation with an optional exponent, such as 3.14, -0.5, 1e-3. Python uses the IEEE 754 standard to represent floating-point numbers."
   ],
   "metadata": {
    "collapsed": false
   }
  },
  {
   "cell_type": "code",
   "execution_count": null,
   "outputs": [],
   "source": [
    "# Floating-Point\n",
    "num3 = 3.14\n",
    "num4 = 123.4"
   ],
   "metadata": {
    "collapsed": false
   }
  },
  {
   "cell_type": "markdown",
   "source": [
    "## Complex\n",
    "\n",
    "**Complex** numbers are used to represent numbers with both a real and imaginary part. They are specified using the j or J suffix to denote the imaginary unit, such as 2 + 3j, -1j."
   ],
   "metadata": {
    "collapsed": false
   }
  },
  {
   "cell_type": "code",
   "execution_count": null,
   "outputs": [],
   "source": [
    "# Complex\n",
    "num3 = 2 + 3j"
   ],
   "metadata": {
    "collapsed": false
   }
  }
 ],
 "metadata": {
  "kernelspec": {
   "display_name": "Python 3 (ipykernel)",
   "language": "python",
   "name": "python3"
  },
  "language_info": {
   "codemirror_mode": {
    "name": "ipython",
    "version": 3
   },
   "file_extension": ".py",
   "mimetype": "text/x-python",
   "name": "python",
   "nbconvert_exporter": "python",
   "pygments_lexer": "ipython3",
   "version": "3.7.16"
  },
  "toc": {
   "base_numbering": 1,
   "nav_menu": {},
   "number_sections": false,
   "sideBar": true,
   "skip_h1_title": false,
   "title_cell": "Table of Contents",
   "title_sidebar": "Contents",
   "toc_cell": false,
   "toc_position": {},
   "toc_section_display": true,
   "toc_window_display": false
  }
 },
 "nbformat": 4,
 "nbformat_minor": 4
}
