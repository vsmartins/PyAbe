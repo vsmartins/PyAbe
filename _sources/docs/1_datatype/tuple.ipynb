{
 "cells": [
  {
   "cell_type": "markdown",
   "source": [
    "(file-types:notebooks)=\n",
    "# Tuples\n",
    "\n",
    "## Overview\n",
    "A tuple is an ordered collection of elements enclosed in parentheses (). Tuples are similar to lists, but they have a key difference: tuples are **immutable**, meaning their elements cannot be modified after creation. Once a tuple is created, its elements and their order remain fixed.\n",
    "\n",
    ":::{note}\n",
    "my_tuple = (item1, item2, item3, ..., itemN)\n",
    "\n",
    "* `my_tuple`: The name given to the tuple variable, which can be any valid variable name.\n",
    "* `item1`, `item2`, `item3`, ..., `itemN`: The items or values that make up the elements of the tuple. These items can be of any data type and are enclosed in parentheses (). Items are separated by commas\n",
    ":::"
   ],
   "metadata": {
    "collapsed": false
   }
  },
  {
   "cell_type": "code",
   "execution_count": null,
   "outputs": [],
   "source": [
    "my_tuple = (1, 2, 3, \"apple\", \"banana\")\n",
    "print(my_tuple)"
   ],
   "metadata": {
    "collapsed": false
   }
  },
  {
   "cell_type": "markdown",
   "source": [
    "However, since tuples are immutable, you cannot modify their elements or assign new values to specific positions. Tuples are commonly used in scenarios where you want to ensure that the data remains unchanged. For example, they are often used to represent fixed collections of values, such as coordinates, configurations, or database records."
   ],
   "metadata": {
    "collapsed": false
   }
  },
  {
   "cell_type": "code",
   "execution_count": null,
   "outputs": [],
   "source": [
    "print(my_tuple[0])  # 1\n",
    "print(my_tuple[3])  # \"apple\""
   ],
   "metadata": {
    "collapsed": false
   }
  },
  {
   "cell_type": "markdown",
   "source": [
    "While tuples cannot be modified after creation, you can perform operations on them without altering the original tuple. For example, you can concatenate tuples or create new tuples by slicing existing ones."
   ],
   "metadata": {
    "collapsed": false
   }
  },
  {
   "cell_type": "markdown",
   "source": [],
   "metadata": {
    "collapsed": false
   }
  }
 ],
 "metadata": {
  "kernelspec": {
   "display_name": "Python 3 (ipykernel)",
   "language": "python",
   "name": "python3"
  },
  "language_info": {
   "codemirror_mode": {
    "name": "ipython",
    "version": 3
   },
   "file_extension": ".py",
   "mimetype": "text/x-python",
   "name": "python",
   "nbconvert_exporter": "python",
   "pygments_lexer": "ipython3",
   "version": "3.7.16"
  },
  "toc": {
   "base_numbering": 1,
   "nav_menu": {},
   "number_sections": false,
   "sideBar": true,
   "skip_h1_title": false,
   "title_cell": "Table of Contents",
   "title_sidebar": "Contents",
   "toc_cell": false,
   "toc_position": {},
   "toc_section_display": true,
   "toc_window_display": false
  }
 },
 "nbformat": 4,
 "nbformat_minor": 4
}
