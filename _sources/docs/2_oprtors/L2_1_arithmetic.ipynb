{
 "cells": [
  {
   "cell_type": "markdown",
   "source": [
    "# <span style=\"color:black;\">Arithmetic operators</span>\n",
    "\n",
    "Arithmetic operators perform mathematical operations on numeric variables, including addition, subtraction, multiplication, division, exponentiation, and floor division.\n",
    "\n",
    "See definition:\n",
    "\n",
    "| Operation | Operator | Examples|\n",
    "|----------| ---------- | ---------- |\n",
    "| Multiplication | `*`  | `5 * 2 = 10`   |\n",
    "| Division | `/`   | `10 / 2 = 5`   |\n",
    "| Addition | `+`   | `7 + 3 = 10`   |\n",
    "| Subtraction | `-`   | `10 - 3 = 7`   |\n",
    "| Floor Division | `//`   | `10 // 3 = 3`   |\n",
    "| Modulo | `%`   | `10 % 3 = 1`  |\n",
    "| Power | `**`   | `5 ** 2 = 25`   |"
   ],
   "metadata": {
    "collapsed": false
   }
  },
  {
   "cell_type": "markdown",
   "source": [
    "**Examples**"
   ],
   "metadata": {
    "collapsed": false
   }
  },
  {
   "cell_type": "code",
   "execution_count": null,
   "outputs": [],
   "source": [
    "# Define two variables\n",
    "a = 7\n",
    "b = 3"
   ],
   "metadata": {
    "collapsed": false
   }
  },
  {
   "cell_type": "code",
   "execution_count": null,
   "outputs": [],
   "source": [
    "# multiplication\n",
    "c = a * b\n",
    "print (f'Multiplication: {c}')"
   ],
   "metadata": {
    "collapsed": false
   }
  },
  {
   "cell_type": "code",
   "execution_count": null,
   "outputs": [],
   "source": [
    "# division\n",
    "c = a / b\n",
    "print (f'Division: {c}')"
   ],
   "metadata": {
    "collapsed": false
   }
  },
  {
   "cell_type": "code",
   "execution_count": null,
   "outputs": [],
   "source": [
    "# addition\n",
    "c = a + b\n",
    "print (f'Sum: {c}')"
   ],
   "metadata": {
    "collapsed": false
   }
  },
  {
   "cell_type": "code",
   "execution_count": null,
   "outputs": [],
   "source": [
    "# subtraction\n",
    "c = a - b\n",
    "print (f'Subtraction: {c}')"
   ],
   "metadata": {
    "collapsed": false
   }
  },
  {
   "cell_type": "code",
   "execution_count": null,
   "outputs": [],
   "source": [
    "# floor division - it rounds a given number down to the nearest integer that is less than or equal to the original number\n",
    "c = a // b\n",
    "print (f'Floor Division: {a // b}')"
   ],
   "metadata": {
    "collapsed": false
   }
  },
  {
   "cell_type": "code",
   "execution_count": null,
   "outputs": [],
   "source": [
    "# modulo - it calculates the integer remainder of dividing the first number (dividend) by the second number (divisor)\n",
    "c = a % b\n",
    "print (f'Modulo: {c}')"
   ],
   "metadata": {
    "collapsed": false
   }
  },
  {
   "cell_type": "code",
   "execution_count": null,
   "outputs": [],
   "source": [
    "# a to the power b -  two asterisks (**) raise a number to a specified exponent\n",
    "c = a ** b\n",
    "print (f'Power: {a ** b}')"
   ],
   "metadata": {
    "collapsed": false
   }
  }
 ],
 "metadata": {
  "kernelspec": {
   "display_name": "Python 3 (ipykernel)",
   "language": "python",
   "name": "python3"
  },
  "language_info": {
   "codemirror_mode": {
    "name": "ipython",
    "version": 3
   },
   "file_extension": ".py",
   "mimetype": "text/x-python",
   "name": "python",
   "nbconvert_exporter": "python",
   "pygments_lexer": "ipython3",
   "version": "3.7.16"
  },
  "toc": {
   "base_numbering": 1,
   "nav_menu": {},
   "number_sections": false,
   "sideBar": true,
   "skip_h1_title": false,
   "title_cell": "Table of Contents",
   "title_sidebar": "Contents",
   "toc_cell": false,
   "toc_position": {},
   "toc_section_display": true,
   "toc_window_display": false
  }
 },
 "nbformat": 4,
 "nbformat_minor": 4
}
