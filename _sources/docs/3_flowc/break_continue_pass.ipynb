{
 "cells": [
  {
   "cell_type": "markdown",
   "source": [
    "\n",
    "# Break\\Continue\\Pass\n",
    "\n",
    "## Overview\n",
    "In Python, break, continue, and pass are control flow statements that allow you to modify the behavior of loops and conditional statements.\n",
    "\n",
    "## Break\n",
    "\n",
    "The break statement is used to prematurely exit a loop. When encountered within a loop (such as for or while), it immediately terminates the loop's execution and transfers the control to the next statement after the loop. This is useful when you want to stop the loop iteration prematurely based on a certain condition.\n",
    "\n",
    ":::{note}\n",
    "for item in sequence:\n",
    "    if condition:\n",
    "        break\n",
    "    # Code to be executed\n",
    ":::"
   ],
   "metadata": {
    "collapsed": false
   }
  },
  {
   "cell_type": "code",
   "execution_count": null,
   "outputs": [],
   "source": [
    "numbers = [1, 2, 3, 4, 5]\n",
    "\n",
    "for num in numbers:\n",
    "    if num == 3:\n",
    "        break\n",
    "    print(num)"
   ],
   "metadata": {
    "collapsed": false
   }
  },
  {
   "cell_type": "markdown",
   "source": [
    "\n",
    "## Continue\n",
    "\n",
    "The continue statement is used to skip the rest of the current iteration within a loop. When encountered, it immediately jumps to the next iteration, bypassing the remaining code within the loop block. This is useful when you want to skip specific iterations based on a condition, but continue with the next iteration of the loop.\n",
    "\n",
    ":::{note}\n",
    "for `item` in `sequence`:\n",
    "    if condition:\n",
    "        `continue`\n",
    "    # Code to be executed\n",
    ":::"
   ],
   "metadata": {
    "collapsed": false
   }
  },
  {
   "cell_type": "code",
   "execution_count": null,
   "outputs": [],
   "source": [
    "numbers = [1, 2, 3, 4, 5]\n",
    "\n",
    "for num in numbers:\n",
    "    if num == 3:\n",
    "        continue\n",
    "    print(num)\n",
    "\n",
    "\n",
    "# program to print odd numbers from 1 to 10\n",
    "num = 0\n",
    "\n",
    "while num < 10:\n",
    "    num += 1\n",
    "\n",
    "    if (num % 2) == 0:\n",
    "        continue\n",
    "\n",
    "    print(num)"
   ],
   "metadata": {
    "collapsed": false
   }
  },
  {
   "cell_type": "markdown",
   "source": [
    "## Pass\n",
    "\n",
    "The pass statement is a placeholder statement that does nothing. It is commonly used as a placeholder when a statement is syntactically required but no action is needed. It allows you to have an empty code block without causing a syntax error. It can be useful when you are designing the structure of a program or function and want to temporarily leave a block empty.\n",
    "\n",
    ":::{note}\n",
    "if condition:\n",
    "    pass\n",
    "else:\n",
    "    # Code to be executed\n",
    ":::"
   ],
   "metadata": {
    "collapsed": false
   }
  },
  {
   "cell_type": "code",
   "execution_count": null,
   "outputs": [],
   "source": [
    "x = 10\n",
    "\n",
    "if x > 5:\n",
    "    pass\n",
    "else:\n",
    "    print(\"x is less than or equal to 5\")"
   ],
   "metadata": {
    "collapsed": false
   }
  }
 ],
 "metadata": {
  "kernelspec": {
   "display_name": "Python 3 (ipykernel)",
   "language": "python",
   "name": "python3"
  },
  "language_info": {
   "codemirror_mode": {
    "name": "ipython",
    "version": 3
   },
   "file_extension": ".py",
   "mimetype": "text/x-python",
   "name": "python",
   "nbconvert_exporter": "python",
   "pygments_lexer": "ipython3",
   "version": "3.7.16"
  },
  "toc": {
   "base_numbering": 1,
   "nav_menu": {},
   "number_sections": false,
   "sideBar": true,
   "skip_h1_title": false,
   "title_cell": "Table of Contents",
   "title_sidebar": "Contents",
   "toc_cell": false,
   "toc_position": {},
   "toc_section_display": true,
   "toc_window_display": false
  }
 },
 "nbformat": 4,
 "nbformat_minor": 4
}
