{
 "cells": [
  {
   "cell_type": "markdown",
   "source": [
    "# Introduction\n",
    "\n",
    "Repetition structures provide the ability to execute a specific code segment multiple times. In Python, there are two types of repetition structures: for loops and while loops. For loops iterate a predetermined number of times, while while loops continue executing as long as a certain logical condition remains true.\n",
    "\n",
    "Upon completing this chapter, you will have gained the following skills:\n",
    "\n",
    "Utilizing while loops effectively.\n",
    "Employing for loops to iterate over a set number of times.\n",
    "Implementing the break statement to exit a loop prematurely.\n",
    "Utilizing the continue statement to skip the current iteration and proceed to the next one.\n",
    "Creating flowcharts that depict programs incorporating loops"
   ],
   "metadata": {
    "collapsed": false
   }
  }
 ],
 "metadata": {
  "kernelspec": {
   "display_name": "Python 3 (ipykernel)",
   "language": "python",
   "name": "python3"
  },
  "language_info": {
   "codemirror_mode": {
    "name": "ipython",
    "version": 3
   },
   "file_extension": ".py",
   "mimetype": "text/x-python",
   "name": "python",
   "nbconvert_exporter": "python",
   "pygments_lexer": "ipython3",
   "version": "3.7.16"
  },
  "toc": {
   "base_numbering": 1,
   "nav_menu": {},
   "number_sections": false,
   "sideBar": true,
   "skip_h1_title": false,
   "title_cell": "Table of Contents",
   "title_sidebar": "Contents",
   "toc_cell": false,
   "toc_position": {},
   "toc_section_display": true,
   "toc_window_display": false
  }
 },
 "nbformat": 4,
 "nbformat_minor": 4
}
