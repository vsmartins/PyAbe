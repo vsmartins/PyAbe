{
 "cells": [
  {
   "cell_type": "markdown",
   "source": [
    "# While Loop\n",
    "\n",
    "## Overview\n",
    "\n",
    "In Python, a while loop is used to repeatedly execute a block of code as long as a certain condition remains true. It allows you to create a loop that continues until the condition evaluates to false.\n",
    "The while loop is useful when you want to repeat a block of code based on a condition that may change during each iteration. It provides a flexible way to implement repetitive logic and perform operations until a specific condition is met. However, it's important to ensure that the condition is eventually met to prevent an infinite loop.\n",
    "\n",
    ":::{note}\n",
    "`while` **condition**:\n",
    "    # Code to be executed while the condition is true\n",
    ":::\n",
    "\n",
    "In this example, the while loop continues as long as the condition count < 5 remains true. The code block under the loop is executed repeatedly. In each iteration, the current value of count is printed, and then count is incremented by 1 using the count += 1 statement. This process continues until count reaches 5, at which point the condition becomes false, and the loop terminates.\n",
    "\n",
    "It's important to ensure that the condition eventually becomes false to avoid an infinite loop. Without proper termination conditions or control flow within the loop, it may execute indefinitely.\n",
    "\n",
    ":::{note}\n",
    "count = 0\n",
    "\n",
    "while True:\n",
    "    print(count)\n",
    "    count += 1\n",
    "    if count >= 5:\n",
    "        break\n",
    ":::\n",
    "\n",
    "## Example"
   ],
   "metadata": {
    "collapsed": false
   }
  },
  {
   "cell_type": "code",
   "execution_count": null,
   "metadata": {
    "tags": [
     "popout",
     "remove-input",
     "remove-stdout"
    ]
   },
   "outputs": [],
   "source": [
    "# Example 1\n",
    "\n",
    "count = 0\n",
    "\n",
    "while count < 5:\n",
    "    print(count)\n",
    "    count += 1"
   ]
  }
 ],
 "metadata": {
  "kernelspec": {
   "display_name": "Python 3 (ipykernel)",
   "language": "python",
   "name": "python3"
  },
  "language_info": {
   "codemirror_mode": {
    "name": "ipython",
    "version": 3
   },
   "file_extension": ".py",
   "mimetype": "text/x-python",
   "name": "python",
   "nbconvert_exporter": "python",
   "pygments_lexer": "ipython3",
   "version": "3.7.16"
  },
  "toc": {
   "base_numbering": 1,
   "nav_menu": {},
   "number_sections": false,
   "sideBar": true,
   "skip_h1_title": false,
   "title_cell": "Table of Contents",
   "title_sidebar": "Contents",
   "toc_cell": false,
   "toc_position": {},
   "toc_section_display": true,
   "toc_window_display": false
  }
 },
 "nbformat": 4,
 "nbformat_minor": 4
}
