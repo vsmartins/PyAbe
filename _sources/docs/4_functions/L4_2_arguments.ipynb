{
 "cells": [
  {
   "cell_type": "markdown",
   "source": [
    "# <span style=\"color:black;\">Function arguments</span>\n",
    "## <span style=\"color:black;\">Overview</span>\n",
    "\n",
    "Arguments are input parameters (e.g., numbers, strings, lists, tuples, etc) of the function. There are three types of arguments: *none*, *required* and/or *optimal* arguments.\n",
    "\n",
    "**Examples**"
   ],
   "metadata": {
    "collapsed": false
   }
  },
  {
   "cell_type": "code",
   "execution_count": null,
   "outputs": [],
   "source": [
    "# Function without argument\n",
    "def print_usa():\n",
    "    print('United States of America')"
   ],
   "metadata": {
    "collapsed": false
   }
  },
  {
   "cell_type": "code",
   "execution_count": null,
   "outputs": [],
   "source": [
    "print_usa()"
   ],
   "metadata": {
    "collapsed": false
   }
  },
  {
   "cell_type": "markdown",
   "source": [
    "This function has no arguments, and it will always do the simple printing. Let's see a function with one argument"
   ],
   "metadata": {
    "collapsed": false
   }
  },
  {
   "cell_type": "code",
   "execution_count": null,
   "outputs": [],
   "source": [
    "# Function with one argument\n",
    "def celsius_to_fahrenheit(celsius):\n",
    "    fahrenheit = (celsius * 9/5) + 32\n",
    "    return fahrenheit"
   ],
   "metadata": {
    "collapsed": false
   }
  },
  {
   "cell_type": "code",
   "execution_count": null,
   "outputs": [],
   "source": [
    "print(celsius_to_fahrenheit(25))"
   ],
   "metadata": {
    "collapsed": false
   }
  },
  {
   "cell_type": "markdown",
   "source": [
    "This above function has one argument, and it returns an error if you use it without input parameters (i.e., in this case, celsius temperature)"
   ],
   "metadata": {
    "collapsed": false
   }
  },
  {
   "cell_type": "code",
   "execution_count": null,
   "outputs": [],
   "source": [
    "print(celsius_to_fahrenheit())"
   ],
   "metadata": {
    "collapsed": false
   }
  },
  {
   "cell_type": "markdown",
   "source": [
    "## <span style=\"color:black;\">Keyword Arguments</span>\n",
    "\n",
    "Let's see a function with two required arguments:"
   ],
   "metadata": {
    "collapsed": false
   }
  },
  {
   "cell_type": "code",
   "execution_count": null,
   "outputs": [],
   "source": [
    "# Define a function to print my name\n",
    "def display_info(first_name, last_name):\n",
    "    print('First Name:', first_name)\n",
    "    print('Last Name:', last_name)\n",
    "\n",
    "display_info('Vitor', 'Martins')"
   ],
   "metadata": {
    "collapsed": false
   }
  },
  {
   "cell_type": "markdown",
   "source": [
    ":::{note}\n",
    "I intentionally preserved the position of my arguments and passed my `first_name` in the first argument and `last_name` in the second argument. This is known as **positional arguments**. Unlike positional arguments, we can use **\"keyword arguments\"** and pass the values with their respective arguments, providing my arguments in any order.\n",
    ":::"
   ],
   "metadata": {
    "collapsed": false
   }
  },
  {
   "cell_type": "code",
   "execution_count": null,
   "outputs": [],
   "source": [
    "display_info(last_name = 'Martins', first_name = 'Vitor')"
   ],
   "metadata": {
    "collapsed": false
   }
  },
  {
   "cell_type": "markdown",
   "source": [
    "Above strategy is useful to build a function with required arguments and default arguments with pre-defined values.\n",
    "\n",
    "For example:"
   ],
   "metadata": {
    "collapsed": false
   }
  },
  {
   "cell_type": "code",
   "execution_count": null,
   "outputs": [],
   "source": [
    "# Define a new student with default arguments\n",
    "def add_new_student(first_name, last_name, university='Mississippi State University', student_year='freshman'):\n",
    "    print('First Name:', first_name)\n",
    "    print('Last Name:', last_name)\n",
    "    print('University:', university)\n",
    "    print('Student year:', student_year)\n",
    "\n",
    "# this works well (1)\n",
    "add_new_student('Great', 'Student', university='Mississippi State University', student_year='freshman')\n",
    "# this works well (2) because there are default values for the other two arguments\n",
    "add_new_student('Great', 'Student')\n",
    "# this works well (3) because it modifies one of the arguments\n",
    "add_new_student('Great', 'Student', student_year='junior')\n",
    "# this fails well (4) because it's missing one argument\n",
    "add_new_student('Great')"
   ],
   "metadata": {
    "collapsed": false
   }
  },
  {
   "cell_type": "markdown",
   "source": [
    ":::{note}\n",
    "It's important to note that when using keyword arguments, all the **positional arguments** must come before the **keyword arguments**. For example, in the function call add_new_student('Great', 'Student', university='Mississippi State University', student_year='freshman'), \"Great\" is a positional argument, while student_year='freshman' is a keyword argument.\n",
    ":::"
   ],
   "metadata": {
    "collapsed": false
   }
  },
  {
   "cell_type": "markdown",
   "source": [
    "Another example:"
   ],
   "metadata": {
    "collapsed": false
   }
  },
  {
   "cell_type": "code",
   "execution_count": null,
   "outputs": [],
   "source": [
    "def add_numbers( a = 7,  b = 8):\n",
    "    sum = a + b\n",
    "    print('Sum:', sum)\n",
    "\n",
    "# function call with two arguments\n",
    "add_numbers(2, 3)\n",
    "\n",
    "#  function call with one argument\n",
    "add_numbers(a = 2)\n",
    "\n",
    "# function call with no arguments\n",
    "add_numbers()"
   ],
   "metadata": {
    "collapsed": false
   }
  },
  {
   "cell_type": "markdown",
   "source": [
    "## <span style=\"color:black;\">Function With Arbitrary Arguments</span>\n",
    "\n",
    "In few cases, we are not sure how many arguments will be passed into a function, and the **arbitrary arguments** provide the flexibility to pass a varying number of values during a function call.\n",
    "The asterisk (*) before the parameter name will denote the arbitrary argument, and the function will accept an arbitrary number of positional arguments, and they will be organized into a tuple within the function."
   ],
   "metadata": {
    "collapsed": false
   }
  },
  {
   "cell_type": "code",
   "execution_count": null,
   "outputs": [],
   "source": [
    "def sum_numbers(*args):\n",
    "    total = 0\n",
    "    print(type(args))\n",
    "    for num in args:\n",
    "        total += num\n",
    "    return total\n",
    "\n",
    "result = sum_numbers(1, 2, 3, 4, 5)\n",
    "print(result)  # Output: 15\n",
    "\n",
    "result = sum_numbers(10, 20)\n",
    "print(result)  # Output: 30"
   ],
   "metadata": {
    "collapsed": false
   }
  },
  {
   "cell_type": "markdown",
   "source": [
    "Another option for arbitrary arguments is the **arbitrary keyword arguments** using **kwargs. The **kwargs parameter is more structured and uses the keyword arguments to build a dictionary within the function (i.e., keys are the argument names and the values are the corresponding argument values)."
   ],
   "metadata": {
    "collapsed": false
   }
  },
  {
   "cell_type": "code",
   "execution_count": null,
   "outputs": [],
   "source": [
    "def display_info(**kwargs):\n",
    "    for key, value in kwargs.items():\n",
    "        print(key + \": \" + str(value))\n",
    "\n",
    "display_info(first_name=\"Vitor\", last_name=\"Martins\", university=\"Mississippi State University\", role='faculty')"
   ],
   "metadata": {
    "collapsed": false
   }
  },
  {
   "cell_type": "markdown",
   "source": [
    "Lastly, *args and **kwargs can be used together in the function, so you will have both positional and keyword arguments arbitrarily."
   ],
   "metadata": {
    "collapsed": false
   }
  },
  {
   "cell_type": "code",
   "execution_count": null,
   "outputs": [],
   "source": [
    "def random_function(*args, **kwargs):\n",
    "    for arg in args:\n",
    "        print(arg)\n",
    "    for key, value in kwargs.items():\n",
    "        print(key, value)\n",
    "\n",
    "random_function(1, 2, 3, name='Vitor', role='faculty', university='MSU')"
   ],
   "metadata": {
    "collapsed": false
   }
  }
 ],
 "metadata": {
  "kernelspec": {
   "display_name": "Python 3 (ipykernel)",
   "language": "python",
   "name": "python3"
  },
  "language_info": {
   "codemirror_mode": {
    "name": "ipython",
    "version": 3
   },
   "file_extension": ".py",
   "mimetype": "text/x-python",
   "name": "python",
   "nbconvert_exporter": "python",
   "pygments_lexer": "ipython3",
   "version": "3.7.16"
  },
  "toc": {
   "base_numbering": 1,
   "nav_menu": {},
   "number_sections": false,
   "sideBar": true,
   "skip_h1_title": false,
   "title_cell": "Table of Contents",
   "title_sidebar": "Contents",
   "toc_cell": false,
   "toc_position": {},
   "toc_section_display": true,
   "toc_window_display": false
  }
 },
 "nbformat": 4,
 "nbformat_minor": 4
}
