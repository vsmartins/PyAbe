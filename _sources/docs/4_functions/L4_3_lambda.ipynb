{
 "cells": [
  {
   "cell_type": "markdown",
   "source": [
    "# <span style=\"color:black;\">Lambda Function</span>\n",
    "\n",
    "## <span style=\"color:black;\">Overview</span>\n",
    "\n",
    "A lambda function is known as an anonymous function, and is another concise way to create a function without `def` statement. The lambda functions were proposed to generate a direct, one line operations, and\n",
    "are defined using the `lambda` keyword\n",
    "\n",
    "General syntax\n",
    "```python\n",
    "my_function = lambda arguments: expression\n",
    "```\n",
    "\n",
    "## <span style=\"color:black;\">Examples</span>"
   ],
   "metadata": {
    "collapsed": false
   }
  },
  {
   "cell_type": "code",
   "execution_count": null,
   "outputs": [],
   "source": [
    "multiply = lambda x, y: x * y\n",
    "result = multiply(5, 3)\n",
    "print(result)  # Output: 15"
   ],
   "metadata": {
    "collapsed": false
   }
  },
  {
   "cell_type": "markdown",
   "source": [
    "## Python lambda Function with an Argument\n",
    "\n",
    "Similar to normal functions, the lambda function can also accept arguments. For example:"
   ],
   "metadata": {
    "collapsed": false
   }
  },
  {
   "cell_type": "code",
   "execution_count": null,
   "outputs": [],
   "source": [
    "# lambda that accepts one argument\n",
    "student_user = lambda major : print('My major is ', major)\n",
    "\n",
    "# lambda call\n",
    "student_user('ABE')"
   ],
   "metadata": {
    "collapsed": false
   }
  }
 ],
 "metadata": {
  "kernelspec": {
   "display_name": "Python 3 (ipykernel)",
   "language": "python",
   "name": "python3"
  },
  "language_info": {
   "codemirror_mode": {
    "name": "ipython",
    "version": 3
   },
   "file_extension": ".py",
   "mimetype": "text/x-python",
   "name": "python",
   "nbconvert_exporter": "python",
   "pygments_lexer": "ipython3",
   "version": "3.7.16"
  },
  "toc": {
   "base_numbering": 1,
   "nav_menu": {},
   "number_sections": false,
   "sideBar": true,
   "skip_h1_title": false,
   "title_cell": "Table of Contents",
   "title_sidebar": "Contents",
   "toc_cell": false,
   "toc_position": {},
   "toc_section_display": true,
   "toc_window_display": false
  }
 },
 "nbformat": 4,
 "nbformat_minor": 4
}
