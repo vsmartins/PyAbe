{
 "cells": [
  {
   "cell_type": "markdown",
   "source": [
    "# Lambda/Anonymous Function\n",
    "\n",
    "## Overview\n",
    "\n",
    "In Python, a lambda function, also known as an anonymous function, is a small and concise function that doesn't require a formal def statement. Lambda functions are defined using the lambda keyword and are typically used for simple, one-line operations.\n",
    "\n",
    "Lambda functions are often used in situations where a small function is needed for a specific purpose and doesn't need to be defined separately using def. They are commonly used in conjunction with built-in functions like map(), filter(), and reduce(), which expect a function as one of their arguments.\n",
    "\n",
    "Lambda functions provide a concise way to define small, one-line functions without the need for a formal function definition. They are particularly useful in situations where a function is required temporarily or for simple operations. However, they may not be suitable for complex logic or functions that require multiple statements.\n",
    "\n",
    "\n",
    ":::{note} general syntax\n",
    "lambda arguments: expression\n",
    ":::\n"
   ],
   "metadata": {
    "collapsed": false
   }
  },
  {
   "cell_type": "code",
   "execution_count": null,
   "outputs": [],
   "source": [
    "multiply = lambda x, y: x * y\n",
    "result = multiply(5, 3)\n",
    "print(result)  # Output: 15\n",
    "\n",
    "\n",
    "numbers = [1, 2, 3, 4, 5]\n",
    "squared = list(map(lambda x: x ** 2, numbers))\n",
    "print(squared)  # Output: [1, 4, 9, 16, 25]"
   ],
   "metadata": {
    "collapsed": false
   }
  },
  {
   "cell_type": "markdown",
   "source": [
    "In this example, the lambda function lambda x: x ** 2 is used within the map() function to calculate the square of each element in the numbers list. The resulting squares are collected and converted into a new list.\n",
    "\n",
    "## Python lambda Function with an Argument\n",
    "\n",
    "Similar to normal functions, the lambda function can also accept arguments. For example,"
   ],
   "metadata": {
    "collapsed": false
   }
  },
  {
   "cell_type": "code",
   "execution_count": null,
   "outputs": [],
   "source": [
    "# lambda that accepts one argument\n",
    "greet_user = lambda name : print('Hey there,', name)\n",
    "\n",
    "# lambda call\n",
    "greet_user('Delilah')\n",
    "\n",
    "# Output: Hey there, Delilah"
   ],
   "metadata": {
    "collapsed": false
   }
  }
 ],
 "metadata": {
  "kernelspec": {
   "display_name": "Python 3 (ipykernel)",
   "language": "python",
   "name": "python3"
  },
  "language_info": {
   "codemirror_mode": {
    "name": "ipython",
    "version": 3
   },
   "file_extension": ".py",
   "mimetype": "text/x-python",
   "name": "python",
   "nbconvert_exporter": "python",
   "pygments_lexer": "ipython3",
   "version": "3.7.16"
  },
  "toc": {
   "base_numbering": 1,
   "nav_menu": {},
   "number_sections": false,
   "sideBar": true,
   "skip_h1_title": false,
   "title_cell": "Table of Contents",
   "title_sidebar": "Contents",
   "toc_cell": false,
   "toc_position": {},
   "toc_section_display": true,
   "toc_window_display": false
  }
 },
 "nbformat": 4,
 "nbformat_minor": 4
}
