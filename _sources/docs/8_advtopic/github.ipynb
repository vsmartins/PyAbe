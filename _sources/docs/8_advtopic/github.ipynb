{
 "cells": [
  {
   "cell_type": "markdown",
   "source": [
    "# <span style=\"color:black;\">Git & GitHub</span>\n",
    "\n",
    "Git is a popular version control system for developers to manage and collaborate on code. It runs on the command line or Anaconda Prompt.\n",
    "\n",
    "Terms:\n",
    "\n",
    "| Term         | Description                                                                           |\n",
    "|--------------|---------------------------------------------------------------------------------------|\n",
    "| git          | A command line program used to track file changes and collaborate on code with others. |\n",
    "| repo         | A repository is a directory and its contents.                 |\n",
    "| local repo   | A directory and its contents on your computer that git knows about.                   |\n",
    "| remote repo  | A directory and its contents stored in the cloud that git knows about.                |\n",
    "\n",
    "Options:\n",
    "\n",
    "| Command                                      | Description                                                        |\n",
    "|----------------------------------------------|--------------------------------------------------------------------|\n",
    "| `git clone https://github.com/user/repo.git` | Copy a remote repo from GitHub.com into a local directory.         |\n",
    "| `git init`                                   | Create a new local repo in the current folder.                     |\n",
    "| `git remote add origin https://github.com/user/repo.git` | Link a local repo to a remote repo on GitHub.com.              |\n",
    "| `git add .`                                  | Add all files and changes to the local repo.                       |\n",
    "| `git commit -m \"commit message\"`             | Commit the changes in the local repo with the message \"commit message\". |\n",
    "| `git push origin master`                     | Push local changes up to the remote repo.                          |\n",
    "| `git pull origin master`                     | Pull down the version in the remote repo into the local repo.      |\n"
   ],
   "metadata": {
    "collapsed": false
   }
  }
 ],
 "metadata": {
  "kernelspec": {
   "display_name": "Python 3 (ipykernel)",
   "language": "python",
   "name": "python3"
  },
  "language_info": {
   "codemirror_mode": {
    "name": "ipython",
    "version": 3
   },
   "file_extension": ".py",
   "mimetype": "text/x-python",
   "name": "python",
   "nbconvert_exporter": "python",
   "pygments_lexer": "ipython3",
   "version": "3.7.16"
  },
  "toc": {
   "base_numbering": 1,
   "nav_menu": {},
   "number_sections": false,
   "sideBar": true,
   "skip_h1_title": false,
   "title_cell": "Table of Contents",
   "title_sidebar": "Contents",
   "toc_cell": false,
   "toc_position": {},
   "toc_section_display": true,
   "toc_window_display": false
  }
 },
 "nbformat": 4,
 "nbformat_minor": 4
}
