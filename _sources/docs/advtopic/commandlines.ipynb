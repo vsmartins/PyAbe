{
 "cells": [
  {
   "cell_type": "markdown",
   "source": [
    "# Command line interface\n",
    "\n",
    "In Python, the command line refers to the interface through which you can interact with the Python interpreter or execute Python scripts directly from the terminal or command prompt.\n",
    "\n",
    "The command line allows you to run Python code, execute scripts, and interactively work with the Python interpreter in a text-based environment. It provides a way to communicate with Python and give instructions or provide input directly through text commands.\n",
    "\n",
    "1. Running Scripts: You can execute Python scripts by typing the command python followed by the script name in the command line. For example\n",
    "\n",
    "$ python myscript.py\n",
    "\n",
    "\n",
    "Command Line Arguments:\n",
    "You can pass command line arguments to Python scripts. These arguments can be accessed within the script using the sys.argv list, where sys is a module in the Python standard library. Command line arguments can be used to provide inputs or configuration options to the script.\n",
    "\n",
    "$ python myscript.py arg1 arg2 arg3\n",
    "\n",
    "Create a python script file called myscript.py in the same directory as this script. And type the following command line:"
   ],
   "metadata": {
    "collapsed": false
   }
  },
  {
   "cell_type": "code",
   "execution_count": null,
   "outputs": [],
   "source": [
    "import sys\n",
    "\n",
    "# Check if the script is provided with command line arguments\n",
    "if len(sys.argv) > 1:\n",
    "    # Access and print the command line arguments\n",
    "    for arg in sys.argv[1:]:\n",
    "        print(arg)\n",
    "else:\n",
    "    print(\"No command line arguments provided.\")"
   ],
   "metadata": {
    "collapsed": false
   }
  },
  {
   "cell_type": "markdown",
   "source": [
    "Open the command line windows and type:\n",
    "\n",
    "$ python myscript.py arg1 arg2 arg3\n",
    "\n",
    "Another example of arguments:"
   ],
   "metadata": {
    "collapsed": false
   }
  },
  {
   "cell_type": "code",
   "execution_count": null,
   "outputs": [],
   "source": [
    "import sys\n",
    "\n",
    "if len(sys.argv) != 4:\n",
    "    print(\"Usage: python myscript.py <num1> <operator> <num2>\")\n",
    "    sys.exit()\n",
    "\n",
    "num1 = float(sys.argv[1])\n",
    "operator = sys.argv[2]\n",
    "num2 = float(sys.argv[3])\n",
    "\n",
    "if operator == \"+\":\n",
    "    result = num1 + num2\n",
    "elif operator == \"-\":\n",
    "    result = num1 - num2\n",
    "elif operator == \"*\":\n",
    "    result = num1 * num2\n",
    "elif operator == \"/\":\n",
    "    result = num1 / num2\n",
    "else:\n",
    "    print(\"Invalid operator provided.\")\n",
    "    sys.exit()\n",
    "\n",
    "print(f\"{num1} {operator} {num2} = {result}\")"
   ],
   "metadata": {
    "collapsed": false
   }
  }
 ],
 "metadata": {
  "kernelspec": {
   "display_name": "Python 3 (ipykernel)",
   "language": "python",
   "name": "python3"
  },
  "language_info": {
   "codemirror_mode": {
    "name": "ipython",
    "version": 3
   },
   "file_extension": ".py",
   "mimetype": "text/x-python",
   "name": "python",
   "nbconvert_exporter": "python",
   "pygments_lexer": "ipython3",
   "version": "3.7.16"
  },
  "toc": {
   "base_numbering": 1,
   "nav_menu": {},
   "number_sections": false,
   "sideBar": true,
   "skip_h1_title": false,
   "title_cell": "Table of Contents",
   "title_sidebar": "Contents",
   "toc_cell": false,
   "toc_position": {},
   "toc_section_display": true,
   "toc_window_display": false
  }
 },
 "nbformat": 4,
 "nbformat_minor": 4
}
