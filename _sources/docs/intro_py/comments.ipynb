{
 "cells": [
  {
   "cell_type": "markdown",
   "source": [
    "(file-types:notebooks)=\n",
    "# Comments\n",
    "\n",
    "# Simple comment\n",
    "\n",
    "In Python, comments are lines of code that are ignored by the interpreter and are used to provide explanatory or descriptive information about the code. They are intended for human readers to understand the code better and are not executed as part of the program. Detailed comments can be used to provide explanations, document code, make notes, or temporarily disable:\n",
    "\n",
    "* Comments start with the # character and extend to the end of the line. Anything after the # symbol is treated as a comment and is ignored by the interpreter.\n",
    "* Comments can be placed on a line of their own or at the end of a line of code.\n",
    "* Comments can be used to provide explanations, document code, make notes, or temporarily disable code without deleting it.\n",
    "* Comments can be written in plain English or any language you prefer. They are not limited to the English language.\n",
    "* Comments do not impact the execution of the program and are typically used to improve code readability and maintainability.\n"
   ],
   "metadata": {
    "collapsed": false
   }
  },
  {
   "cell_type": "code",
   "execution_count": null,
   "outputs": [],
   "source": [
    "# This is a comment explaining the purpose of the following code\n",
    "\n",
    "x = 5  # Assigning a value to the variable x\n",
    "\n",
    "# This code calculates the sum of two numbers\n",
    "result = 10 + 5\n",
    "\n",
    "# print(\"Hello, World!\")  # This line is commented out and won't be executed\n"
   ],
   "metadata": {
    "collapsed": false
   }
  },
  {
   "cell_type": "markdown",
   "source": [
    "## Multiline comments\n",
    "\n",
    "In Python, multiline comments, also known as block comments or docstrings, are used to provide longer descriptions, explanations, or documentation for functions, classes, modules, or entire programs. Unlike single-line comments that start with the # symbol, multiline comments span multiple lines and have a specific format.\n",
    "\n",
    "There are two common ways to create multiline comments in Python:\n",
    "\n",
    "1. Using triple quotes (\"\"\" or '''):\n",
    "\n",
    "* Multiline comments are created by enclosing the comment text within triple double quotes (\"\"\").\n",
    "\n",
    "* The opening and closing triple quotes must be on separate lines, and the comment text can span multiple lines in between.\n",
    "\n",
    "Here's an example:"
   ],
   "metadata": {
    "collapsed": false
   }
  },
  {
   "cell_type": "code",
   "execution_count": null,
   "outputs": [],
   "source": [
    "\"\"\"\n",
    "This is a multiline comment or docstring.\n",
    "It can span multiple lines and is typically used\n",
    "to provide documentation for functions, classes, or modules.\n",
    "\"\"\""
   ],
   "metadata": {
    "collapsed": false
   }
  },
  {
   "cell_type": "markdown",
   "source": [
    "2. Using the # symbol on each line:\n",
    "\n",
    "* Another way to create a multiline comment is by using the # symbol at the beginning of each line.\n",
    "\n",
    "* Although this method consists of multiple single-line comments, when consecutive lines start with #, they are visually treated as a single multiline comment.\n",
    "\n",
    "Here's an example:"
   ],
   "metadata": {
    "collapsed": false
   }
  },
  {
   "cell_type": "code",
   "execution_count": null,
   "outputs": [],
   "source": [
    "# This is a multiline comment or docstring.\n",
    "# It can span multiple lines and is typically used\n",
    "# to provide documentation for functions, classes, or modules."
   ],
   "metadata": {
    "collapsed": false
   }
  }
 ],
 "metadata": {
  "kernelspec": {
   "display_name": "Python 3 (ipykernel)",
   "language": "python",
   "name": "python3"
  },
  "language_info": {
   "codemirror_mode": {
    "name": "ipython",
    "version": 3
   },
   "file_extension": ".py",
   "mimetype": "text/x-python",
   "name": "python",
   "nbconvert_exporter": "python",
   "pygments_lexer": "ipython3",
   "version": "3.7.16"
  },
  "toc": {
   "base_numbering": 1,
   "nav_menu": {},
   "number_sections": false,
   "sideBar": true,
   "skip_h1_title": false,
   "title_cell": "Table of Contents",
   "title_sidebar": "Contents",
   "toc_cell": false,
   "toc_position": {},
   "toc_section_display": true,
   "toc_window_display": false
  }
 },
 "nbformat": 4,
 "nbformat_minor": 4
}
