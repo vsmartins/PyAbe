{
 "cells": [
  {
   "cell_type": "markdown",
   "source": [
    "(file-types:notebooks)=\n",
    "# Variables\n",
    "\n",
    "Variables are used to store data values and give them a name or label. Variables act as containers that hold information that can be referenced and manipulated throughout a program.\n",
    "\n",
    "Creating a variable involves choosing a name for the variable and assigning a value to it using the assignment operator (=).\n",
    "\n",
    "Variables can store various types of data, such as numbers, strings, lists, or even more complex objects.\n",
    "\n",
    "Variables in Python are dynamically typed, meaning you don't need to explicitly declare the type of a variable. The type is determined automatically based on the value assigned to it.\n",
    "\n",
    "\n",
    "## Variable names\n",
    "\n",
    "Variable names in Python must follow certain rules:\n",
    "* They can contain letters (a-z, A-Z), digits (0-9), and underscores (_).\n",
    "* They cannot start with a digit.\n",
    "* They are case-sensitive, so myVariable and myvariable would be considered different variables.\n",
    "* It's good practice to use descriptive and meaningful names for variables to enhance code readability.\n",
    "\n",
    "You can access the value of a variable by simply referring to its name in your code.\n",
    "\n",
    "## Assigning values to variables\n",
    "\n",
    "Let's assign a value to a variable:"
   ],
   "metadata": {
    "collapsed": false
   }
  },
  {
   "cell_type": "code",
   "execution_count": null,
   "outputs": [],
   "source": [
    "# Creating variables and assigning values\n",
    "name = \"John\"\n",
    "age = 25\n",
    "height = 1.75\n",
    "is_student = True\n",
    "\n",
    "# Accessing and using variable values\n",
    "print(\"Name:\", name)\n",
    "print(\"Age:\", age)\n",
    "print(\"Height:\", height)\n",
    "print(\"Is Student:\", is_student)\n",
    "\n",
    "# Modifying variable values\n",
    "age = age + 1\n",
    "height = height * 2\n",
    "\n",
    "# Updated values\n",
    "print(\"Updated Age:\", age)\n",
    "print(\"Updated Height:\", height)"
   ],
   "metadata": {
    "collapsed": false
   }
  },
  {
   "cell_type": "markdown",
   "source": [
    "## Find the type\n",
    "\n",
    "To find the type of a variable in Python, you can use the built-in type() function. The type() function returns the type of the object passed as an argument."
   ],
   "metadata": {
    "collapsed": false
   }
  },
  {
   "cell_type": "code",
   "execution_count": null,
   "outputs": [],
   "source": [
    "# Define variables\n",
    "name = \"John\"\n",
    "age = 25\n",
    "height = 1.75\n",
    "is_student = True\n",
    "\n",
    "# Find the type of each variable\n",
    "print(type(name))       # <class 'str'>\n",
    "print(type(age))        # <class 'int'>\n",
    "print(type(height))     # <class 'float'>\n",
    "print(type(is_student)) # <class 'bool'>"
   ],
   "metadata": {
    "collapsed": false
   }
  },
  {
   "cell_type": "markdown",
   "source": [
    "By using type(), you can dynamically check the type of variables at runtime, which can be useful for debugging, conditional execution, or ensuring data integrity in your program.\n",
    "\n",
    "\n",
    "## Multiple values\n",
    "\n",
    "In Python, you can assign multiple values to multiple variables simultaneously using multiple assignment or unpacking.\n",
    "\n",
    "You can assign multiple values to multiple variables in a single line by separating the values with commas and the variables on the left side of the assignment operator (=)."
   ],
   "metadata": {
    "collapsed": false
   }
  },
  {
   "cell_type": "code",
   "execution_count": null,
   "outputs": [],
   "source": [
    "# Multiple assignment\n",
    "name, age, height = \"John\", 25, 1.75"
   ],
   "metadata": {
    "collapsed": false
   }
  },
  {
   "cell_type": "markdown",
   "source": [
    "## Unpacking values\n",
    "\n",
    "You can assign multiple values from an iterable (like a list or tuple) to multiple variables using unpacking. The number of variables on the left side of the assignment operator should match the number of values in the iterable."
   ],
   "metadata": {
    "collapsed": false
   }
  },
  {
   "cell_type": "code",
   "execution_count": null,
   "outputs": [],
   "source": [
    "# Unpacking\n",
    "values = (\"John\", 25, 1.75)\n",
    "name, age, height = values"
   ],
   "metadata": {
    "collapsed": false
   }
  },
  {
   "cell_type": "markdown",
   "source": [
    "These techniques allow you to assign multiple values to multiple variables in a concise and efficient manner, making your code more readable and reducing the number of lines needed for assignment."
   ],
   "metadata": {
    "collapsed": false
   }
  }
 ],
 "metadata": {
  "kernelspec": {
   "display_name": "Python 3 (ipykernel)",
   "language": "python",
   "name": "python3"
  },
  "language_info": {
   "codemirror_mode": {
    "name": "ipython",
    "version": 3
   },
   "file_extension": ".py",
   "mimetype": "text/x-python",
   "name": "python",
   "nbconvert_exporter": "python",
   "pygments_lexer": "ipython3",
   "version": "3.7.16"
  },
  "toc": {
   "base_numbering": 1,
   "nav_menu": {},
   "number_sections": false,
   "sideBar": true,
   "skip_h1_title": false,
   "title_cell": "Table of Contents",
   "title_sidebar": "Contents",
   "toc_cell": false,
   "toc_position": {},
   "toc_section_display": true,
   "toc_window_display": false
  }
 },
 "nbformat": 4,
 "nbformat_minor": 4
}
