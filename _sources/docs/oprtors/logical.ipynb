{
 "cells": [
  {
   "cell_type": "markdown",
   "source": [
    "# Logical Operators\n",
    "\n",
    "## Overview\n",
    "In Python, logical assignment operators are used to combine logical operations with assignment in a concise way. These operators perform a logical operation between two operands and assign the result back to the left operand.\n",
    "\n",
    "| Operation | Operator | Definition|\n",
    "|----------| ---------- | ---------- |\n",
    "| Logical `AND` | `and`  | Assign True only if both operands are valid  |\n",
    "| Logical `OR`| `or`   | Assign True if at least one of the operands is valid  |\n",
    "| Logical `NOT` | `not`   | Assign True if the operand is not valid  |\n",
    "\n",
    "\n",
    "## Examples"
   ],
   "metadata": {
    "collapsed": false
   }
  },
  {
   "cell_type": "code",
   "execution_count": null,
   "metadata": {
    "tags": [
     "popout",
     "remove-input",
     "remove-stdout"
    ]
   },
   "outputs": [],
   "source": [
    "# logical AND\n",
    "print(True and True)     # True\n",
    "print(True and False)    # False\n",
    "a = 1\n",
    "b = 2\n",
    "logical_and = (a == 1) and (b == 2)\n",
    "print(logical_and)        # True\n",
    "\n",
    "# logical OR\n",
    "print(True or False)     # True\n",
    "logical_or = (a == 10) or (b == 2)\n",
    "print(logical_and)        # True\n",
    "\n",
    "# logical NOT\n",
    "print(not True)          # False\n",
    "logical_not = not (a == 10)\n",
    "print(logical_not)        # True"
   ]
  }
 ],
 "metadata": {
  "kernelspec": {
   "display_name": "Python 3 (ipykernel)",
   "language": "python",
   "name": "python3"
  },
  "language_info": {
   "codemirror_mode": {
    "name": "ipython",
    "version": 3
   },
   "file_extension": ".py",
   "mimetype": "text/x-python",
   "name": "python",
   "nbconvert_exporter": "python",
   "pygments_lexer": "ipython3",
   "version": "3.7.16"
  },
  "toc": {
   "base_numbering": 1,
   "nav_menu": {},
   "number_sections": false,
   "sideBar": true,
   "skip_h1_title": false,
   "title_cell": "Table of Contents",
   "title_sidebar": "Contents",
   "toc_cell": false,
   "toc_position": {},
   "toc_section_display": true,
   "toc_window_display": false
  }
 },
 "nbformat": 4,
 "nbformat_minor": 4
}
