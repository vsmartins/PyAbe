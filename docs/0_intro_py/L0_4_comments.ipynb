{
 "cells": [
  {
   "cell_type": "markdown",
   "source": [
    "# <span style=\"color:black;\">Comments</span>\n",
    "## <span style=\"color:black;\">Overview</span>\n",
    "\n",
    "Comments are lines that explain the code steps, and are not executed by the Python interpreter. A good set of comments can make a huge difference in\n",
    "the code interpretation and debugging.\n",
    "Tips:\n",
    "- Comments start with the # character and extend to the end of the line\n",
    "- Comments are ignored by the interpreter and do not impact the execution of the program\n",
    "- Comments can be placed at the end of a line of code\n",
    "- Comments are not limited to the English language."
   ],
   "metadata": {
    "collapsed": false
   }
  },
  {
   "cell_type": "code",
   "execution_count": null,
   "outputs": [],
   "source": [
    "# This is a comment explaining the purpose of the following code\n",
    "x = 5  # Assigning a value to the variable x\n",
    "print(x)\n",
    "\n",
    "# This code calculates the sum of two numbers\n",
    "result = 10 + 5\n",
    "print(result)\n",
    "\n",
    "# print(\"Hello, World!\")  # This line is commented out and won't be executed\n",
    "\n",
    "print(\"Hello, World!\")  # This line is commented out and won't be executed"
   ],
   "metadata": {
    "collapsed": false
   }
  },
  {
   "cell_type": "markdown",
   "source": [
    "## <span style=\"color:black;\">Multiline comments</span>\n",
    "\n",
    "Multiline comments, also known as block comments or docstrings, are used to provide longer descriptions for functions, classes, modules, or entire programs. Unlike single-line comments, there are two common ways to create multiline comments in Python:\n",
    "- Using triple quotes (`\"\"\"` or `'''`):\n",
    "- The opening and closing triple quotes must be on separate lines, and the comment text can span multiple lines in between."
   ],
   "metadata": {
    "collapsed": false
   }
  },
  {
   "cell_type": "markdown",
   "source": [
    "```python >>> auto\n",
    "\"\"\"\n",
    "This is a multiline comment or docstring.\n",
    "Multiple lines are typically used to provide longer documentation.\n",
    "\"\"\"\n",
    "```"
   ],
   "metadata": {
    "collapsed": false
   }
  },
  {
   "cell_type": "markdown",
   "source": [
    "Another way to create a multiline comment is by using the # symbol at the beginning of each line."
   ],
   "metadata": {
    "collapsed": false
   }
  },
  {
   "cell_type": "code",
   "execution_count": null,
   "outputs": [],
   "source": [
    "# This is a multiline comment or docstring.\n",
    "# It can span multiple lines and is typically used\n",
    "# to provide documentation for functions, classes, or modules."
   ],
   "metadata": {
    "collapsed": false
   }
  }
 ],
 "metadata": {
  "kernelspec": {
   "display_name": "Python 3 (ipykernel)",
   "language": "python",
   "name": "python3"
  },
  "language_info": {
   "codemirror_mode": {
    "name": "ipython",
    "version": 3
   },
   "file_extension": ".py",
   "mimetype": "text/x-python",
   "name": "python",
   "nbconvert_exporter": "python",
   "pygments_lexer": "ipython3",
   "version": "3.7.16"
  },
  "toc": {
   "base_numbering": 1,
   "nav_menu": {},
   "number_sections": false,
   "sideBar": true,
   "skip_h1_title": false,
   "title_cell": "Table of Contents",
   "title_sidebar": "Contents",
   "toc_cell": false,
   "toc_position": {},
   "toc_section_display": true,
   "toc_window_display": false
  }
 },
 "nbformat": 4,
 "nbformat_minor": 4
}
