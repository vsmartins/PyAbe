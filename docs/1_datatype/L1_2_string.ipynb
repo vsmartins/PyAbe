{
 "cells": [
  {
   "cell_type": "markdown",
   "source": [
    "# <span style=\"color:black;\">Strings</span>\n",
    "## <span style=\"color:black;\">Overview</span>\n",
    "\n",
    "String is a fundamental data type used to represent text, and can contain letters, numbers, symbols, and special characters. A string is a sequence of characters enclosed in either single quotes (') or double quotes (\"). They can be used to store and represent textual information, such as names, file paths, and more.\n",
    "\n",
    "**Examples:**"
   ],
   "metadata": {
    "collapsed": false
   }
  },
  {
   "cell_type": "code",
   "execution_count": null,
   "outputs": [],
   "source": [
    "name = \"earth\"\n",
    "message = 'ABE for Earth Science'\n",
    "address = \"130 Creelman street\"\n",
    "path2dir = 'C:\\\\projects\\\\myproject'"
   ],
   "metadata": {
    "collapsed": false
   }
  },
  {
   "cell_type": "markdown",
   "source": [
    "Strings are immutable (i.e., they cannot be changed once they are created), but several operations are available, including concatenation, slicing, formatting, and more."
   ],
   "metadata": {
    "collapsed": false
   }
  },
  {
   "cell_type": "markdown",
   "source": [
    "- **Concatenation**"
   ],
   "metadata": {
    "collapsed": false
   }
  },
  {
   "cell_type": "code",
   "execution_count": null,
   "outputs": [],
   "source": [
    "word1 = \"Earth\"\n",
    "word2 = \"Science\"\n",
    "concatenate = word1 + \" \" + word2\n",
    "print(concatenate)\n"
   ],
   "metadata": {
    "collapsed": false
   }
  },
  {
   "cell_type": "markdown",
   "source": [
    "- **Slicing**: This is useful to extract parts of string"
   ],
   "metadata": {
    "collapsed": false
   }
  },
  {
   "cell_type": "code",
   "execution_count": 2,
   "outputs": [
    {
     "name": "stdout",
     "output_type": "stream",
     "text": [
      "Scienc\n"
     ]
    }
   ],
   "source": [
    "# Slicing\n",
    "text = \"Earth Science!\"\n",
    "substring = text[6:13]\n",
    "print(substring)"
   ],
   "metadata": {
    "collapsed": false,
    "ExecuteTime": {
     "end_time": "2023-05-19T19:48:37.593468900Z",
     "start_time": "2023-05-19T19:48:37.583255400Z"
    }
   }
  },
  {
   "cell_type": "markdown",
   "source": [
    ":::{note}\n",
    "Slicing uses the following syntax:\n",
    "\n",
    "sequence[start:end:step]\n",
    "\n",
    "* Sequence is your variable name\n",
    "* Start and end are indices where the slice starts and ends, respectively. Python counts from zero, instead of 1.\n",
    "* Step is optional index that increments the step between indices\n",
    ":::"
   ],
   "metadata": {
    "collapsed": false
   }
  },
  {
   "cell_type": "code",
   "execution_count": null,
   "outputs": [],
   "source": [
    "text = \"Earth Science!\"\n",
    "print(text[0:5])"
   ],
   "metadata": {
    "collapsed": false
   }
  },
  {
   "cell_type": "code",
   "execution_count": null,
   "outputs": [],
   "source": [
    "# omitting the first index, and it will start from zero\n",
    "print(text[:5])"
   ],
   "metadata": {
    "collapsed": false
   }
  },
  {
   "cell_type": "code",
   "execution_count": null,
   "outputs": [],
   "source": [
    "# increment in 2\n",
    "print(text[0:5:2])"
   ],
   "metadata": {
    "collapsed": false
   }
  },
  {
   "cell_type": "code",
   "execution_count": null,
   "outputs": [],
   "source": [
    "# get the last five characters. Note the negative sign to count backwards\n",
    "print(text[:-5])"
   ],
   "metadata": {
    "collapsed": false
   }
  },
  {
   "cell_type": "markdown",
   "source": [
    "\n",
    "- **Formatting**: This is powerful way to modify system paths and filenames. The **\"f\"** prefix before the string allows you to directly *embed expressions inside* curly braces {} within the string. The **{expressions}** will be replaced with their corresponding values."
   ],
   "metadata": {
    "collapsed": false
   }
  },
  {
   "cell_type": "code",
   "execution_count": null,
   "outputs": [],
   "source": [
    "name= \"Vitor\"\n",
    "language='Python'\n",
    "info = f\"My name is {name} and I'm teaching {language}\"\n",
    "print(info)"
   ],
   "metadata": {
    "collapsed": false
   }
  },
  {
   "cell_type": "markdown",
   "source": [
    "## <span style=\"color:black;\">String Methods</span>\n",
    "A string method is like a function that acts on the created variable. If the variable *my_name* is a string, then the code my_name.lower() runs the `lower()` method on that string and returns the result (this idea is the foundation of Object-Oriented Programming).\n",
    "\n",
    "See the most common string methods:\n",
    "\n",
    "| **String methods**                                          | **Descriptions**                                                                                                                                               |\n",
    "|-------------------------------------------------------------|----------------------------------------------------------------------------------------------------------------------------------------------------------------|\n",
    "| `my_name.lower()`, `my_name.upper()`                        | returns the lowercase or uppercase version of the string                                                                                                       |\n",
    "| `my_name.strip()`                                           | returns a string with whitespace removed from the start and end                                                                                                |\n",
    "| `my_name.isalpha()`/`my_name.isdigit()`/`my_name.isspace()` | verifies if all the string chars are in the various character classes                                                                                          |\n",
    "| `my_name.startswith('other')`, `my_name.endswith('other')`  | verifies if the string starts or ends with the given other string                                                                                              |\n",
    "| `my_name.find('other')`                                     | searches for \"other\" within my_name, and returns the index where it begins or -1 if not found                                                                  |\n",
    "| `my_name.replace('old', 'new')`                             | returns a string where all occurrences of 'old' have been replaced by 'new'                                                                                    |\n",
    "| `my_name.split('delim')`                                    | returns a list of substrings separated by the given delimiter. The delimiter is not a regular expression, it's just text. 'aaa,bbb,ccc'.split(',') -> ['aaa', 'bbb', 'ccc']. |\n",
    "| `my_name.join(list)`                                        | opposite of split(), joins the elements in the given list together using the string as the delimiter. e.g. '---'.join(['aaa', 'bbb', 'ccc']) -> aaa---bbb---ccc|\n"
   ],
   "metadata": {
    "collapsed": false
   }
  },
  {
   "cell_type": "markdown",
   "source": [
    "Let's see the applications:\n",
    "\n",
    "`upper()`  | Converts a string to uppercase"
   ],
   "metadata": {
    "collapsed": false
   }
  },
  {
   "cell_type": "code",
   "execution_count": null,
   "outputs": [],
   "source": [
    "my_string = \"hello, world!\"\n",
    "print(my_string.upper())  # \"HELLO, WORLD!\""
   ],
   "metadata": {
    "collapsed": false
   }
  },
  {
   "cell_type": "markdown",
   "source": [
    "`lower()` - Converts a string to lowercase"
   ],
   "metadata": {
    "collapsed": false
   }
  },
  {
   "cell_type": "code",
   "execution_count": null,
   "outputs": [],
   "source": [
    "my_string = \"HELLO, WORLD!\"\n",
    "print(my_string.lower())  # \"hello, world!\""
   ],
   "metadata": {
    "collapsed": false
   }
  },
  {
   "cell_type": "markdown",
   "source": [
    "`capitalize()` - Capitalizes the first character of a string and converts the rest to lowercase"
   ],
   "metadata": {
    "collapsed": false
   }
  },
  {
   "cell_type": "code",
   "execution_count": null,
   "outputs": [],
   "source": [
    "my_string = \"hello, world!\"\n",
    "print(my_string.capitalize())  # \"Hello, world!\""
   ],
   "metadata": {
    "collapsed": false
   }
  },
  {
   "cell_type": "markdown",
   "source": [
    "`count(substring)` - Returns the number of occurrences of a substring in a string"
   ],
   "metadata": {
    "collapsed": false
   }
  },
  {
   "cell_type": "code",
   "execution_count": null,
   "outputs": [],
   "source": [
    "my_string = \"hello, hello, world!\"\n",
    "print(my_string.count(\"hello\"))  # 2"
   ],
   "metadata": {
    "collapsed": false
   }
  },
  {
   "cell_type": "markdown",
   "source": [
    "`startswith(prefix)` - Checks if a string starts with a specific prefix"
   ],
   "metadata": {
    "collapsed": false
   }
  },
  {
   "cell_type": "code",
   "execution_count": null,
   "outputs": [],
   "source": [
    "my_string = \"Hello, world!\"\n",
    "print(my_string.startswith(\"Hello\"))  # True"
   ],
   "metadata": {
    "collapsed": false
   }
  },
  {
   "cell_type": "markdown",
   "source": [
    "`endswith(suffix)` - Checks if a string ends with a specific suffix"
   ],
   "metadata": {
    "collapsed": false
   }
  },
  {
   "cell_type": "code",
   "execution_count": null,
   "outputs": [],
   "source": [
    "my_string = \"Hello, world!\"\n",
    "print(my_string.endswith(\"world!\"))  # True"
   ],
   "metadata": {
    "collapsed": false
   }
  },
  {
   "cell_type": "markdown",
   "source": [
    "`split(separator)` - Splits a string into a list of substrings based on a separator"
   ],
   "metadata": {
    "collapsed": false
   }
  },
  {
   "cell_type": "code",
   "execution_count": null,
   "outputs": [],
   "source": [
    "my_string = \"Hello, world!\"\n",
    "print(my_string.split(\", \"))  # [\"Hello\", \"world!\"]"
   ],
   "metadata": {
    "collapsed": false
   }
  },
  {
   "cell_type": "markdown",
   "source": [
    "`replace(old, new)` - Replaces occurrences of a substring with a new value"
   ],
   "metadata": {
    "collapsed": false
   }
  },
  {
   "cell_type": "code",
   "execution_count": null,
   "outputs": [],
   "source": [
    "my_string = \"Hello, world!\"\n",
    "print(my_string.replace(\"world\", \"Python\"))  # \"Hello, Python!\""
   ],
   "metadata": {
    "collapsed": false
   }
  },
  {
   "cell_type": "markdown",
   "source": [
    "`strip()` - Removes leading and trailing whitespace from a string"
   ],
   "metadata": {
    "collapsed": false
   }
  },
  {
   "cell_type": "code",
   "execution_count": null,
   "outputs": [],
   "source": [
    "my_string = \"   hello, world!   \"\n",
    "print(my_string.strip())  # \"hello, world!\""
   ],
   "metadata": {
    "collapsed": false
   }
  },
  {
   "cell_type": "markdown",
   "source": [
    "## <span style=\"color:black;\">Escaping characters</span>\n",
    "Escaping characters refers to special characters or symbols within a string that would be interpreted differently, such as quotes, newlines, tabs, and backslashes within a string.\n",
    "\n",
    "Most common escape sequences:\n",
    "- `\\\"`: Double quote\n",
    "* `\\'`: Single quote\n",
    "* `\\\\`: Backslash\n",
    "* `\\n`: Newline\n",
    "* `\\t`: Tab\n",
    "* `\\b`: Backspace\n",
    "* `\\r`: Carriage return\n",
    "\n",
    "Let's try:"
   ],
   "metadata": {
    "collapsed": false
   }
  },
  {
   "cell_type": "code",
   "execution_count": null,
   "outputs": [],
   "source": [
    "my_string = 'It's a brillant future!'"
   ],
   "metadata": {
    "collapsed": false
   }
  },
  {
   "cell_type": "code",
   "execution_count": null,
   "outputs": [],
   "source": [
    "my_string = 'It\\'s a brillant future!'\n",
    "print(my_string)"
   ],
   "metadata": {
    "collapsed": false
   }
  },
  {
   "cell_type": "markdown",
   "source": [
    "Alternatively, you can also use double-quotes if your string contains a single-quote."
   ],
   "metadata": {
    "collapsed": false
   }
  },
  {
   "cell_type": "code",
   "execution_count": null,
   "outputs": [],
   "source": [
    "my_string = \"It's a brillant future!\"\n",
    "print(my_string)"
   ],
   "metadata": {
    "collapsed": false
   }
  },
  {
   "cell_type": "markdown",
   "source": [
    ":::{note}\n",
    "If a string contains both single and double quotes, you can use triple quotes to ensure that the string is treated correctly. By enclosing the string within triple quotes (either triple single quotes ''' or triple double quotes \"\"\"), you can include both types of quotes without the need for escape sequences.\n",
    "```python\n",
    "latitude = '''30° 18' 07.2992\" N'''\n",
    "longitude = '''88° 39' 18.6692\" W'''\n",
    "print(latitude, longitude)\n",
    "```\n",
    ":::"
   ],
   "metadata": {
    "collapsed": false
   }
  },
  {
   "cell_type": "markdown",
   "source": [
    "## <span style=\"color:black;\">Operating System</span>"
   ],
   "metadata": {
    "collapsed": false
   }
  },
  {
   "cell_type": "markdown",
   "source": [
    ":::{important}\n",
    "Backslashes pose another problem when dealing with paths in OS Windows because the escaping characters are going to return the error for some paths\n",
    "\n",
    "```python\n",
    "path = 'C:\\Users\\udir'\n",
    "```\n",
    "\n",
    "To solve the issue, you can prefix a string with `r` or add `\\\\`:\n",
    "\n",
    "```python\n",
    "path = r'C:\\Users\\udir'\n",
    "\n",
    "path = 'C:\\\\Users\\\\udir'\n",
    "```\n",
    ":::"
   ],
   "metadata": {
    "collapsed": false
   }
  }
 ],
 "metadata": {
  "kernelspec": {
   "display_name": "Python 3 (ipykernel)",
   "language": "python",
   "name": "python3"
  },
  "language_info": {
   "codemirror_mode": {
    "name": "ipython",
    "version": 3
   },
   "file_extension": ".py",
   "mimetype": "text/x-python",
   "name": "python",
   "nbconvert_exporter": "python",
   "pygments_lexer": "ipython3",
   "version": "3.7.16"
  },
  "toc": {
   "base_numbering": 1,
   "nav_menu": {},
   "number_sections": false,
   "sideBar": true,
   "skip_h1_title": false,
   "title_cell": "Table of Contents",
   "title_sidebar": "Contents",
   "toc_cell": false,
   "toc_position": {},
   "toc_section_display": true,
   "toc_window_display": false
  }
 },
 "nbformat": 4,
 "nbformat_minor": 4
}
