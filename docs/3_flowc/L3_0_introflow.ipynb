{
 "cells": [
  {
   "cell_type": "markdown",
   "source": [
    "# <span style=\"color:black;\">Intro to Flow Control</span>\n",
    "\n",
    "Flow control and loops are primary concepts in programming, and support the repetition of code blocks multiple times (`for` and `while` loops) and control decisions in your code.\n",
    "\n",
    "The loops and flow control are defined by\n",
    "- `For` loop: this statement gives a loop interation over a sequence (e.g., list, string, and tuples), and execute a block of code each time with one element of this iterable object\n",
    "- `While` loop: this statement gives a loop in a block of code until a given condition is `False`\n",
    "- `If`/`else` flow control: these statements allow the execution of a block of code according to True/False conditions\n",
    "\n",
    "Let's discuss them!"
   ],
   "metadata": {
    "collapsed": false
   }
  },
  {
   "cell_type": "markdown",
   "source": [],
   "metadata": {
    "collapsed": false
   }
  }
 ],
 "metadata": {
  "kernelspec": {
   "display_name": "Python 3 (ipykernel)",
   "language": "python",
   "name": "python3"
  },
  "language_info": {
   "codemirror_mode": {
    "name": "ipython",
    "version": 3
   },
   "file_extension": ".py",
   "mimetype": "text/x-python",
   "name": "python",
   "nbconvert_exporter": "python",
   "pygments_lexer": "ipython3",
   "version": "3.7.16"
  },
  "toc": {
   "base_numbering": 1,
   "nav_menu": {},
   "number_sections": false,
   "sideBar": true,
   "skip_h1_title": false,
   "title_cell": "Table of Contents",
   "title_sidebar": "Contents",
   "toc_cell": false,
   "toc_position": {},
   "toc_section_display": true,
   "toc_window_display": false
  }
 },
 "nbformat": 4,
 "nbformat_minor": 4
}
