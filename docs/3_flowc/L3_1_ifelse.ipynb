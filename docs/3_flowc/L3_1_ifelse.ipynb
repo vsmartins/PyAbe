{
 "cells": [
  {
   "cell_type": "markdown",
   "source": [
    "# <span style=\"color:black;\">Intro to if</span>\n",
    "\n",
    "## <span style=\"color:black;\">IF</span>\n",
    "\n",
    "The `if` statement allows the execution of code when certain condition is met (`True`).\n",
    "\n",
    "**General syntax**\n",
    "```pyhton\n",
    " `if` condition:\n",
    "    # body of statement if the condition is True\n",
    "```\n",
    "\n",
    ":::{caution}\n",
    "Python uses indentation style (i.e., 4 spaces or tabs at the beginning of lines) to define the structure of code statements within loops, functions, and conditional statements\n",
    ":::\n",
    "\n",
    "## <span style=\"color:black;\">IF/ELSE</span>\n",
    "\n",
    "Additionally, you can use the `else` statement to specify an alternative block of code to be executed if the condition is `False`.\n",
    "\n",
    "**General syntax**\n",
    "```pyhton\n",
    "if condition:\n",
    "    # Statement to be executed if the condition is true\n",
    "else:\n",
    "    # Statement to be executed if the condition is false\n",
    "```\n",
    "\n",
    "## <span style=\"color:black;\">IF/ELSE/ELIF</span>\n",
    "\n",
    "You can also use multiple `elif` (i.e., \"else if\") statements to specify additional conditions to be checked. The `if`, `else`, and `elif` statements provide a way to control the flow based on specific conditions and executes different blocks, which makes your program more flexible on various situations.\n",
    "\n",
    "**General syntax**\n",
    "```pyhton\n",
    "if condition1:\n",
    "    # Statement to be executed if the condition1 is true\n",
    "elif condition2:\n",
    "    # Statement to be executed if the condition1 is False and condition2 is True\n",
    "else:\n",
    "    # Statement to be executed if all conditions are false\n",
    "```\n",
    "\n",
    "## <span style=\"color:black;\">Examples</span>"
   ],
   "metadata": {
    "collapsed": false
   }
  },
  {
   "cell_type": "code",
   "execution_count": null,
   "outputs": [],
   "source": [
    "# Example 1\n",
    "x = 10\n",
    "\n",
    "if x > 0:\n",
    "    print(\"x is positive\")\n",
    "else:\n",
    "    print(\"x is non-positive\")"
   ],
   "metadata": {
    "collapsed": false
   }
  },
  {
   "cell_type": "code",
   "execution_count": null,
   "outputs": [],
   "source": [
    "# Example 2\n",
    "x = 10\n",
    "\n",
    "if x > 0:\n",
    "    print(\"x is positive\")\n",
    "elif x < 0:\n",
    "    print(\"x is negative\")\n",
    "else:\n",
    "    print(\"x is zero\")"
   ],
   "metadata": {
    "collapsed": false
   }
  },
  {
   "cell_type": "markdown",
   "source": [
    "\n",
    "## <span style=\"color:black;\">Nested</span>\n",
    "\n",
    "`if` statements are placed within the code block of another `if` statement, and builds additional decision conditions within the block of code executed when the outer if statement's condition is true.\n",
    "\n",
    "**General syntax**\n",
    "```pyhton\n",
    "if condition1:\n",
    "    # Code to be executed if condition1 is true\n",
    "    if condition2:\n",
    "        # Code to be executed if both condition1 and condition2 are true\n",
    "    else:\n",
    "        # Code to be executed if condition1 is true but condition2 is false\n",
    "else:\n",
    "    # Code to be executed if condition1 is false\n",
    "```"
   ],
   "metadata": {
    "collapsed": false
   }
  },
  {
   "cell_type": "code",
   "execution_count": null,
   "outputs": [],
   "source": [
    "# Example 3\n",
    "number = 5\n",
    "\n",
    "# outer if statement\n",
    "if (number >= 0):\n",
    "    # inner if statement\n",
    "    if number == 0:\n",
    "        print('Number is 0')\n",
    "\n",
    "    # inner else statement\n",
    "    else:\n",
    "        print('Number is positive')\n",
    "\n",
    "# outer else statement\n",
    "else:\n",
    "    print('Number is negative')"
   ],
   "metadata": {
    "collapsed": false
   }
  }
 ],
 "metadata": {
  "kernelspec": {
   "display_name": "Python 3 (ipykernel)",
   "language": "python",
   "name": "python3"
  },
  "language_info": {
   "codemirror_mode": {
    "name": "ipython",
    "version": 3
   },
   "file_extension": ".py",
   "mimetype": "text/x-python",
   "name": "python",
   "nbconvert_exporter": "python",
   "pygments_lexer": "ipython3",
   "version": "3.7.16"
  },
  "toc": {
   "base_numbering": 1,
   "nav_menu": {},
   "number_sections": false,
   "sideBar": true,
   "skip_h1_title": false,
   "title_cell": "Table of Contents",
   "title_sidebar": "Contents",
   "toc_cell": false,
   "toc_position": {},
   "toc_section_display": true,
   "toc_window_display": false
  }
 },
 "nbformat": 4,
 "nbformat_minor": 4
}
