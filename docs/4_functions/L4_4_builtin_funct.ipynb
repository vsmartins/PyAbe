{
 "cells": [
  {
   "cell_type": "markdown",
   "source": [
    "# <span style=\"color:black;\">Built-in functions</span>\n",
    "\n",
    "## <span style=\"color:black;\">Overview</span>\n",
    "\n",
    "Python has a many built-in functions, installed with your python interpreter, that are readily available for use in your program.\n",
    "\n",
    "* A comprehensive list of built-in functions and their descriptions: https://docs.python.org/3/library/functions.html\n",
    "\n",
    "| Build-in Function | Meaning |\n",
    "|----------| ---------- |\n",
    "| `print()` | Prints the specified values or variables to the standard output  |\n",
    "| `len()` | Returns the length (number of items) of an object, such as a string, list, or tuple |\n",
    "| `type()` | Returns the type of an object, such as int, float, str, list, etc |\n",
    "| `range()` | Generates a sequence of numbers within a specified range |\n",
    "| `input()` | Reads user input from the console as a string |\n",
    "| `int(), float(), str()` | Convert a value to an integer, float, or string, respectively.|\n",
    "| `sum()` | Returns the sum of all items in an iterable |\n",
    "| `round()` | Rounds a number to a specified precision |\n",
    "| `sorted()` |  Returns a new sorted list from an iterable |\n",
    "| `enumerate()` | Returns an iterator of tuples containing index and value pairs from an iterable |\n",
    "| `zip()` | Returns an iterator of tuples by aggregating elements from multiple iterables |\n",
    "| `map()` | Applies a given function to each item in an iterable and returns an iterator with the results. |\n",
    "\n",
    "\n",
    "## <span style=\"color:black;\">Examples</span>"
   ],
   "metadata": {
    "collapsed": false
   }
  },
  {
   "cell_type": "markdown",
   "source": [
    "`len()`: Finding the length of an object."
   ],
   "metadata": {
    "collapsed": false
   }
  },
  {
   "cell_type": "code",
   "execution_count": null,
   "outputs": [],
   "source": [
    "my_list = [1, 2, 3, 4, 5]\n",
    "length = len(my_list)\n",
    "print(\"Length of the list:\", length)"
   ],
   "metadata": {
    "collapsed": false
   }
  },
  {
   "cell_type": "markdown",
   "source": [
    "`type()`: Determining the type of an object."
   ],
   "metadata": {
    "collapsed": false
   }
  },
  {
   "cell_type": "code",
   "execution_count": null,
   "outputs": [],
   "source": [
    "value = 3.14\n",
    "data_type = type(value)\n",
    "print(\"Data type:\", data_type)"
   ],
   "metadata": {
    "collapsed": false
   }
  },
  {
   "cell_type": "markdown",
   "source": [
    "`range()`: Generating a sequence of numbers."
   ],
   "metadata": {
    "collapsed": false
   }
  },
  {
   "cell_type": "code",
   "execution_count": null,
   "outputs": [],
   "source": [
    "numbers = list(range(1, 100))\n",
    "print(numbers)  # Output: [1, 2, 3, 4, 5]"
   ],
   "metadata": {
    "collapsed": false
   }
  },
  {
   "cell_type": "markdown",
   "source": [
    "`int()`, `float()`, `str()`: Converting values to specific data types."
   ],
   "metadata": {
    "collapsed": false
   }
  },
  {
   "cell_type": "code",
   "execution_count": null,
   "outputs": [],
   "source": [
    "num = \"10\"  # string\n",
    "num_int = int(num)\n",
    "print(num_int + 5)  # Output: 15\n",
    "\n",
    "num_float = float(num)\n",
    "print(num_float / 2)  # Output: 5.0\n",
    "\n",
    "text = str(num)\n",
    "print(text + \" is a number\")  # Output: \"10 is a number\""
   ],
   "metadata": {
    "collapsed": false
   }
  },
  {
   "cell_type": "markdown",
   "source": [
    "`sum()`: Calculating the sum of elements in a list."
   ],
   "metadata": {
    "collapsed": false
   }
  },
  {
   "cell_type": "code",
   "execution_count": null,
   "outputs": [],
   "source": [
    "numbers = [1, 2, 3, 4, 5]\n",
    "total = sum(numbers)\n",
    "print(\"Sum:\", total)"
   ],
   "metadata": {
    "collapsed": false
   }
  },
  {
   "cell_type": "markdown",
   "source": [
    "`enumerate` is a way to get the index and value in the for loop"
   ],
   "metadata": {
    "collapsed": false
   }
  },
  {
   "cell_type": "code",
   "execution_count": null,
   "outputs": [],
   "source": [
    "msu_majors = ['bme', 'cse', 'bse', 'aetb']\n",
    "for i, major in enumerate(msu_majors):  # \"i\" is like a counter, \"major\" is the list element in each interaction\n",
    "    print(i,\" \" + major)"
   ],
   "metadata": {
    "collapsed": false
   }
  }
 ],
 "metadata": {
  "kernelspec": {
   "display_name": "Python 3 (ipykernel)",
   "language": "python",
   "name": "python3"
  },
  "language_info": {
   "codemirror_mode": {
    "name": "ipython",
    "version": 3
   },
   "file_extension": ".py",
   "mimetype": "text/x-python",
   "name": "python",
   "nbconvert_exporter": "python",
   "pygments_lexer": "ipython3",
   "version": "3.7.16"
  },
  "toc": {
   "base_numbering": 1,
   "nav_menu": {},
   "number_sections": false,
   "sideBar": true,
   "skip_h1_title": false,
   "title_cell": "Table of Contents",
   "title_sidebar": "Contents",
   "toc_cell": false,
   "toc_position": {},
   "toc_section_display": true,
   "toc_window_display": false
  }
 },
 "nbformat": 4,
 "nbformat_minor": 4
}
