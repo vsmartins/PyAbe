{
 "cells": [
  {
   "cell_type": "markdown",
   "source": [
    "# <span style=\"color:black;\">Exceptions</span>\n",
    "\n",
    "## <span style=\"color:black;\">Overview</span>\n",
    "\n",
    "Exception is a mechanism to catch and handle errors in your codes. When an exception occurs, Python will normally stop and generate an error message. But, the expection handling can\n",
    "deal with the error proposing an alternative direction on your program.\n",
    "\n",
    "In simple words:\n",
    "- try block lets you test a block of code for errors.\n",
    "- except block lets you handle the error.\n",
    "- else block lets you execute code when there is no error.\n",
    "- finally block lets you execute code, regardless of the result of the try- and except blocks.\n",
    "\n",
    "**General syntax**\n",
    "```python\n",
    "try:\n",
    "    # Code that may raise an exception\n",
    "    # ...\n",
    "except:\n",
    "    # Code to handle the exception of type ExceptionType1\n",
    "    # ...\n",
    "else:\n",
    "    # Code to execute if no exception occurred\n",
    "    # ...\n",
    "finally:\n",
    "    # Code that will always execute, regardless of whether an exception occurred or not\n",
    "    # ...\n",
    "```"
   ],
   "metadata": {
    "collapsed": false
   }
  },
  {
   "cell_type": "markdown",
   "source": [
    "## <span style=\"color:black;\">Example</span>\n",
    "\n",
    "\n",
    "Let's create a try/except code with errors"
   ],
   "metadata": {
    "collapsed": false
   }
  },
  {
   "cell_type": "code",
   "execution_count": null,
   "outputs": [],
   "source": [
    "# Example 1\n",
    "try:\n",
    "    x = 10 / 0  # Division by zero raises a ZeroDivisionError\n",
    "    print(x)  # This line is skipped\n",
    "except ZeroDivisionError:\n",
    "    print(\"Error: Division by zero\")\n",
    "else:\n",
    "    print(\"No exception occurred\")\n",
    "finally:\n",
    "    print(\"Finally block executed\")"
   ],
   "metadata": {
    "collapsed": false
   }
  },
  {
   "cell_type": "code",
   "execution_count": null,
   "outputs": [],
   "source": [
    "# Example 2\n",
    "\n",
    "def validate_student_age(age):\n",
    "    if age < 0:\n",
    "        raise ValueError(\"Age cannot be negative.\")\n",
    "    elif age < 18:\n",
    "        raise ValueError(\"You must be at least 18 years old.\")\n",
    "    else:\n",
    "        print(\"Age is valid.\")\n",
    "\n",
    "user_age = 20\n",
    "try:\n",
    "    validate_student_age(user_age)\n",
    "except ValueError as e:\n",
    "    print(\"Invalid age:\", str(e))\n",
    "else:\n",
    "    print(\"Age verification successful.\")\n",
    "finally:\n",
    "    print(\"Age validation completed.\")"
   ],
   "metadata": {
    "collapsed": false
   }
  }
 ],
 "metadata": {
  "kernelspec": {
   "display_name": "Python 3 (ipykernel)",
   "language": "python",
   "name": "python3"
  },
  "language_info": {
   "codemirror_mode": {
    "name": "ipython",
    "version": 3
   },
   "file_extension": ".py",
   "mimetype": "text/x-python",
   "name": "python",
   "nbconvert_exporter": "python",
   "pygments_lexer": "ipython3",
   "version": "3.7.16"
  },
  "toc": {
   "base_numbering": 1,
   "nav_menu": {},
   "number_sections": false,
   "sideBar": true,
   "skip_h1_title": false,
   "title_cell": "Table of Contents",
   "title_sidebar": "Contents",
   "toc_cell": false,
   "toc_position": {},
   "toc_section_display": true,
   "toc_window_display": false
  }
 },
 "nbformat": 4,
 "nbformat_minor": 4
}
